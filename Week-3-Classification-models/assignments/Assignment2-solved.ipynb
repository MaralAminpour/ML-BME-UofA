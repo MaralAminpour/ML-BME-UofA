{
 "cells": [
  {
   "cell_type": "markdown",
   "id": "d8fbfd44-e17d-4f20-a443-13584ff5fbb8",
   "metadata": {},
   "source": [
    "# Assignment 2\n",
    "# Classification with Scikit-Learn\n",
    "\n",
    "## Deadline: Thursday, October 12 at 8:00 PM\n",
    "## The assignment must be submitted in the form of a Jupyter notebook and uploaded to eClass.\n",
    "\n",
    "During this assignment, you will work with a dataset to predict if a patient has heart disease or is normal. It is a binary classification problem. The dataset is the same dataset as for assignment 1, but you do not need to use any code from assignment 1 to solve this assignment. This is based on the following Kaggle example, which you are free to examine: https://www.kaggle.com/code/pasanjayaweera/you-stole-my-heart-w-python\n",
    "\n",
    "## Marks:\n",
    "- Step 1. Load the data and create a feature matrix and a target array. 1 mark. (It is not required to filter or impute any data values. But optionally you may use your code from assignment 1 to do so here, but it is not required to do so to receive full marks.)\n",
    "- Step 2. Create training and test sets. 1 mark.\n",
    "- For the next three steps, select three different machine learning classifiers implemented in Scikit-Learn. You can select from linear perceptron classifier, logistic regression classifier, any type of support vector classifiers (including with the kernel trick), a decision tree and/or a random forest). You may also use any other classifier introduced in the course.\n",
    "- Step 3. Train the first model, then evaluate the performance using at least accuracy, specificity and sensitivity (or recall). Visualize the confusion matrix (with Matplotlib or Seaborn). 2 marks.\n",
    "- Step 4. Repeat step 3 for the second model. 2 marks.\n",
    "- Step 5. Repeat step 3 for the third model. 2 marks.\n",
    "- Step 6. Provide a brief discussion on why you selected particular models, how the performance varied between models, which model you believe is the most generalizable, and any issues or problems you encountered during the assignment (200 words max). 2 mark.\n",
    "- Total = 10 marks.\n",
    "\n",
    "## Notes:\n",
    "This notebook is structured as a series of steps. Earlier steps must be completed before later steps for the code to run. Some partial code is provided; your solution should use that partial code. The solution doesn't need to be pretty! Make sure the code runs without errors. Some required imports will be provided for you; you will need additional imports from sklearn. You may need to check with the documentation for Scikit-Learn or other Python packages. There are multiple solutions for most tasks. You may need to use non-default input parameters for some classifiers to work with this dataset."
   ]
  },
  {
   "cell_type": "code",
   "execution_count": 1,
   "id": "54685ea4-713b-426c-ad5a-83fb209613ef",
   "metadata": {},
   "outputs": [],
   "source": [
    "# Imports\n",
    "import numpy as np\n",
    "import pandas as pd\n",
    "import matplotlib.pyplot as plt\n",
    "import seaborn as sns\n",
    "%matplotlib inline"
   ]
  },
  {
   "cell_type": "code",
   "execution_count": 2,
   "id": "d3d97382-b0a6-4632-9f29-054bf747b6a9",
   "metadata": {},
   "outputs": [],
   "source": [
    "# This code will download the data file from GitHub.\n",
    "\n",
    "import requests\n",
    "\n",
    "def download_data(source, dest):\n",
    "    base_url = 'https://raw.githubusercontent.com/'\n",
    "    owner = 'MaralAminpour'\n",
    "    repo = 'ML-BME-Course-UofA-Fall-2023'\n",
    "    branch = 'main'\n",
    "    url = '{}/{}/{}/{}/{}'.format(base_url, owner, repo, branch, source)\n",
    "    r = requests.get(url)\n",
    "    f = open(dest, 'wb')\n",
    "    f.write(r.content)\n",
    "    f.close()\n",
    "\n",
    "download_data('Assignments/data/heart.csv', 'heart.csv')"
   ]
  },
  {
   "cell_type": "markdown",
   "id": "887a678d-0076-4d01-905e-37f3325d9329",
   "metadata": {},
   "source": [
    "## Data dictionary\n",
    "\n",
    "The following data dictionary is provided. Note that unlike in Assignment 1, you can use the full set of features. There are 11 features.\n",
    "\n",
    "  1. Age - Age of the Patient - **Numerical**\n",
    "  2. Sex - Gender of the Patient - **Categorical**\n",
    "        * M - Male\n",
    "        * F - Female\n",
    "  3. ChestPainType - Chest Pain Type - **Categorical**\n",
    "        * TA - [Typical Angina](https://www.ncbi.nlm.nih.gov/pmc/articles/PMC5680106) - Substernal chest pain precipitated by physical exertion or emotional stress\n",
    "        * ATA - [ATypical Angina](https://www.ncbi.nlm.nih.gov/medgen/149267) Angina pectoris which does not have associated classical symptoms of chest pain. Symptoms - weakness, nausea, or sweating\n",
    "        * NAP - [Non-Anginal Chest Pain](https://my.clevelandclinic.org/health/diseases/15851-gerd-non-cardiac-chest-pain) - Pain in the chest that is NOT caused by Heart Disease or Heart Attack\n",
    "        * ASY - [Asymptomatic](https://www.mayoclinic.org/diseases-conditions/heart-attack/expert-answers/silent-heart-attack/faq-20057777) - No symptoms\n",
    "  4. RestingBP - [Resting Blood Pressure (mm/Hg)](https://www.medicinenet.com/blood_pressure_chart_reading_by_age/article.htm) - **Numerical**\n",
    "  5. Cholesterol - [Serum Cholesterol (mm/dl)](https://www.medicalnewstoday.com/articles/321519) - **Numerical**\n",
    "  6. FastingBS - [Fasting Blood Sugar](https://www.mayoclinic.org/diseases-conditions/diabetes/diagnosis-treatment/drc-20371451) - **Categorical (1: if FastingBS > 120 mg/dl, 0: otherwise)**\n",
    "  7. RestingECG - Resting ElectroCardiogram Results - **Categorical**\n",
    "        * Normal - [Normal ECG Reading](https://ecgwaves.com/topic/ecg-normal-p-wave-qrs-complex-st-segment-t-wave-j-point/) \n",
    "        * ST - [Abnormality in ST-T Wave Part of ECG](https://www.healio.com/cardiology/learn-the-heart/ecg-review/ecg-interpretation-tutorial/68-causes-of-t-wave-st-segment-abnormalities) \n",
    "        * LVH - [Probable or definite Left Ventricular hypertrophy](https://www.healio.com/cardiology/learn-the-heart/ecg-review/ecg-interpretation-tutorial/68-causes-of-t-wave-st-segment-abnormalities) \n",
    "  8. MaxHR - Maximum Heart Rate Achieved (60-202) - **Numeric**\n",
    "  9. ExerciseAngina - [Exercise Induced Angina](https://www.mayoclinic.org/diseases-conditions/angina/symptoms-causes/syc-20369373) - When your heart wants more blood, but narrowed arteries slow down the blood flow - **Categorical (Yes/No)**\n",
    "  10. Oldpeak - [ST Depression](https://en.wikipedia.org/wiki/ST_depression) - **Numerical**\n",
    "  11. ST_Slope - [Slope](https://pubmed.ncbi.nlm.nih.gov/3739881/) of the peak exercise ST Segment - **Categorical**\n",
    "        * Up - Upward Slope\n",
    "        * Flat - Slope is zero\n",
    "        * Down - Downward Slope\n",
    "  12. HeartDisease - Output Class - **Categorical (1: Heart Disease, 0: Normal)**"
   ]
  },
  {
   "cell_type": "code",
   "execution_count": 3,
   "id": "5b24adc1-37cf-4704-afe3-a9631d01a5f2",
   "metadata": {},
   "outputs": [
    {
     "name": "stdout",
     "output_type": "stream",
     "text": [
      "X.shape = (918, 15)\n",
      "y.shape = (918,)\n"
     ]
    }
   ],
   "source": [
    "# Step 1. Load the data and create a feature matrix and a target array. 1 mark.\n",
    "#   (It is not required to filter or impute any data values. \n",
    "#   But optionally you may use your code from assignment 1 to do so here, \n",
    "#   but it is not required to do so to receive full marks.)\n",
    "\n",
    "# The downloaded file heart.csv contains data in a CSV (comma-separated values) formatted text file.\n",
    "\n",
    "heart_data = pd.read_csv('heart.csv')\n",
    "heart_data.head()\n",
    "\n",
    "# For the categorical values, it is recommended to use one-hot encoding.\n",
    "# You can use code similar to the following to one-hot encode the categorical values as one-hot values:\n",
    "# X = heart_data.get_dummies(X, columns=['ColumnName1', 'ColumnName2'], drop_first=True)\n",
    "\n",
    "# Add your code here.\n",
    "\n",
    "# Version 1\n",
    "# From assignment 1\n",
    "#X = heart_data[['Age', 'Sex', 'ChestPainType', 'RestingBP', 'Cholesterol', 'FastingBS', 'RestingECG', 'MaxHR', 'ExerciseAngina', 'Oldpeak', 'ST_Slope']]\n",
    "#y = heart_data[['HeartDisease']]\n",
    "\n",
    "# Version 2\n",
    "# From you stole my heart\n",
    "X = heart_data.iloc[:,0:-1]\n",
    "y = heart_data.iloc[:,-1]\n",
    "X = pd.get_dummies(X, columns=['Sex', 'ChestPainType', 'FastingBS',\n",
    "                                       'RestingECG', 'ExerciseAngina', 'ST_Slope'], drop_first=True)\n",
    "\n",
    "# Version 3\n",
    "# From class notebooks\n",
    "#heart_data_array = heart_data.to_numpy()\n",
    "#X = heart_data_array[:,0:-1]\n",
    "#y = heart_data_array[:,-1]\n",
    "\n",
    "print('X.shape =', X.shape)\n",
    "print('y.shape =', y.shape)"
   ]
  },
  {
   "cell_type": "code",
   "execution_count": 4,
   "id": "e041bc21-7231-4307-bdb6-f2d3ee79d6a5",
   "metadata": {},
   "outputs": [
    {
     "name": "stdout",
     "output_type": "stream",
     "text": [
      "X_train.shape = (734, 15)\n",
      "X_test.shape = (184, 15)\n",
      "y_train.shape = (734,)\n",
      "y_test.shape = (184,)\n"
     ]
    }
   ],
   "source": [
    "# Step 2. Create training and test sets. 1 mark.\n",
    "\n",
    "# Add your code here.\n",
    "\n",
    "from sklearn.model_selection import train_test_split\n",
    "\n",
    "X_train, X_test, y_train, y_test = train_test_split(X, y, test_size=0.20, random_state=0)\n",
    "\n",
    "print('X_train.shape =', X_train.shape)\n",
    "print('X_test.shape =', X_test.shape)\n",
    "print('y_train.shape =', y_train.shape)\n",
    "print('y_test.shape =', y_test.shape)"
   ]
  },
  {
   "cell_type": "markdown",
   "id": "11c07e49-170f-4482-94c6-fb02f4b28cfd",
   "metadata": {},
   "source": [
    "- For the next three steps, select three different machine learning classifiers implemented in Scikit-Learn. You can select from linear perceptron classifier, logistic regression classifier, any type of support vector classifiers (including with the kernel trick), a decision tree and/or a random forest). You may also use any other classifier introduced in the course.\n"
   ]
  },
  {
   "cell_type": "code",
   "execution_count": 5,
   "id": "bdaa8e2e-67ff-43d2-aa52-215eb22f7b04",
   "metadata": {},
   "outputs": [],
   "source": [
    "# Helper function to evaluate the models; the students can use a similar function,\n",
    "#   or simply replicate the code\n",
    "def EvaluateModel(model, X_train, X_test, y_train, y_test):\n",
    "\n",
    "    from sklearn.metrics import classification_report\n",
    "    from sklearn.metrics import confusion_matrix\n",
    "    \n",
    "    # Calculate and print classification report for the training set\n",
    "    y_train_pred = model.predict(X_train)\n",
    "    print('Classification report for training set:')\n",
    "    print(classification_report(y_train, y_train_pred))\n",
    "\n",
    "    # Calculate and print classification report for the test set\n",
    "    y_test_pred = model.predict(X_test)\n",
    "    print('Classfication report for test set:')\n",
    "    print(classification_report(y_test, y_test_pred))\n",
    "\n",
    "    plt.figure(figsize=(6,3))\n",
    "\n",
    "    # Display the confusion matrix for the training set\n",
    "    plt.subplot(121)\n",
    "    cm_train = confusion_matrix(y_train, y_train_pred)\n",
    "    sns.heatmap(cm_train, annot=True)\n",
    "    plt.title('Training set')\n",
    "    plt.xlabel('Predicted values')\n",
    "    plt.ylabel('True values')\n",
    "   \n",
    "    # Display the confusion matrix for the test set\n",
    "    plt.subplot(122)\n",
    "    cm_test = confusion_matrix(y_test, y_test_pred)\n",
    "    sns.heatmap(cm_test, annot=True)\n",
    "    plt.title('Test set')\n",
    "    plt.xlabel('Predicted values')\n",
    "    plt.ylabel('True values')\n",
    "   \n",
    "    plt.tight_layout()\n",
    "    plt.show()"
   ]
  },
  {
   "cell_type": "code",
   "execution_count": 6,
   "id": "ea44e063-906f-4161-9b25-c7a44cbc4b52",
   "metadata": {},
   "outputs": [
    {
     "name": "stdout",
     "output_type": "stream",
     "text": [
      "Classification report for training set:\n",
      "              precision    recall  f1-score   support\n",
      "\n",
      "           0       0.86      0.78      0.82       333\n",
      "           1       0.83      0.89      0.86       401\n",
      "\n",
      "    accuracy                           0.84       734\n",
      "   macro avg       0.84      0.84      0.84       734\n",
      "weighted avg       0.84      0.84      0.84       734\n",
      "\n",
      "Classfication report for test set:\n",
      "              precision    recall  f1-score   support\n",
      "\n",
      "           0       0.77      0.71      0.74        77\n",
      "           1       0.81      0.85      0.83       107\n",
      "\n",
      "    accuracy                           0.79       184\n",
      "   macro avg       0.79      0.78      0.79       184\n",
      "weighted avg       0.79      0.79      0.79       184\n",
      "\n"
     ]
    },
    {
     "data": {
      "image/png": "[encoded data removed]",
      "text/plain": [
       "<Figure size 600x300 with 4 Axes>"
      ]
     },
     "metadata": {},
     "output_type": "display_data"
    }
   ],
   "source": [
    "# Step 3. Train the first model, then evaluate the performance using at least accuracy, \n",
    "#   sensitivity (a.k.a. recall on class = 1) and specificity (a.k.a. recall for classs 0).\n",
    "#   Display the confusion matrix. 2 marks.\n",
    "\n",
    "# Add your code here.\n",
    "\n",
    "from sklearn.ensemble import RandomForestClassifier\n",
    "forest_model = RandomForestClassifier(n_estimators=100, max_depth=2, random_state=0)\n",
    "forest_model.fit(X_train, y_train)\n",
    "EvaluateModel(forest_model, X_train, X_test, y_train, y_test)"
   ]
  },
  {
   "cell_type": "code",
   "execution_count": 7,
   "id": "91eefa1d-55d8-45e0-a50e-09434c917ead",
   "metadata": {},
   "outputs": [
    {
     "name": "stdout",
     "output_type": "stream",
     "text": [
      "Classification report for training set:\n",
      "              precision    recall  f1-score   support\n",
      "\n",
      "           0       0.88      0.86      0.87       333\n",
      "           1       0.89      0.91      0.90       401\n",
      "\n",
      "    accuracy                           0.88       734\n",
      "   macro avg       0.88      0.88      0.88       734\n",
      "weighted avg       0.88      0.88      0.88       734\n",
      "\n",
      "Classfication report for test set:\n",
      "              precision    recall  f1-score   support\n",
      "\n",
      "           0       0.85      0.74      0.79        77\n",
      "           1       0.83      0.91      0.87       107\n",
      "\n",
      "    accuracy                           0.84       184\n",
      "   macro avg       0.84      0.82      0.83       184\n",
      "weighted avg       0.84      0.84      0.83       184\n",
      "\n"
     ]
    },
    {
     "data": {
      "image/png": "[encoded data removed]",
      "text/plain": [
       "<Figure size 600x300 with 4 Axes>"
      ]
     },
     "metadata": {},
     "output_type": "display_data"
    }
   ],
   "source": [
    "# Step 4. Repeat step 3 for the second model. 2 marks.\n",
    "\n",
    "# Add your code here.\n",
    "\n",
    "from sklearn.linear_model import LogisticRegression\n",
    "logreg_model = LogisticRegression(max_iter=1000, random_state=0)\n",
    "logreg_model.fit(X_train, y_train)\n",
    "EvaluateModel(logreg_model, X_train, X_test, y_train, y_test)"
   ]
  },
  {
   "cell_type": "code",
   "execution_count": 8,
   "id": "5ad0736e-388b-49db-9624-4f01759300e6",
   "metadata": {},
   "outputs": [],
   "source": [
    "# Step 5. Repeat step 3 for the third model. 2 marks.\n",
    "\n",
    "# Add your code here.\n",
    "\n"
   ]
  },
  {
   "cell_type": "markdown",
   "id": "a3430fe9-c1c2-4181-8809-537912b69e97",
   "metadata": {},
   "source": [
    "_Step 6. Provide a brief discussion on why you selected particular models, how the performance varied between models, which model you believe is the most generalizable, and any issues or problems you encountered during the assignment (200 words max). 2 mark._\n",
    "\n",
    "**Add your text here**"
   ]
  }
 ],
 "metadata": {
  "kernelspec": {
   "display_name": "Python 3 (ipykernel)",
   "language": "python",
   "name": "python3"
  },
  "language_info": {
   "codemirror_mode": {
    "name": "ipython",
    "version": 3
   },
   "file_extension": ".py",
   "mimetype": "text/x-python",
   "name": "python",
   "nbconvert_exporter": "python",
   "pygments_lexer": "ipython3",
   "version": "3.11.4"
  }
 },
 "nbformat": 4,
 "nbformat_minor": 5
}
