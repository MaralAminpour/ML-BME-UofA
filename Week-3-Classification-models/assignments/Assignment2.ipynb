{
 "cells": [
  {
   "cell_type": "markdown",
   "id": "3b9fe908-9932-4a9c-892d-6f546020bb05",
   "metadata": {},
   "source": [
    "# Assignment 2\n",
    "# Classification with Scikit-Learn\n",
    "\n",
    "## Deadline: Thursday, October 12 at 8:00 PM\n",
    "## The assignment must be submitted in the form of a Jupyter notebook and uploaded to eClass.\n",
    "\n",
    "During this assignment, you will work with a dataset to predict if a patient has heart disease or does not have have heart disease (i.e., the patient is \"normal\"). It is a binary classification problem. The dataset is the same dataset as for assignment 1, but you do not need to use any code from assignment 1 to solve this assignment. This is based on the following Kaggle example, which you are free to examine: https://www.kaggle.com/code/pasanjayaweera/you-stole-my-heart-w-python\n",
    "\n",
    "## Marks:\n",
    "- Step 1. Load the data and create a feature matrix and a target array. 1 mark. (It is not required to filter or impute any data values. Optionally you may use your code from assignment 1 to do so here; but it is not required to do so to receive full marks.)\n",
    "- Step 2. Create training and test sets. 1 mark.\n",
    "- For the next three steps, select three different machine learning classifiers implemented in Scikit-Learn. You can select from linear perceptron classifier, logistic regression classifier, any type of support vector classifiers (including with the kernel trick), a decision tree and/or a random forest. You may also use any other classifier introduced in the course.\n",
    "- Step 3. Train the first model, then evaluate the performance using at least accuracy, sensitivity (a.k.a. recall on class = 1) and specificity (a.k.a. recall for classs 0). Also, display the confusion matrix with Matplotlib or Seaborn. Any other visualizations of the model are optional. 2 marks.\n",
    "- Step 4. Repeat step 3 for the second model. 2 marks.\n",
    "- Step 5. Repeat step 3 for the third model. 2 marks.\n",
    "- Step 6. Provide a brief discussion on why you selected particular models, how the performance varied between models, which model you believe is the most generalizable, and any issues or problems you encountered during the assignment (200 words max). 2 mark.\n",
    "- Total = 10 marks.\n",
    "\n",
    "## Notes:\n",
    "This notebook is structured as a series of steps. Earlier steps must be completed before later steps for the code to run. Some partial code is provided; your solution should use that partial code. The solution doesn't need to be pretty! Make sure the code runs without errors. Some required imports will be provided for you; you will need additional imports from sklearn. You may need to check with the documentation for Scikit-Learn or other Python packages. There are multiple solutions for most tasks. Feel free to write reusable functions to share among steps; however, this is not required."
   ]
  },
  {
   "cell_type": "code",
   "execution_count": null,
   "id": "cacde479-b54c-4c3d-bcf9-34047d22762e",
   "metadata": {},
   "outputs": [],
   "source": [
    "# Imports\n",
    "import numpy as np\n",
    "import pandas as pd\n",
    "import matplotlib.pyplot as plt\n",
    "%matplotlib inline"
   ]
  },
  {
   "cell_type": "code",
   "execution_count": null,
   "id": "81254ffe-a179-45f8-8211-75068b83afe2",
   "metadata": {},
   "outputs": [],
   "source": [
    "# This code will download the data file from GitHub.\n",
    "\n",
    "import requests\n",
    "\n",
    "def download_data(source, dest):\n",
    "    base_url = 'https://raw.githubusercontent.com/'\n",
    "    owner = 'MaralAminpour'\n",
    "    repo = 'ML-BME-Course-UofA-Fall-2023'\n",
    "    branch = 'main'\n",
    "    url = '{}/{}/{}/{}/{}'.format(base_url, owner, repo, branch, source)\n",
    "    r = requests.get(url)\n",
    "    f = open(dest, 'wb')\n",
    "    f.write(r.content)\n",
    "    f.close()\n",
    "\n",
    "download_data('Assignments/data/heart.csv', 'heart.csv')"
   ]
  },
  {
   "cell_type": "markdown",
   "id": "665e9314-9ffe-44a1-b946-6fdce5fd5339",
   "metadata": {},
   "source": [
    "## Data dictionary\n",
    "\n",
    "The following data dictionary is provided. Note that unlike in Assignment 1, you can use the full set of features. There are 11 features.\n",
    "\n",
    "  1. Age - Age of the Patient - **Numerical**\n",
    "  2. Sex - Gender of the Patient - **Categorical**\n",
    "        * M - Male\n",
    "        * F - Female\n",
    "  3. ChestPainType - Chest Pain Type - **Categorical**\n",
    "        * TA - [Typical Angina](https://www.ncbi.nlm.nih.gov/pmc/articles/PMC5680106) - Substernal chest pain precipitated by physical exertion or emotional stress\n",
    "        * ATA - [ATypical Angina](https://www.ncbi.nlm.nih.gov/medgen/149267) Angina pectoris which does not have associated classical symptoms of chest pain. Symptoms - weakness, nausea, or sweating\n",
    "        * NAP - [Non-Anginal Chest Pain](https://my.clevelandclinic.org/health/diseases/15851-gerd-non-cardiac-chest-pain) - Pain in the chest that is NOT caused by Heart Disease or Heart Attack\n",
    "        * ASY - [Asymptomatic](https://www.mayoclinic.org/diseases-conditions/heart-attack/expert-answers/silent-heart-attack/faq-20057777) - No symptoms\n",
    "  4. RestingBP - [Resting Blood Pressure (mm/Hg)](https://www.medicinenet.com/blood_pressure_chart_reading_by_age/article.htm) - **Numerical**\n",
    "  5. Cholesterol - [Serum Cholesterol (mm/dl)](https://www.medicalnewstoday.com/articles/321519) - **Numerical**\n",
    "  6. FastingBS - [Fasting Blood Sugar](https://www.mayoclinic.org/diseases-conditions/diabetes/diagnosis-treatment/drc-20371451) - **Categorical (1: if FastingBS > 120 mg/dl, 0: otherwise)**\n",
    "  7. RestingECG - Resting ElectroCardiogram Results - **Categorical**\n",
    "        * Normal - [Normal ECG Reading](https://ecgwaves.com/topic/ecg-normal-p-wave-qrs-complex-st-segment-t-wave-j-point/) \n",
    "        * ST - [Abnormality in ST-T Wave Part of ECG](https://www.healio.com/cardiology/learn-the-heart/ecg-review/ecg-interpretation-tutorial/68-causes-of-t-wave-st-segment-abnormalities) \n",
    "        * LVH - [Probable or definite Left Ventricular hypertrophy](https://www.healio.com/cardiology/learn-the-heart/ecg-review/ecg-interpretation-tutorial/68-causes-of-t-wave-st-segment-abnormalities) \n",
    "  8. MaxHR - Maximum Heart Rate Achieved (60-202) - **Numeric**\n",
    "  9. ExerciseAngina - [Exercise Induced Angina](https://www.mayoclinic.org/diseases-conditions/angina/symptoms-causes/syc-20369373) - When your heart wants more blood, but narrowed arteries slow down the blood flow - **Categorical (Yes/No)**\n",
    "  10. Oldpeak - [ST Depression](https://en.wikipedia.org/wiki/ST_depression) - **Numerical**\n",
    "  11. ST_Slope - [Slope](https://pubmed.ncbi.nlm.nih.gov/3739881/) of the peak exercise ST Segment - **Categorical**\n",
    "        * Up - Upward Slope\n",
    "        * Flat - Slope is zero\n",
    "        * Down - Downward Slope\n",
    "  12. HeartDisease - Output Class - **Categorical (1: Heart Disease, 0: Normal)**"
   ]
  },
  {
   "cell_type": "code",
   "execution_count": null,
   "id": "8fe53478-9a0f-49b9-bf47-fdce378f5304",
   "metadata": {},
   "outputs": [],
   "source": [
    "# Step 1. Load the data and create a feature matrix and a target array. 1 mark.\n",
    "#   (It is not required to filter or impute any data values. \n",
    "#   But optionally you may use your code from assignment 1 to do so here, \n",
    "#   but it is not required to do so to receive full marks.)\n",
    "\n",
    "# The downloaded file heart.csv contains data in a CSV (comma-separated values) formatted text file.\n",
    "\n",
    "heart_data = pd.read_csv('heart.csv')\n",
    "heart_data.head()\n",
    "\n",
    "# For the categorical values, it is recommended to use one-hot encoding.\n",
    "# You can use code similar to the following to one-hot encode the categorical values as one-hot values:\n",
    "# X = heart_data.get_dummies(X, columns=['ColumnName1', 'ColumnName2'], drop_first=True)\n",
    "\n",
    "# Add your code here.\n",
    "\n"
   ]
  },
  {
   "cell_type": "code",
   "execution_count": null,
   "id": "e26ce919-6e72-4836-a1fd-cf589387be3a",
   "metadata": {},
   "outputs": [],
   "source": [
    "# Step 2. Create training and test sets. 1 mark.\n",
    "\n",
    "# Add your code here."
   ]
  },
  {
   "cell_type": "markdown",
   "id": "8d700c3b-2d8a-4312-9784-fdc6c301d5bc",
   "metadata": {},
   "source": [
    "- For the next three steps, select three different machine learning classifiers implemented in Scikit-Learn. You can select from linear perceptron classifier, logistic regression classifier, any type of support vector classifiers (including with the kernel trick), a decision tree and/or a random forest). You may also use any other classifier introduced in the course.\n"
   ]
  },
  {
   "cell_type": "code",
   "execution_count": null,
   "id": "4e4ba858-0ed9-451d-9c10-25d245a761a5",
   "metadata": {},
   "outputs": [],
   "source": [
    "# Step 3. Train the first model, then evaluate the performance using at least: accuracy,\n",
    "#   sensitivity (a.k.a. recall on class = 1) and specificity (a.k.a. recall for class = 0).\n",
    "#   Also, display the confusion matrix with Matplotlib or Seaborn. 2 marks.\n",
    "\n",
    "# Add your code here."
   ]
  },
  {
   "cell_type": "code",
   "execution_count": null,
   "id": "9bb8177b-1644-4155-afb2-04ce0c296ed0",
   "metadata": {},
   "outputs": [],
   "source": [
    "# Step 4. Repeat step 3 for the second model. 2 marks.\n",
    "\n",
    "# Add your code here."
   ]
  },
  {
   "cell_type": "code",
   "execution_count": null,
   "id": "5bc126de-258e-4e4c-a2e0-11c27ed87dbf",
   "metadata": {},
   "outputs": [],
   "source": [
    "# Step 5. Repeat step 3 for the third model. 2 marks.\n",
    "\n",
    "# Add your code here."
   ]
  },
  {
   "cell_type": "markdown",
   "id": "5446143d-ceba-4485-86ba-97a69090f717",
   "metadata": {},
   "source": [
    "_Step 6. Provide a brief discussion on why you selected particular models, how the performance varied between models, which model you believe is the most generalizable, and any issues or problems you encountered during the assignment (200 words max). 2 mark._\n",
    "\n",
    "**Add your text here**"
   ]
  }
 ],
 "metadata": {
  "kernelspec": {
   "display_name": "Python 3 (ipykernel)",
   "language": "python",
   "name": "python3"
  },
  "language_info": {
   "codemirror_mode": {
    "name": "ipython",
    "version": 3
   },
   "file_extension": ".py",
   "mimetype": "text/x-python",
   "name": "python",
   "nbconvert_exporter": "python",
   "pygments_lexer": "ipython3",
   "version": "3.11.4"
  }
 },
 "nbformat": 4,
 "nbformat_minor": 5
}
