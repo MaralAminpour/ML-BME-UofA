{
 "cells": [
  {
   "cell_type": "markdown",
   "metadata": {
    "id": "t_H8Td7XaPLh"
   },
   "source": [
    "# Convolutional Neural Networks in Pytorch\n",
    "\n",
    "The aim of this tutorial is to extend on what you learnt in week 9, on basic Pytorch syntax for fully connected networks, and apply this to coding simple convolutional neural networks, or CNNs\n",
    "\n",
    "## Getting Started\n",
    "\n",
    "First, let's set up the notebook for deep learning#\n",
    "\n",
    "1. Make sure you are using colab\n",
    "2. Set Runtime to GPU\n",
    "3. Mount your drive using the steps below"
   ]
  },
  {
   "cell_type": "code",
   "execution_count": null,
   "metadata": {
    "colab": {
     "base_uri": "https://localhost:8080/"
    },
    "id": "l39yKxBWtrZg",
    "outputId": "dff5a5d1-4d9c-4147-9321-12ad056b3049"
   },
   "outputs": [
    {
     "name": "stdout",
     "output_type": "stream",
     "text": [
      "Mounted at /content/drive\n"
     ]
    }
   ],
   "source": [
    "\n",
    "from google.colab import drive\n",
    "drive.mount('/content/drive')"
   ]
  },
  {
   "cell_type": "markdown",
   "metadata": {
    "id": "7s4d6dkau7kL"
   },
   "source": [
    "4. Import pytorch and all the libraries you will need"
   ]
  },
  {
   "cell_type": "code",
   "execution_count": null,
   "metadata": {
    "id": "43XjRZ0Bu754"
   },
   "outputs": [],
   "source": [
    "import matplotlib.pyplot as plt\n",
    "from PIL import Image\n",
    "\n",
    "import tarfile\n",
    "import zipfile\n",
    "from pathlib import Path\n",
    "\n",
    "import pandas as pd\n",
    "import io\n",
    "import os\n",
    "import time \n",
    "\n",
    "import numpy as np\n",
    "import torch\n",
    "import torch.nn as nn\n",
    "import torch.nn.functional as F \n",
    "import torch.optim as optim\n",
    "\n"
   ]
  },
  {
   "cell_type": "markdown",
   "metadata": {
    "id": "JxOudnostsac"
   },
   "source": [
    "## Building blocks\n",
    "\n",
    "The basic components of a convolutional neural networks are convolutional layers and downsampling operations. In this notebook we will downsample through max pooling.\n",
    "\n",
    "### Convolutions\n",
    "\n",
    "The convolutional operation works similarly to what you have previously seen for hand engineered localised feature descriptors (week 8) such as the Gray level co-occurrence matrix and Sobel, Laplacian and Gaussian filters.\n",
    "\n",
    "These work by translating a hand engineered filter kernel across an image, at each position, multiplying each element of the filter with the element of the image that they overlap with. This operation is shown below for the vertical sobel edge filter, for the first filter location:\n",
    "\n",
    "<img src=\"https://drive.google.com/uc?id=1gb2QaE8lW6GgNFwCEk5mJqP0Uo91xxn8\" alt=\"Drawing\" style=\"width: 100px;\"/>\n",
    "\n",
    "The second (translated one step to the right)\n",
    "\n",
    "<img src=\"https://drive.google.com/uc?id=1gcsv7870kjTCwnUV043k2u4iM2uydzBn\" alt=\"Drawing\" style=\"width: 100px;\"/>\n",
    "\n",
    "This continues until the filter has been fit at all possible locations in the image. Until the final output of the convolution is another image:\n",
    "\n",
    "<img src=\"https://drive.google.com/uc?id=1geRXevPNs_sSMeKWyEnEEKFszz3ptqcV\" alt=\"Drawing\" style=\"width: 100px;\"/>\n",
    "\n",
    "This will be slightly smaller than the input image by default, since it corresponds to all locations in the input image on which the filter can be centered. This excludes the outer rows and columns of the image.\n",
    "\n",
    "By default however, Pytorch will return you an image of the same size by using padding:\n",
    "\n",
    "<img src=\"https://drive.google.com/uc?id=1ggS0vucaH_mM9X1aBTRX4lSEDnZlmyZg\" alt=\"Drawing\" style=\"width: 100px;\"/>\n",
    "\n",
    "**The key difference between CNNs and traditional filters is that CNNs learn the best filters for a specific feature recognition problem, whereas traditional feature detectors are hand engineered**\n",
    "\n",
    "### Max pooling\n",
    "\n",
    "The next most important component of a CNN is downsampling. Downsampling allows a CNN to increase its _receptive field_ :\n",
    "\n",
    "<img src=\"https://drive.google.com/uc?id=1gV1ZqsV5JGkWys5H0bDcnw9pgR-EYtvf\" alt=\"Drawing\" style=\"width: 100px;\"/>\n",
    "\n",
    "<img src=\"https://drive.google.com/uc?id=1gYKvI9ULXFhdyHSGp4XoUmyMFmCijbsI\" alt=\"Drawing\" style=\"width: 100px;\"/>\n",
    "\n",
    "As you saw in the previous section the filters themselves are small. The only way the network can 'see' the full context of the image is by aggregating aceoss layers, and by downsampling at regular intervals. In this way, as you go through the network the filters will learn more and more complex textures, at larger scales, until they can recognise whole objects.\n",
    "\n"
   ]
  },
  {
   "cell_type": "markdown",
   "metadata": {
    "id": "xtiZFWBCknar"
   },
   "source": [
    "## Coding CNNs in Pytorch\n",
    "\n",
    "You already saw last week how to set up a basic fullly connected network, choose a cost function and write a training loop. All this stays the same for CNNs. All you need in addition is convolutional and max pool layers.\n",
    "\n",
    "Where in PyTorch, A 2D convolution class is defined within the `torch.nn` module as follows:\n",
    "\n",
    "<img src=\"https://drive.google.com/uc?id=12hvQSk-kCsPWTnEE16KKPkA0zo1R3Wzc\" alt=\"Drawing\" style=\"width: 800px;\"/>\n",
    "\n",
    "And the maxpool function in pytorch is [```nn.MaxPool2d```](https://pytorch.org/docs/stable/nn.html?highlight=maxpool#torch.nn.MaxPool2d)."
   ]
  },
  {
   "cell_type": "markdown",
   "metadata": {
    "id": "haicmhGukw4L"
   },
   "source": [
    "## Exercise 1 - MedMNIST Example\n",
    "\n",
    "In this first example we will use a dataset known as MedMNIST. It's name is inspired by the MNIST dataset, which was the original benchmark used to train CNNs. MNIST contains a large dataset of images handwritten digits (0-9). MedNIST collates several X-Ray datasets and standardizes them to the same size. In this example, we e will select hand images, chest CT images, abdomen CT images and the head CT images, only. Each class has 10000 images. We will use 800 for train, the following 100 for validation and 100 for test\n",
    "\n",
    "Let's first download the data set\n",
    "\n",
    "** 1.1 To do** \n",
    "- run all these code blocks and check you understand what they are doing\n",
    "- import - note setting device\n",
    "- pushing network and data to device\n",
    "- converting data to torch tensors of correct types\n",
    "- shape of network layers\n",
    "-  choosing suitable losses\n"
   ]
  },
  {
   "cell_type": "markdown",
   "metadata": {
    "id": "w15ZYbd8LAxC"
   },
   "source": [
    "Make sure to check which device you are running on - should be GPU"
   ]
  },
  {
   "cell_type": "code",
   "execution_count": null,
   "metadata": {
    "colab": {
     "base_uri": "https://localhost:8080/"
    },
    "id": "wj_NYtkRMyIY",
    "outputId": "bedb1863-db24-4eea-858d-5229116ff2a9"
   },
   "outputs": [
    {
     "name": "stdout",
     "output_type": "stream",
     "text": [
      "cuda\n"
     ]
    }
   ],
   "source": [
    "# will allow network to run on GPU\n",
    "device = torch.device(\"cuda\" if torch.cuda.is_available() else \"cpu\")\n",
    "torch.cuda.empty_cache()\n",
    "print(device)"
   ]
  },
  {
   "cell_type": "markdown",
   "metadata": {
    "id": "bUu3KB-2O1Zb"
   },
   "source": [
    "Then download the data"
   ]
  },
  {
   "cell_type": "code",
   "execution_count": null,
   "metadata": {
    "colab": {
     "base_uri": "https://localhost:8080/"
    },
    "id": "Pg6HpjE3aKB3",
    "outputId": "28a4bdec-d73c-47d4-8389-e9c54daee145"
   },
   "outputs": [
    {
     "name": "stdout",
     "output_type": "stream",
     "text": [
      "  % Total    % Received % Xferd  Average Speed   Time    Time     Time  Current\n",
      "                                 Dload  Upload   Total   Spent    Left  Speed\n",
      "100   148  100   148    0     0    294      0 --:--:-- --:--:-- --:--:--   294\n",
      "100 4109k  100 4109k    0     0  6607k      0 --:--:-- --:--:-- --:--:-- 6607k\n"
     ]
    }
   ],
   "source": [
    "\n",
    "###########################################\n",
    "# Extracting the MedNIST dataset to the current directory\n",
    "\n",
    "# Download MedNIST dataset\n",
    "!curl -L -o MedNISTSmall.tar.gz 'https://github.com/irinagrigorescu/tempmri/raw/main/MedNISTSmall.tar.gz'\n",
    "\n",
    "# unzip the '.tar.gz' file to the current directory\n",
    "datafile = tarfile.open(\"MedNISTSmall.tar.gz\")\n",
    "datafile.extractall()\n",
    "datafile.close()"
   ]
  },
  {
   "cell_type": "markdown",
   "metadata": {
    "id": "vcW9U683wDJY"
   },
   "source": [
    "Anf then select a subset for train, validation and test"
   ]
  },
  {
   "cell_type": "code",
   "execution_count": null,
   "metadata": {
    "colab": {
     "base_uri": "https://localhost:8080/"
    },
    "id": "HVTEGELtwDpd",
    "outputId": "6c04fc8e-6bfd-458b-b8f0-eb30529bb15c"
   },
   "outputs": [
    {
     "name": "stdout",
     "output_type": "stream",
     "text": [
      "train 3200 3200\n",
      "valid 400 400\n",
      "test  400 400\n"
     ]
    }
   ],
   "source": [
    "###########################################\n",
    "# Get data\n",
    "data_dir = Path('./MedNISTSmall/')\n",
    "# class_names = sorted([p.stem for p in data_dir.iterdir() if p.is_dir()]) \n",
    "\n",
    "# Choose image files from the three classes below\n",
    "class_names = ['Hand', 'ChestCT', 'HeadCT', 'AbdomenCT']\n",
    "image_files = [[x for x in (data_dir / class_name).iterdir()] for class_name in class_names]\n",
    "\n",
    "# Create a training / validation / testing split for the images\n",
    "# 800 hand + 800 chest + 800 head + 800 abdomen        TRAIN\n",
    "dataset_train = image_files[0][:800] + image_files[1][:800] + image_files[2][:800] + image_files[3][:800]        \n",
    "\n",
    "# 100 hand + 100 chest + 100 head + 100 abdomen        VALIDATION\n",
    "dataset_valid = image_files[0][800:900] + image_files[1][800:900] + image_files[2][800:900] + image_files[3][800:900]\n",
    "\n",
    "# 100 hand + 100 chest + 100 head + 100 abdomen        TEST\n",
    "dataset_test  = image_files[0][900:] + image_files[1][900:] + image_files[2][900:] + image_files[3][900:]\n",
    "\n",
    "# Create a training / validation / testing split for the labels \n",
    "labels_train = [\"hand\"] * 800 + [\"chest\"] * 800 + [\"head\"] * 800 + [\"abdomen\"] * 800 \n",
    "labels_valid = [\"hand\"] * 100 + [\"chest\"] * 100 + [\"head\"] * 100 + [\"abdomen\"] * 100 \n",
    "labels_test = [\"hand\"] * 100 + [\"chest\"] * 100 + [\"head\"] * 100 + [\"abdomen\"] * 100  \n",
    "\n",
    "print('train', len(dataset_train), len(labels_train))\n",
    "print('valid', len(dataset_valid), len(labels_valid)) \n",
    "print('test ', len(dataset_test), len(labels_test))"
   ]
  },
  {
   "cell_type": "markdown",
   "metadata": {
    "id": "F2yPnqTzwKiZ"
   },
   "source": [
    "Let's visualise a few of these to see what they look like:\n",
    "\n",
    "**Ex 1.2 To do**: \n",
    "\n",
    "- change i to different values to view different images from the training set (there are 3200)\n",
    "- print the labels - see these are currently words - we will need integers ```y={0,1,2..}```\n"
   ]
  },
  {
   "cell_type": "code",
   "execution_count": null,
   "metadata": {
    "colab": {
     "base_uri": "https://localhost:8080/",
     "height": 286
    },
    "id": "UFr8uRGiwbpa",
    "outputId": "bfcfb0dc-de01-48cf-ac53-4bf9c20fd398"
   },
   "outputs": [
    {
     "name": "stdout",
     "output_type": "stream",
     "text": [
      "chest\n"
     ]
    },
    {
     "data": {
      "image/png": "[encoded data removed]",
      "text/plain": [
       "<Figure size 432x288 with 1 Axes>"
      ]
     },
     "metadata": {
      "needs_background": "light"
     },
     "output_type": "display_data"
    }
   ],
   "source": [
    "i=1000\n",
    "\n",
    "example_image=np.array(Image.open(dataset_train[i]))\n",
    "\n",
    "# plot image\n",
    "plt.imshow(example_image)\n",
    "# print its label\n",
    "print(labels_train[i])"
   ]
  },
  {
   "cell_type": "markdown",
   "metadata": {
    "id": "7kKZ3O1hw-9v"
   },
   "source": [
    "Now set up our train, test and validation sets as torch tensors. This will require:\n",
    "\n",
    "1. reading in each image as a jpg file using the PIL library (imported above)\n",
    "2. Normalising each image into the range 0 to 1 (to standardise each image into a constant range)\n",
    "3. Combining all images into one 3D array shape (n_examples, image_height,image_with)\n",
    "4. converting this to a torch tensor of float type\n"
   ]
  },
  {
   "cell_type": "code",
   "execution_count": null,
   "metadata": {
    "colab": {
     "base_uri": "https://localhost:8080/"
    },
    "id": "OKwN6LV3w_VF",
    "outputId": "7e3d3af7-5437-4ab0-dc29-5d1d7182ed66"
   },
   "outputs": [
    {
     "name": "stdout",
     "output_type": "stream",
     "text": [
      "train shape torch.Size([3200, 1, 64, 64])\n",
      "valid shape torch.Size([400, 1, 64, 64])\n",
      "test shape  torch.Size([400, 1, 64, 64])\n"
     ]
    }
   ],
   "source": [
    "def convert_to_torch_tensor(dataset):\n",
    "  ''' takes list of image paths and reads them into an array;\n",
    "      converts to tensor '''\n",
    "  image_list=[]\n",
    "\n",
    "  for image_path in dataset:\n",
    "    # read in each jpeg and convert to array,\n",
    "    image=np.array(Image.open(image_path))    \n",
    "    # normalise into range 0-1\n",
    "    if np.max(image)-np.min(image) !=0:\n",
    "      image=(image-np.min(image))/(np.max(image)-np.min(image))\n",
    "\n",
    "    # read into list\n",
    "    image_list.append(image)\n",
    "  \n",
    "  # convert list to np array\n",
    "  image_array=np.asarray(image_list)\n",
    "\n",
    "  # convert numpy array to torch tensor with added dimension corresponding to the number of channels (1)\n",
    "  torch_tensor=torch.from_numpy(np.expand_dims(image_array,axis=1)).to(torch.float) \n",
    "  return torch_tensor\n",
    "\n",
    "# create torch tensors for train, validation and test\n",
    "X_train=convert_to_torch_tensor(dataset_train)\n",
    "X_valid=convert_to_torch_tensor(dataset_valid)\n",
    "X_test=convert_to_torch_tensor(dataset_test)\n",
    "\n",
    "print('train shape', X_train.shape)\n",
    "print('valid shape', X_valid.shape) \n",
    "print('test shape ', X_test.shape)\n",
    "\n",
    "\n"
   ]
  },
  {
   "cell_type": "markdown",
   "metadata": {
    "id": "CIFKAprS2Baq"
   },
   "source": [
    "Finally (in terms of preprocessing) we need to converting our labels from text to integer labels"
   ]
  },
  {
   "cell_type": "code",
   "execution_count": null,
   "metadata": {
    "colab": {
     "base_uri": "https://localhost:8080/"
    },
    "id": "lVvmp2t22Brs",
    "outputId": "c08722de-8969-4dd1-881f-2566a44a7243"
   },
   "outputs": [
    {
     "name": "stdout",
     "output_type": "stream",
     "text": [
      "train labels tensor([0, 0, 0,  ..., 3, 3, 3])\n"
     ]
    }
   ],
   "source": [
    "LABEL_MAPPING = {\"hand\": 0, \"chest\": 1, \"head\": 2, \"abdomen\": 3}\n",
    "\n",
    "def convert_labels(label_list):\n",
    "  ''' will loop throuhg all labels and convert to integers'''\n",
    "  label_ids=[]\n",
    "\n",
    "  for lb in label_list:\n",
    "    label_ids.append(LABEL_MAPPING[lb])\n",
    "\n",
    "  labels_tensor=torch.from_numpy(np.asarray(label_ids)).to(torch.long)\n",
    "\n",
    "  return labels_tensor\n",
    "\n",
    " # create torch tensors for train, validation and test\n",
    "y_train=convert_labels(labels_train)\n",
    "y_valid=convert_labels(labels_valid)\n",
    "y_test=convert_labels(labels_test)\n",
    "\n",
    "\n",
    "print('train labels', y_train)\n",
    "\n"
   ]
  },
  {
   "cell_type": "markdown",
   "metadata": {
    "id": "coJiI_7Z6j38"
   },
   "source": [
    "Now that we have our data in the right format we need to set up our network. We will use the same class structure as for last weeks lecture#\n",
    "\n",
    "- Layers must be defined in the ```__init__``` function \n",
    "- the forward pass is define in the ```forward``` function\n",
    "- the backwards pass is taken care of automatically\n",
    "- at the end we oush the network to the device\n",
    "\n",
    "Here we will define:\n",
    "- four convolutional layers, each fitting 3x3 filter kernels with same convolution\n",
    "- and 2 liniear layers\n",
    "\n",
    "**to do** input the number of input neurons of the first linear layer (set ``fc1_input_dim``)\n",
    "\n",
    "- **hint** if the images start as $64\\times64$ and you downsample by factor of 2 4 times (once for each layer) what will be the output dimensions of the final convolution layer (that must be flattened)\n",
    "- don't forget the channel dim!!\n",
    "- if you are stuck add print statements between the layers and get the conde interpreter to do the work for you"
   ]
  },
  {
   "cell_type": "code",
   "execution_count": null,
   "metadata": {
    "id": "11t7NYQd6kIT"
   },
   "outputs": [],
   "source": [
    "class MedNet(nn.Module):\n",
    "\n",
    "    def __init__(self,flattened_dim):   \n",
    "        super(MedNet,self).__init__()  \n",
    "        \n",
    "        # nn.Conv2d(channels in, channels out, filter size)\n",
    "        # for layer 1\n",
    "        # channels in ==1 (input has 1 channel - greyscale)\n",
    "        # channels out = 8 (hyperparameter - we chose to learn 16 you can try different values here)\n",
    "        # the filter kernel size is 3\n",
    "        # padding is set to True (or same)\n",
    "        self.conv1 = nn.Conv2d(1, 8, 3,padding='same')\n",
    "        # for layer 2\n",
    "        # channels in ==8 (equal to the output channel dimension of the previous layer)\n",
    "        # channels out = 32 (hyperparameter - we chose to learn 16 you can try different values here)\n",
    "        self.conv2 = nn.Conv2d(8, 16,3,padding='same')\n",
    "         # for layer 3\n",
    "        # channels in ==16 (input has 1 channel - greyscale)\n",
    "        # channels out = 32 (hyperparameter - we chose to learn 32 you can try different values here)\n",
    "        self.conv3 = nn.Conv2d(16, 32, 3,padding='same')\n",
    "        # for layer 4\n",
    "        # channels in ==32 (equal to the output channel dimension of the previous layer)\n",
    "        # channels out = 48 (hyperparameter - we chose to learn 32 you can try different values here)\n",
    "        self.conv4 = nn.Conv2d(32,48 ,3,padding='same')\n",
    "\n",
    "        # lets set up the max pool kernel size 2x2\n",
    "        self.pool = nn.MaxPool2d(2, 2)\n",
    "        \n",
    "        # nn.Linear(nodes in, nodes out)\n",
    "        # first linear layer:\n",
    "        # will have input dimensions equal to the length of the flattened output from conv2  \n",
    "        # output dimensions are a hyperparameter we choose 25\n",
    "        self.ful1 = nn.Linear(flattened_dim,25)\n",
    "\n",
    "        # second linear layer:\n",
    "        # will have input dimensions equal to the output of the first linear layer\n",
    "        # output will be equal to the number of classes (here 4)\n",
    "        self.ful2 = nn.Linear(25, 4)\n",
    "       \n",
    "        \n",
    "    def forward(self,x):\n",
    "        # here we put the layers together, implementing relu activations after each weight learning layer\n",
    "        # first conv layer followed by relu then pool\n",
    "        x = self.pool(F.relu(self.conv1(x)))\n",
    "        # second conv layer and pool\n",
    "        x = self.pool(F.relu(self.conv2(x)))\n",
    "        # third conv layer and pool\n",
    "        x = self.pool(F.relu(self.conv3(x)))\n",
    "        #fourth conv layer and pool\n",
    "        x = self.pool(F.relu(self.conv4(x)))\n",
    "        # after this the last activation map is flattened\n",
    "        x = torch.flatten(x, 1) # flatten all dimensions except batch\n",
    "        # passed through one linear layer with input dims equal to the flattened dims\n",
    "        x = F.relu(self.ful1(x))\n",
    "        # and a second linear layer with output dim equal to the number of layers\n",
    "        x = self.ful2(x)\n",
    "        \n",
    "        return x\n",
    "\n",
    "fc1_input_dim=4*4*48\n",
    "net = MedNet(fc1_input_dim).to(device) "
   ]
  },
  {
   "cell_type": "markdown",
   "metadata": {
    "id": "-PaH1LZlCIic"
   },
   "source": [
    "Next we must deifne our losses and our choice of optimiser. Here, as it is a classifier we implement cross entropy loss. We will use the ``SGD`` (stochastic gradient descent optimiser)"
   ]
  },
  {
   "cell_type": "code",
   "execution_count": null,
   "metadata": {
    "id": "bKl2CwrqC6Hg"
   },
   "outputs": [],
   "source": [
    "loss_fun = nn.CrossEntropyLoss() # incoporates the softmax. \n",
    "loss_fun = loss_fun.to(device) # send to device\n",
    "# note the optimiser takes the network as an argument\n",
    "optimizer = optim.SGD(net.parameters(), lr=0.005, momentum=0.9)\n"
   ]
  },
  {
   "cell_type": "markdown",
   "metadata": {
    "id": "L1CRbgVFMyUq"
   },
   "source": [
    "Run training and validation and plot losses\n",
    "\n",
    "**note** here we pass all training examples in a single block. More generally in DL the data set is too large for this and you have to pass batches  - this is outside of the scope of totdays lesson"
   ]
  },
  {
   "cell_type": "code",
   "execution_count": null,
   "metadata": {
    "colab": {
     "base_uri": "https://localhost:8080/",
     "height": 1000
    },
    "id": "U6duS1cDLA8C",
    "outputId": "3c896732-0e8b-46db-dc0e-ffa21250476d"
   },
   "outputs": [
    {
     "name": "stdout",
     "output_type": "stream",
     "text": [
      "in torch.Size([3200, 1, 64, 64])\n",
      "1 torch.Size([3200, 8, 32, 32])\n",
      "2 torch.Size([3200, 16, 16, 16])\n",
      "3 torch.Size([3200, 32, 8, 8])\n",
      "4 torch.Size([3200, 48, 4, 4])\n",
      "flattened torch.Size([3200, 768])\n",
      "in torch.Size([400, 1, 64, 64])\n",
      "1 torch.Size([400, 8, 32, 32])\n",
      "2 torch.Size([400, 16, 16, 16])\n",
      "3 torch.Size([400, 32, 8, 8])\n",
      "4 torch.Size([400, 48, 4, 4])\n",
      "flattened torch.Size([400, 768])\n",
      "Train loss : 1.3889, Val Loss: 1.3889, Val accuracy: 0.2500\n",
      "in torch.Size([3200, 1, 64, 64])\n",
      "1 torch.Size([3200, 8, 32, 32])\n",
      "2 torch.Size([3200, 16, 16, 16])\n",
      "3 torch.Size([3200, 32, 8, 8])\n",
      "4 torch.Size([3200, 48, 4, 4])\n",
      "flattened torch.Size([3200, 768])\n",
      "in torch.Size([400, 1, 64, 64])\n",
      "1 torch.Size([400, 8, 32, 32])\n",
      "2 torch.Size([400, 16, 16, 16])\n",
      "3 torch.Size([400, 32, 8, 8])\n",
      "4 torch.Size([400, 48, 4, 4])\n",
      "flattened torch.Size([400, 768])\n",
      "Train loss : 1.3888, Val Loss: 1.3888, Val accuracy: 0.2500\n",
      "in torch.Size([3200, 1, 64, 64])\n",
      "1 torch.Size([3200, 8, 32, 32])\n",
      "2 torch.Size([3200, 16, 16, 16])\n",
      "3 torch.Size([3200, 32, 8, 8])\n",
      "4 torch.Size([3200, 48, 4, 4])\n",
      "flattened torch.Size([3200, 768])\n",
      "in torch.Size([400, 1, 64, 64])\n",
      "1 torch.Size([400, 8, 32, 32])\n",
      "2 torch.Size([400, 16, 16, 16])\n",
      "3 torch.Size([400, 32, 8, 8])\n",
      "4 torch.Size([400, 48, 4, 4])\n",
      "flattened torch.Size([400, 768])\n",
      "Train loss : 1.3888, Val Loss: 1.3887, Val accuracy: 0.2500\n",
      "in torch.Size([3200, 1, 64, 64])\n",
      "1 torch.Size([3200, 8, 32, 32])\n",
      "2 torch.Size([3200, 16, 16, 16])\n",
      "3 torch.Size([3200, 32, 8, 8])\n",
      "4 torch.Size([3200, 48, 4, 4])\n",
      "flattened torch.Size([3200, 768])\n",
      "in torch.Size([400, 1, 64, 64])\n",
      "1 torch.Size([400, 8, 32, 32])\n",
      "2 torch.Size([400, 16, 16, 16])\n",
      "3 torch.Size([400, 32, 8, 8])\n",
      "4 torch.Size([400, 48, 4, 4])\n",
      "flattened torch.Size([400, 768])\n",
      "Train loss : 1.3887, Val Loss: 1.3886, Val accuracy: 0.2500\n",
      "in torch.Size([3200, 1, 64, 64])\n",
      "1 torch.Size([3200, 8, 32, 32])\n",
      "2 torch.Size([3200, 16, 16, 16])\n",
      "3 torch.Size([3200, 32, 8, 8])\n",
      "4 torch.Size([3200, 48, 4, 4])\n",
      "flattened torch.Size([3200, 768])\n",
      "in torch.Size([400, 1, 64, 64])\n",
      "1 torch.Size([400, 8, 32, 32])\n",
      "2 torch.Size([400, 16, 16, 16])\n",
      "3 torch.Size([400, 32, 8, 8])\n",
      "4 torch.Size([400, 48, 4, 4])\n",
      "flattened torch.Size([400, 768])\n",
      "Train loss : 1.3885, Val Loss: 1.3885, Val accuracy: 0.2500\n",
      "in torch.Size([3200, 1, 64, 64])\n",
      "1 torch.Size([3200, 8, 32, 32])\n",
      "2 torch.Size([3200, 16, 16, 16])\n",
      "3 torch.Size([3200, 32, 8, 8])\n",
      "4 torch.Size([3200, 48, 4, 4])\n",
      "flattened torch.Size([3200, 768])\n",
      "in torch.Size([400, 1, 64, 64])\n",
      "1 torch.Size([400, 8, 32, 32])\n",
      "2 torch.Size([400, 16, 16, 16])\n",
      "3 torch.Size([400, 32, 8, 8])\n",
      "4 torch.Size([400, 48, 4, 4])\n",
      "flattened torch.Size([400, 768])\n",
      "Train loss : 1.3884, Val Loss: 1.3883, Val accuracy: 0.2500\n",
      "in torch.Size([3200, 1, 64, 64])\n",
      "1 torch.Size([3200, 8, 32, 32])\n",
      "2 torch.Size([3200, 16, 16, 16])\n",
      "3 torch.Size([3200, 32, 8, 8])\n",
      "4 torch.Size([3200, 48, 4, 4])\n",
      "flattened torch.Size([3200, 768])\n"
     ]
    },
    {
     "ename": "KeyboardInterrupt",
     "evalue": "ignored",
     "output_type": "error",
     "traceback": [
      "\u001b[0;31m---------------------------------------------------------------------------\u001b[0m",
      "\u001b[0;31mKeyboardInterrupt\u001b[0m                         Traceback (most recent call last)",
      "\u001b[0;32m<ipython-input-18-7be6b1c655c2>\u001b[0m in \u001b[0;36m<module>\u001b[0;34m()\u001b[0m\n\u001b[1;32m     31\u001b[0m       \u001b[0mnet\u001b[0m\u001b[0;34m.\u001b[0m\u001b[0meval\u001b[0m\u001b[0;34m(\u001b[0m\u001b[0;34m)\u001b[0m\u001b[0;34m\u001b[0m\u001b[0;34m\u001b[0m\u001b[0m\n\u001b[1;32m     32\u001b[0m \u001b[0;34m\u001b[0m\u001b[0m\n\u001b[0;32m---> 33\u001b[0;31m       \u001b[0mvaldata\u001b[0m \u001b[0;34m=\u001b[0m \u001b[0mX_valid\u001b[0m\u001b[0;34m.\u001b[0m\u001b[0mto\u001b[0m\u001b[0;34m(\u001b[0m\u001b[0mdevice\u001b[0m\u001b[0;34m)\u001b[0m\u001b[0;34m\u001b[0m\u001b[0;34m\u001b[0m\u001b[0m\n\u001b[0m\u001b[1;32m     34\u001b[0m       \u001b[0mvallabel\u001b[0m \u001b[0;34m=\u001b[0m \u001b[0my_valid\u001b[0m\u001b[0;34m.\u001b[0m\u001b[0mto\u001b[0m\u001b[0;34m(\u001b[0m\u001b[0mdevice\u001b[0m\u001b[0;34m)\u001b[0m\u001b[0;34m\u001b[0m\u001b[0;34m\u001b[0m\u001b[0m\n\u001b[1;32m     35\u001b[0m       \u001b[0mx_out\u001b[0m \u001b[0;34m=\u001b[0m \u001b[0mnet\u001b[0m\u001b[0;34m(\u001b[0m\u001b[0mvaldata\u001b[0m\u001b[0;34m)\u001b[0m\u001b[0;34m\u001b[0m\u001b[0;34m\u001b[0m\u001b[0m\n",
      "\u001b[0;31mKeyboardInterrupt\u001b[0m: "
     ]
    }
   ],
   "source": [
    "from sklearn.metrics import accuracy_score\n",
    "\n",
    "epochs = 150\n",
    "accuracy=[]\n",
    "train_losses=[]\n",
    "val_losses=[]\n",
    "\n",
    "for epoch in range(epochs):\n",
    "    # set network to train mode\n",
    "    net.train()\n",
    "    # perform a training loop \n",
    "    data = X_train.to(device)\n",
    "    label = y_train.to(device)\n",
    "    # clear the gradient\n",
    "    optimizer.zero_grad()\n",
    "\n",
    "    #feed the input and acquire the output from network\n",
    "    x_out = net(data)\n",
    "  \n",
    "    #calculating the predicted and the expected loss\n",
    "    err = loss_fun(x_out, label)\n",
    "    train_losses.append(err)\n",
    "\n",
    "    #compute the gradient\n",
    "    err.backward()\n",
    "\n",
    "    #update the parameters\n",
    "    optimizer.step()\n",
    "\n",
    "    with torch.no_grad(): \n",
    "      net.eval()\n",
    "    \n",
    "      valdata = X_valid.to(device)\n",
    "      vallabel = y_valid.to(device)\n",
    "      x_out = net(valdata)\n",
    "      val_err = loss_fun(x_out, vallabel)\n",
    "      val_losses.append(val_err)\n",
    "      pred = x_out.data.max(1)[1].cpu() # get the index of the max log-probability\n",
    "      accuracy.append(accuracy_score(y_valid, pred))\n",
    "\n",
    "      print('Train loss : {:.4f}, Val Loss: {:.4f}, Val accuracy: {:.4f}'.format(err, val_err,accuracy[-1]))\n",
    "\n",
    "print(['Best val error: ', np.min(accuracy)])\n",
    "\n",
    "plt.plot(np.arange(len(train_losses)),train_losses,'b')\n",
    "plt.plot(np.arange(len(train_losses)),val_losses,'r')\n",
    "plt.show()\n"
   ]
  },
  {
   "cell_type": "markdown",
   "metadata": {
    "id": "NcuQ-uACaIl9"
   },
   "source": [
    "**To do** - try changing some of the training hyperparameters like the learning rate and number of epochs\n",
    "\n",
    "Now apply to test and report accruacy"
   ]
  },
  {
   "cell_type": "code",
   "execution_count": null,
   "metadata": {
    "colab": {
     "base_uri": "https://localhost:8080/"
    },
    "id": "-99MHi0KaI3S",
    "outputId": "5c06666b-09cd-41d8-8afb-48134fe48546"
   },
   "outputs": [
    {
     "name": "stdout",
     "output_type": "stream",
     "text": [
      "test accuracy 0.9425\n"
     ]
    }
   ],
   "source": [
    "net.eval()\n",
    "    \n",
    "testdata = X_test.to(device)\n",
    "testlabel = y_test.to(device)\n",
    "x_out = net(testdata)\n",
    "\n",
    "pred = x_out.data.max(1)[1].cpu() # get the index of the max log-probability\n",
    "print('test accuracy', accuracy_score(y_test, pred))"
   ]
  },
  {
   "cell_type": "markdown",
   "metadata": {
    "id": "z8_yvLXqckzk"
   },
   "source": [
    "## Exercise - regression of age at birth from brain scans\n",
    "\n",
    "In this exercise we will apply what we have learn to instead build a network for regression. The data set will be images of axial brain slices from the developing human connectome project\n",
    "\n",
    "First upload the data from Keats to some location on your drive and the read in"
   ]
  },
  {
   "cell_type": "code",
   "execution_count": null,
   "metadata": {
    "colab": {
     "base_uri": "https://localhost:8080/"
    },
    "id": "BPni_CsQdMqz",
    "outputId": "112a129b-bf62-401f-e62f-d79145f8c413"
   },
   "outputs": [
    {
     "name": "stdout",
     "output_type": "stream",
     "text": [
      "number of train samples 324\n",
      "number of validation samples 32\n",
      "number of test samples 40\n"
     ]
    }
   ],
   "source": [
    "import pandas as pd\n",
    "\n",
    "# edit this path to match where you put your data\n",
    "path_relative_to_drive='Colab Notebooks/Colab_Data/mrimages/'\n",
    "data_path=path_relative_to_drive+'mridata/'\n",
    "\n",
    "full_path=os.path.join('/content/drive/My Drive/', data_path)\n",
    "\n",
    "# read in the labels for train test and val\n",
    "# these are scv files with 2 labels for each image (age at birth and age at scan)\n",
    "meta_train=pd.read_csv(os.path.join('/content/drive/My Drive/', path_relative_to_drive + 'data_train.csv'))\n",
    "meta_valid=pd.read_csv(os.path.join('/content/drive/My Drive/', path_relative_to_drive + 'data_valid.csv'))\n",
    "meta_test=pd.read_csv(os.path.join('/content/drive/My Drive/', path_relative_to_drive + 'data_test.csv'))\n",
    "\n",
    "# to start off with lets just look at age at scan\n",
    "\n",
    "y_train=torch.from_numpy(meta_train.iloc[:,2].values).to(torch.float)\n",
    "y_valid=torch.from_numpy(meta_valid.iloc[:,2].values).to(torch.float)\n",
    "y_test=torch.from_numpy(meta_test.iloc[:,2].values).to(torch.float)\n",
    "\n",
    "print('number of train samples', len(y_train))\n",
    "print('number of validation samples', len(y_valid))\n",
    "print('number of test samples', len(y_test))"
   ]
  },
  {
   "cell_type": "markdown",
   "metadata": {
    "id": "rI9rJAZhygrb"
   },
   "source": [
    "Now let's plot a few examples\n",
    "\n",
    "**Exercise 1.1** change i and look at some of the images"
   ]
  },
  {
   "cell_type": "code",
   "execution_count": null,
   "metadata": {
    "colab": {
     "base_uri": "https://localhost:8080/",
     "height": 286
    },
    "id": "CO67GFhdyh6d",
    "outputId": "ac9f25c4-e98e-4d55-c1a1-6e2aae65a7e4"
   },
   "outputs": [
    {
     "data": {
      "text/plain": [
       "<matplotlib.image.AxesImage at 0x7f8cfaf1c1d0>"
      ]
     },
     "execution_count": 34,
     "metadata": {},
     "output_type": "execute_result"
    },
    {
     "data": {
      "image/png": "[encoded data removed]",
      "text/plain": [
       "<Figure size 432x288 with 1 Axes>"
      ]
     },
     "metadata": {
      "needs_background": "light"
     },
     "output_type": "display_data"
    }
   ],
   "source": [
    "i=0\n",
    "image_path=os.path.join(full_path,meta_train['image_name'][i])\n",
    "image=np.array(Image.open(image_path))    \n",
    "\n",
    "plt.imshow(image)"
   ]
  },
  {
   "cell_type": "markdown",
   "metadata": {
    "id": "PNIJHhrgfLPr"
   },
   "source": [
    "Now read in all files from each of the training validation and test sets."
   ]
  },
  {
   "cell_type": "code",
   "execution_count": null,
   "metadata": {
    "colab": {
     "base_uri": "https://localhost:8080/"
    },
    "id": "i-gkVuANfLbb",
    "outputId": "c91df73f-fcf2-4e49-db9e-14520227ddf5"
   },
   "outputs": [
    {
     "name": "stdout",
     "output_type": "stream",
     "text": [
      "train shape torch.Size([324, 1, 256, 256])\n",
      "valid shape torch.Size([32, 1, 256, 256])\n",
      "train shape torch.Size([40, 1, 256, 256])\n"
     ]
    }
   ],
   "source": [
    "def load_data(path,meta):\n",
    "  ''' load all the files for each data set '''\n",
    "  image_list=[]\n",
    "  for iter, row in meta.iterrows():\n",
    "    image_path=os.path.join(full_path,row['image_name'])\n",
    "    image=np.array(Image.open(image_path))    \n",
    "    # normalise into range 0-1\n",
    "    if np.max(image)-np.min(image) !=0:\n",
    "      image=(image-np.min(image))/(np.max(image)-np.min(image))\n",
    "\n",
    "    # read into list\n",
    "    image_list.append(image)\n",
    "  \n",
    "  # convert list to np array\n",
    "  image_array=np.asarray(image_list)\n",
    "\n",
    "  # convert numpy array to torch tensor with added dimension corresponding to the number of channels (1)\n",
    "  torch_tensor=torch.from_numpy(np.expand_dims(image_array,axis=1)).to(torch.float) \n",
    "  return torch_tensor\n",
    "\n",
    "\n",
    "X_train = load_data(full_path,meta_train)\n",
    "X_valid = load_data(full_path,meta_valid)\n",
    "X_test = load_data(full_path,meta_test)\n",
    "\n",
    "print('train shape', X_train.shape)\n",
    "print('valid shape', X_valid.shape)\n",
    "print('train shape', X_test.shape)"
   ]
  },
  {
   "cell_type": "markdown",
   "metadata": {
    "id": "LP4Gspv40Aht"
   },
   "source": [
    "**Exercise 2.2** Next create your network\n",
    "\n",
    "- Try different network designs using at least 3 convolutional layers and 2 fully connected layer\n",
    "- **Hint** why not start by trying the network design from above\n",
    "   - but remember to change the dimensions of the flattened data for the first fully connected layer!\n",
    "   - and output dimension is 1 \n",
    "- TRy this and then try changing your networi design"
   ]
  },
  {
   "cell_type": "code",
   "execution_count": null,
   "metadata": {
    "id": "OvQaR7YTz_wN"
   },
   "outputs": [],
   "source": [
    "class dHCPNet(nn.Module):\n",
    "\n",
    "    def __init__(self,flattened_dim):   \n",
    "        super(dHCPNet,self).__init__()  \n",
    "        \n",
    "        # nn.Conv2d(channels in, channels out, filter size)\n",
    "        # for layer 1\n",
    "        # channels in ==1 (input has 1 channel - greyscale)\n",
    "        # channels out = 8 (hyperparameter - we chose to learn 16 you can try different values here)\n",
    "        # the filter kernel size is 3\n",
    "        # padding is set to True (or same)\n",
    "        self.conv1 = nn.Conv2d(1, 8, 3,padding='same')\n",
    "        # for layer 2\n",
    "        # channels in ==8 (equal to the output channel dimension of the previous layer)\n",
    "        # channels out = 32 (hyperparameter - we chose to learn 16 you can try different values here)\n",
    "        self.conv2 = nn.Conv2d(8, 16,3,padding='same')\n",
    "         # for layer 3\n",
    "        # channels in ==16 (input has 1 channel - greyscale)\n",
    "        # channels out = 32 (hyperparameter - we chose to learn 32 you can try different values here)\n",
    "        self.conv3 = nn.Conv2d(16, 32, 3,padding='same')\n",
    "        # for layer 4\n",
    "        # channels in ==32 (equal to the output channel dimension of the previous layer)\n",
    "        # channels out = 48 (hyperparameter - we chose to learn 32 you can try different values here)\n",
    "        self.conv4 = nn.Conv2d(32,48 ,3,padding='same')\n",
    "\n",
    "        # lets set up the max pool kernel size 2x2\n",
    "        self.pool = nn.MaxPool2d(2, 2)\n",
    "        \n",
    "        # nn.Linear(nodes in, nodes out)\n",
    "        # first linear layer:\n",
    "        # will have input dimensions equal to the length of the flattened output from conv2  \n",
    "        # output dimensions are a hyperparameter we choose 25\n",
    "        self.ful1 = nn.Linear(flattened_dim,25)\n",
    "\n",
    "        # second linear layer:\n",
    "        # will have input dimensions equal to the output of the first linear layer\n",
    "        # output will be equal to the number of classes (here 4)\n",
    "        self.ful2 = nn.Linear(25, 1)\n",
    "       \n",
    "        \n",
    "    def forward(self,x):\n",
    "        # here we put the layers together, implementing relu activations after each weight learning layer\n",
    "        # first conv layer followed by relu then pool\n",
    "        x = self.pool(F.relu(self.conv1(x)))\n",
    "        # second conv layer and pool\n",
    "        x = self.pool(F.relu(self.conv2(x)))\n",
    "        # third conv layer and pool\n",
    "        x = self.pool(F.relu(self.conv3(x)))\n",
    "        #fourth conv layer and pool\n",
    "        x = self.pool(F.relu(self.conv4(x)))\n",
    "        # after this the last activation map is flattened\n",
    "        x = torch.flatten(x, 1) # flatten all dimensions except batch\n",
    "        # passed through one linear layer with input dims equal to the flattened dims\n",
    "        x = F.relu(self.ful1(x))\n",
    "        # and a second linear layer with output dim equal to the number of layers\n",
    "        x = self.ful2(x)\n",
    "        \n",
    "        return x\n",
    "\n",
    "fc1_input_dim=16*16*48\n",
    "net = dHCPNet(fc1_input_dim).to(device) "
   ]
  },
  {
   "cell_type": "markdown",
   "metadata": {
    "id": "7y0naj41Yphh"
   },
   "source": [
    "**Exercise 2.3** Next set a suitable loss function and optimiser\n",
    "\n",
    "- This time we have a regression problem not a classification!\n",
    "- don't forget to push loss to device and network parameters to optimiser\n",
    "- for optimiser you can try SGD or ADAM\n",
    "- **hint** for SGD reduce learning rate down to 0.00001"
   ]
  },
  {
   "cell_type": "code",
   "execution_count": null,
   "metadata": {
    "id": "29dmKE_5YpuO"
   },
   "outputs": [],
   "source": [
    "loss_fun = nn.MSELoss() # Mean square error loss\n",
    "loss_fun = loss_fun.to(device) # send to device\n",
    "# note the optimiser takes the network as an argument\n",
    "optimizer = optim.SGD(net.parameters(), lr=0.00001, momentum=0.9)"
   ]
  },
  {
   "cell_type": "markdown",
   "metadata": {
    "id": "fEg1ePymZdiE"
   },
   "source": [
    "**Exercise 2.4** Now complete training and validation loop\n",
    "\n",
    "- **note** we've started this for you to show that the output of the network needs to be squeezed down to 1 dimension to compare with the labels "
   ]
  },
  {
   "cell_type": "code",
   "execution_count": null,
   "metadata": {
    "colab": {
     "base_uri": "https://localhost:8080/",
     "height": 1000
    },
    "id": "7-ByLP8DZd4r",
    "outputId": "6eaedaea-0b45-436d-e07e-503e47866abc"
   },
   "outputs": [
    {
     "name": "stdout",
     "output_type": "stream",
     "text": [
      "Iter: 0, Train loss : 1667.7078, Val Loss: 1661.3289\n",
      "Iter: 1, Train loss : 1667.3978, Val Loss: 1660.8733\n",
      "Iter: 2, Train loss : 1666.9387, Val Loss: 1660.4294\n",
      "Iter: 3, Train loss : 1666.4933, Val Loss: 1659.8669\n",
      "Iter: 4, Train loss : 1665.9294, Val Loss: 1659.1960\n",
      "Iter: 5, Train loss : 1665.2572, Val Loss: 1658.4265\n",
      "Iter: 6, Train loss : 1664.4861, Val Loss: 1657.5664\n",
      "Iter: 7, Train loss : 1663.6243, Val Loss: 1656.6221\n",
      "Iter: 8, Train loss : 1662.6779, Val Loss: 1655.5981\n",
      "Iter: 9, Train loss : 1661.6519, Val Loss: 1654.5017\n",
      "Iter: 10, Train loss : 1660.5531, Val Loss: 1653.3444\n",
      "Iter: 11, Train loss : 1659.3933, Val Loss: 1652.1130\n",
      "Iter: 12, Train loss : 1658.1595, Val Loss: 1650.8059\n",
      "Iter: 13, Train loss : 1656.8497, Val Loss: 1649.4192\n",
      "Iter: 14, Train loss : 1655.4598, Val Loss: 1647.9474\n",
      "Iter: 15, Train loss : 1653.9851, Val Loss: 1646.3831\n",
      "Iter: 16, Train loss : 1652.4176, Val Loss: 1644.7168\n",
      "Iter: 17, Train loss : 1650.7477, Val Loss: 1642.9365\n",
      "Iter: 18, Train loss : 1648.9637, Val Loss: 1641.0273\n",
      "Iter: 19, Train loss : 1647.0505, Val Loss: 1638.9712\n",
      "Iter: 20, Train loss : 1644.9897, Val Loss: 1636.7461\n",
      "Iter: 21, Train loss : 1642.7599, Val Loss: 1634.3254\n",
      "Iter: 22, Train loss : 1640.3341, Val Loss: 1631.6782\n",
      "Iter: 23, Train loss : 1637.6812, Val Loss: 1628.7712\n",
      "Iter: 24, Train loss : 1634.7679, Val Loss: 1625.5521\n",
      "Iter: 25, Train loss : 1631.5419, Val Loss: 1621.9626\n",
      "Iter: 26, Train loss : 1627.9442, Val Loss: 1617.9314\n",
      "Iter: 27, Train loss : 1623.9038, Val Loss: 1613.3699\n",
      "Iter: 28, Train loss : 1619.3311, Val Loss: 1608.1656\n",
      "Iter: 29, Train loss : 1614.1147, Val Loss: 1602.1777\n",
      "Iter: 30, Train loss : 1608.1124, Val Loss: 1595.2244\n",
      "Iter: 31, Train loss : 1601.1418, Val Loss: 1587.0704\n",
      "Iter: 32, Train loss : 1592.9680, Val Loss: 1577.4105\n",
      "Iter: 33, Train loss : 1583.2842, Val Loss: 1565.8353\n",
      "Iter: 34, Train loss : 1571.6799, Val Loss: 1551.7920\n",
      "Iter: 35, Train loss : 1557.6008, Val Loss: 1534.5244\n",
      "Iter: 36, Train loss : 1540.2887, Val Loss: 1512.9634\n",
      "Iter: 37, Train loss : 1518.6708, Val Loss: 1485.6229\n",
      "Iter: 38, Train loss : 1491.2559, Val Loss: 1450.3339\n",
      "Iter: 39, Train loss : 1455.8690, Val Loss: 1403.8555\n",
      "Iter: 40, Train loss : 1409.2585, Val Loss: 1341.3232\n",
      "Iter: 41, Train loss : 1346.5426, Val Loss: 1255.2721\n",
      "Iter: 42, Train loss : 1260.2277, Val Loss: 1134.2098\n",
      "Iter: 43, Train loss : 1138.7789, Val Loss: 960.9445\n",
      "Iter: 44, Train loss : 964.9318, Val Loss: 713.8923\n",
      "Iter: 45, Train loss : 716.9933, Val Loss: 384.6113\n",
      "Iter: 46, Train loss : 386.4221, Val Loss: 60.5667\n",
      "Iter: 47, Train loss : 60.8932, Val Loss: 108.4861\n",
      "Iter: 48, Train loss : 108.5543, Val Loss: 671.0911\n",
      "Iter: 49, Train loss : 673.0212, Val Loss: 422.2435\n",
      "Iter: 50, Train loss : 423.0233, Val Loss: 19.5757\n",
      "Iter: 51, Train loss : 19.2677, Val Loss: 69.5616\n",
      "Iter: 52, Train loss : 70.0291, Val Loss: 226.6534\n",
      "Iter: 53, Train loss : 228.0332, Val Loss: 329.1326\n",
      "Iter: 54, Train loss : 331.0397, Val Loss: 352.8497\n",
      "Iter: 55, Train loss : 354.9015, Val Loss: 305.6035\n",
      "Iter: 56, Train loss : 307.4747, Val Loss: 203.7800\n",
      "Iter: 57, Train loss : 205.1740, Val Loss: 81.0484\n",
      "Iter: 58, Train loss : 81.7021, Val Loss: 4.9591\n",
      "Iter: 59, Train loss : 4.7302, Val Loss: 51.3344\n",
      "Iter: 60, Train loss : 50.3499, Val Loss: 167.4698\n",
      "Iter: 61, Train loss : 166.0896, Val Loss: 162.3146\n",
      "Iter: 62, Train loss : 160.8761, Val Loss: 55.1457\n",
      "Iter: 63, Train loss : 54.0228, Val Loss: 3.4381\n",
      "Iter: 64, Train loss : 2.9404, Val Loss: 25.0676\n",
      "Iter: 65, Train loss : 25.2119, Val Loss: 66.3737\n",
      "Iter: 66, Train loss : 66.9705, Val Loss: 90.3620\n",
      "Iter: 67, Train loss : 91.1652, Val Loss: 85.8511\n",
      "Iter: 68, Train loss : 86.6231, Val Loss: 58.2100\n",
      "Iter: 69, Train loss : 58.7411, Val Loss: 23.6521\n",
      "Iter: 70, Train loss : 23.7741, Val Loss: 3.8107\n",
      "Iter: 71, Train loss : 3.4252, Val Loss: 12.5667\n",
      "Iter: 72, Train loss : 11.6852, Val Loss: 38.2966\n",
      "Iter: 73, Train loss : 37.0614, Val Loss: 49.5922\n",
      "Iter: 74, Train loss : 48.2427, Val Loss: 33.9980\n",
      "Iter: 75, Train loss : 32.7887, Val Loss: 11.6853\n",
      "Iter: 76, Train loss : 10.7975, Val Loss: 3.2333\n",
      "Iter: 77, Train loss : 2.7279, Val Loss: 9.4055\n",
      "Iter: 78, Train loss : 9.2354, Val Loss: 19.7893\n",
      "Iter: 79, Train loss : 19.8430, Val Loss: 25.1712\n",
      "Iter: 80, Train loss : 25.3131, Val Loss: 22.3663\n",
      "Iter: 81, Train loss : 22.4631, Val Loss: 13.9451\n",
      "Iter: 82, Train loss : 13.8829, Val Loss: 5.8029\n",
      "Iter: 83, Train loss : 5.5026, Val Loss: 3.3647\n",
      "Iter: 84, Train loss : 2.7967, Val Loss: 7.4921\n",
      "Iter: 85, Train loss : 6.6864, Val Loss: 13.3571\n",
      "Iter: 86, Train loss : 12.3997, Val Loss: 14.9086\n",
      "Iter: 87, Train loss : 13.9182, Val Loss: 10.9938\n",
      "Iter: 88, Train loss : 10.0862, Val Loss: 5.7118\n",
      "Iter: 89, Train loss : 4.9679, Val Loss: 3.2971\n",
      "Iter: 90, Train loss : 2.7461, Val Loss: 4.4599\n",
      "Iter: 91, Train loss : 4.0827, Val Loss: 7.0506\n",
      "Iter: 92, Train loss : 6.7941, Val Loss: 8.5706\n",
      "Iter: 93, Train loss : 8.3649, Val Loss: 7.9339\n",
      "Iter: 94, Train loss : 7.7075, Val Loss: 5.7999\n",
      "Iter: 95, Train loss : 5.4919, Val Loss: 3.8120\n",
      "Iter: 96, Train loss : 3.3821, Val Loss: 3.3315\n",
      "Iter: 97, Train loss : 2.7670, Val Loss: 4.4248\n",
      "Iter: 98, Train loss : 3.7429, Val Loss: 5.8791\n",
      "Iter: 99, Train loss : 5.1220, Val Loss: 6.3298\n",
      "Iter: 100, Train loss : 5.5540, Val Loss: 5.4666\n",
      "Iter: 101, Train loss : 4.7274, Val Loss: 4.1251\n",
      "Iter: 102, Train loss : 3.4632, Val Loss: 3.3368\n",
      "Iter: 103, Train loss : 2.7703, Val Loss: 3.4509\n",
      "Iter: 104, Train loss : 2.9745, Val Loss: 4.0574\n",
      "Iter: 105, Train loss : 3.6473, Val Loss: 4.5018\n",
      "Iter: 106, Train loss : 4.1234, Val Loss: 4.4177\n",
      "Iter: 107, Train loss : 4.0337, Val Loss: 3.9189\n",
      "Iter: 108, Train loss : 3.4968, Val Loss: 3.4233\n",
      "Iter: 109, Train loss : 2.9415, Val Loss: 3.2947\n",
      "Iter: 110, Train loss : 2.7456, Val Loss: 3.5673\n",
      "Iter: 111, Train loss : 2.9584, Val Loss: 3.9537\n",
      "Iter: 112, Train loss : 3.3050, Val Loss: 4.1127\n",
      "Iter: 113, Train loss : 3.4513, Val Loss: 3.9335\n",
      "Iter: 114, Train loss : 3.2866, Val Loss: 3.5857\n",
      "Iter: 115, Train loss : 2.9745, Val Loss: 3.3299\n",
      "Iter: 116, Train loss : 2.7655, Val Loss: 3.2963\n",
      "Iter: 117, Train loss : 2.7782, Val Loss: 3.4200\n",
      "Iter: 118, Train loss : 2.9378, Val Loss: 3.5396\n",
      "Iter: 119, Train loss : 3.0767, Val Loss: 3.5416\n",
      "Iter: 120, Train loss : 3.0792, Val Loss: 3.4344\n",
      "Iter: 121, Train loss : 2.9552, Val Loss: 3.3168\n",
      "Iter: 122, Train loss : 2.8089, Val Loss: 3.2854\n",
      "Iter: 123, Train loss : 2.7440, Val Loss: 3.3574\n",
      "Iter: 124, Train loss : 2.7854, Val Loss: 3.4656\n",
      "Iter: 125, Train loss : 2.8722, Val Loss: 3.5215\n",
      "Iter: 126, Train loss : 2.9196, Val Loss: 3.4867\n",
      "Iter: 127, Train loss : 2.8900, Val Loss: 3.3947\n",
      "Iter: 128, Train loss : 2.8143, Val Loss: 3.3117\n",
      "Iter: 129, Train loss : 2.7541, Val Loss: 3.2812\n",
      "Iter: 130, Train loss : 2.7472, Val Loss: 3.2980\n",
      "Iter: 131, Train loss : 2.7833, Val Loss: 3.3252\n",
      "Iter: 132, Train loss : 2.8219, Val Loss: 3.3305\n",
      "Iter: 133, Train loss : 2.8291, Val Loss: 3.3102\n",
      "Iter: 134, Train loss : 2.8017, Val Loss: 3.2858\n",
      "Iter: 135, Train loss : 2.7638, Val Loss: 3.2817\n",
      "Iter: 136, Train loss : 2.7432, Val Loss: 3.3040\n",
      "Iter: 137, Train loss : 2.7498, Val Loss: 3.3367\n",
      "Iter: 138, Train loss : 2.7710, Val Loss: 3.3564\n",
      "Iter: 139, Train loss : 2.7854, Val Loss: 3.3504\n",
      "Iter: 140, Train loss : 2.7810, Val Loss: 3.3250\n",
      "Iter: 141, Train loss : 2.7630, Val Loss: 3.2972\n",
      "Iter: 142, Train loss : 2.7463, Val Loss: 3.2809\n",
      "Iter: 143, Train loss : 2.7419, Val Loss: 3.2784\n",
      "Iter: 144, Train loss : 2.7496, Val Loss: 3.2821\n",
      "Iter: 145, Train loss : 2.7598, Val Loss: 3.2836\n",
      "Iter: 146, Train loss : 2.7632, Val Loss: 3.2806\n",
      "Iter: 147, Train loss : 2.7574, Val Loss: 3.2772\n",
      "Iter: 148, Train loss : 2.7477, Val Loss: 3.2789\n",
      "Iter: 149, Train loss : 2.7414, Val Loss: 3.2874\n"
     ]
    },
    {
     "data": {
      "image/png": "[encoded data removed]",
      "text/plain": [
       "<Figure size 432x288 with 1 Axes>"
      ]
     },
     "metadata": {
      "needs_background": "light"
     },
     "output_type": "display_data"
    }
   ],
   "source": [
    "epochs = 150\n",
    "train_losses=[]\n",
    "val_losses=[]\n",
    "\n",
    "for epoch in range(epochs):\n",
    "    # set network to train mode\n",
    "    net.train()\n",
    "    # perform a training loop \n",
    "    data = X_train.to(device)\n",
    "    label = y_train.to(device)\n",
    "    # clear the gradient\n",
    "    optimizer.zero_grad()\n",
    "\n",
    "    #feed the input and acquire the output from network\n",
    "    x_out = net(data)\n",
    "    x_out = x_out.squeeze(1)\n",
    "\n",
    "    #calculating the predicted and the expected loss\n",
    "    err = loss_fun(x_out, label)\n",
    "    train_losses.append(err)\n",
    "\n",
    "    #compute the gradient\n",
    "    err.backward()\n",
    "\n",
    "    #update the parameters\n",
    "    optimizer.step()\n",
    "\n",
    "    with torch.no_grad(): \n",
    "      net.eval()\n",
    "    \n",
    "      valdata = X_valid.to(device)\n",
    "      vallabel = y_valid.to(device)\n",
    "      x_out = net(valdata)\n",
    "      x_out = x_out.squeeze(1)\n",
    "      val_err = loss_fun(x_out, vallabel)\n",
    "      val_losses.append(val_err)\n",
    "\n",
    "      print('Iter: {}, Train loss : {:.4f}, Val Loss: {:.4f}'.format(epoch, err, val_err))\n",
    "\n",
    "plt.plot(np.arange(len(train_losses)),train_losses,'b')\n",
    "plt.plot(np.arange(len(train_losses)),val_losses,'r')\n",
    "plt.show()\n"
   ]
  },
  {
   "cell_type": "markdown",
   "metadata": {
    "id": "MYB2JdiKdz69"
   },
   "source": [
    "**Exercise 2.5** Now test\n",
    "\n"
   ]
  },
  {
   "cell_type": "code",
   "execution_count": null,
   "metadata": {
    "colab": {
     "base_uri": "https://localhost:8080/",
     "height": 318
    },
    "id": "_J9mV0rGd0G6",
    "outputId": "f67fc9f9-8119-44b2-d28b-128dee1da13d"
   },
   "outputs": [
    {
     "name": "stderr",
     "output_type": "stream",
     "text": [
      "/usr/local/lib/python3.7/dist-packages/torch/nn/modules/loss.py:520: UserWarning: Using a target size (torch.Size([40])) that is different to the input size (torch.Size([40, 1])). This will likely lead to incorrect results due to broadcasting. Please ensure they have the same size.\n",
      "  return F.mse_loss(input, target, reduction=self.reduction)\n"
     ]
    },
    {
     "name": "stdout",
     "output_type": "stream",
     "text": [
      "test error is:  tensor(3.2965, device='cuda:0', grad_fn=<MseLossBackward0>)\n"
     ]
    },
    {
     "data": {
      "image/png": "[encoded data removed]",
      "text/plain": [
       "<Figure size 432x288 with 1 Axes>"
      ]
     },
     "metadata": {
      "needs_background": "light"
     },
     "output_type": "display_data"
    }
   ],
   "source": [
    "net.eval()\n",
    "    \n",
    "testdata = X_test.to(device)\n",
    "testlabel = y_test.to(device)\n",
    "x_out = net(testdata)\n",
    "test_err = loss_fun(x_out, testlabel)\n",
    "\n",
    "pred = x_out.data.cpu() \n",
    "\n",
    "print('test error is: ', test_err)\n",
    "\n",
    "plt.plot(y_test.numpy(),pred,'+')\n",
    "plt.show()"
   ]
  }
 ],
 "metadata": {
  "accelerator": "GPU",
  "colab": {
   "collapsed_sections": [],
   "name": " Week10_CNNs_solutions.ipynb",
   "provenance": []
  },
  "kernelspec": {
   "display_name": "Python 3 (ipykernel)",
   "language": "python",
   "name": "python3"
  },
  "language_info": {
   "codemirror_mode": {
    "name": "ipython",
    "version": 3
   },
   "file_extension": ".py",
   "mimetype": "text/x-python",
   "name": "python",
   "nbconvert_exporter": "python",
   "pygments_lexer": "ipython3",
   "version": "3.11.4"
  }
 },
 "nbformat": 4,
 "nbformat_minor": 4
}
