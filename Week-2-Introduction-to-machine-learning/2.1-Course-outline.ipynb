{
 "cells": [
  {
   "cell_type": "markdown",
   "id": "f07a2c04-2a16-4481-88a7-1ce6baf90a18",
   "metadata": {},
   "source": [
    "# Welcome to BME630 Machine Learning for Biomedical Applications"
   ]
  },
  {
   "cell_type": "markdown",
   "id": "6cd62bfd-d794-4a30-97c7-2f647a7ddfc1",
   "metadata": {},
   "source": [
    "## Class Time and Location\n",
    "\n",
    "Time: Wednesdays at 02:00 PM to 04:50 PM\n",
    "\n",
    "Location: To be announced"
   ]
  },
  {
   "cell_type": "markdown",
   "id": "f426abf4-899b-437a-a624-58df79ff2da5",
   "metadata": {},
   "source": [
    "## Instructor\n",
    "\n",
    "Maral Aminpour, Ph.D. (Pronouns: she/her/hers)\n",
    "\n",
    "Email address: aminpour@ualberta.ca\n",
    "\n",
    "Office hours: Thursdays (3:00 pm–4:30 pm)\n",
    "\n",
    "Office location: Donadeo Innovation Centre for Engineering 13-209"
   ]
  },
  {
   "cell_type": "markdown",
   "id": "09c13090-a082-4049-85c9-43b9518a2854",
   "metadata": {},
   "source": [
    "## Course Description\n",
    "\n",
    "Application of artificial intelligence tools to real-world problems in biomedical engineering including diagnostic and prognostic applications. An introduction to machine learning. Machine learning tools: regression and classification; manifold learning and dimensional reduction; decision trees and ensemble learning; unsupervised learning and clustering; feature selection and feature extraction; neural networks and deep learning. Biomedical applications: cancer, cardiovascular disease, diabetes, neurological diseases and infectious diseases (COVID-19)."
   ]
  },
  {
   "cell_type": "markdown",
   "id": "eed7c307-76f4-4022-b62c-0c829c03be1c",
   "metadata": {},
   "source": [
    "## Learning Outcomes\n",
    "\n",
    "By the end of the course the student will be able to:\n",
    "1.\tUnderstand machine learning techniques, including regression and classification; manifold learning and dimensional reduction; decision trees and ensemble learning; unsupervised learning and clustering; feature selection and extraction; artificial neural networks and deep learning.\n",
    "2.\tUnderstand both the advantages and limitations of each technique with respect to biomedical problems, and know how to select appropriate techniques for specific biomedical problems, including diagnostic and prognostic tasks.\n",
    "3.\tLearn how to evaluate and compare different models. Understand issues such as overfitting and underfitting.\n",
    "4.\tUse machine learning programming libraries, specifically Scikit-Learn and PyTorch, and supporting libraries including Matplotlib and Pandas, to implement solutions to biomedical problems.\n",
    "5.\tCritically analyse related recent literature. Write reports and give oral presentations on machine learning topics."
   ]
  },
  {
   "cell_type": "markdown",
   "id": "cec3ad93-037c-40e8-b208-7f72d47f9804",
   "metadata": {},
   "source": [
    "## Course Schedule\n",
    "\n",
    "Week 1 (Sep 6) - Python programming boot camp\n",
    "\n",
    "Week 2 (Sep 13) - Introduction to machine learning & a hands-on example of machine learning\n",
    "\n",
    "Week 3 (Sep 20) - Classification models\n",
    "\n",
    "Week 4 (Sep 27) - Regression models\n",
    "\n",
    "Week 5 (Oct 4) - Unsupervised learning (clustering)\n",
    "\n",
    "Week 6 (Oct 11) - Feature extraction & feature selection\n",
    "\n",
    "Week 7 (Oct 18) - Midterm\n",
    "\n",
    "Week 8 (Oct 25) - Intro to artificial neural networks and deep learning\n",
    "\n",
    "Week 9 (Nov 1) - Medical image analysis\n",
    "\n",
    "Week 10 (Nov 8) - Medical image analysis continued\n",
    "\n",
    "(Nov 15) - Fall reading week (no classes)\n",
    "\n",
    "Week 11 (Nov 22) - COVID chest x-ray\n",
    "\n",
    "Week 12 (Nov 19) - Additional topic/review\n",
    "\n",
    "Week 13 (Dec 6) - Student project presentations"
   ]
  },
  {
   "cell_type": "markdown",
   "id": "ea0a2923-294e-4190-8002-4ba5a140b8ff",
   "metadata": {},
   "source": [
    "## Course Evaluation\n",
    "\n",
    "There will be five individual assignments, a midterm and one group project.\n",
    "\n",
    "Each individual assignment will correspond to topics covered in class lectures. There will be a total of five assignments with the deadlines listed in the course schedule. Each assignment will be submitted as an iPython notebook file (.ipynb). Detailed marking rubrics for the assignments will be provided on GitHub and eClass.\n",
    "\n",
    "The midterm will cover the the course material introduced in the first half of the course (up to Week 6). It will be a multiple-choice and short-answer exam offered through eClass.\n",
    "\n",
    "There will be a final group project due at the end of the course. A list of suggested topics is included in the syllabus. The groups and project topic must be approved by the instructor. Students must submit a project proposal to the instructor by the deadline in the course schedule. The project will require reading of relevant literature and the creation of Python code. The project will require three components to be submitted: (1) a presentation during the last week of classes; (2) a written report detailing the problem, the methods used, and a discussion of the results; and (3) an archive containing all Python source code and data files. Detailed requirements and marking rubrics for the final project will be provided on the course GitHub and eClass.\n",
    "\n",
    "Assignment 1 - Python and machine learning - Wed Sep 27 - 10%\n",
    "\n",
    "Assignment 2 - Regression and classification - Wed Oct 11 - 10%\n",
    "\n",
    "Assignment 3 - Unsupervised learning, feature selection and feature extraction - Wed Oct 25 - 10%\n",
    "\n",
    "Assignment 4 - Neural networks and deep learning - Wed Nov 8 - 10%\n",
    "\n",
    "Assignment 5 - Deep learning for image analysis - Wed Nov 29 - 10%\n",
    "\n",
    "Midterm - Wed Oct 18 - 15%\n",
    "\n",
    "Group project - Topic to be selected by students - The Dec 7 - 35%"
   ]
  },
  {
   "cell_type": "markdown",
   "id": "b0e0d2e3-9cad-49c4-83a2-6edfdf446ae1",
   "metadata": {},
   "source": [
    "## GitHub\n",
    "\n",
    "The course GitHub is here: https://github.com/MaralAminpour/ML-BME-UofA\n",
    "\n",
    "The course notebooks and associated files will be available here. Updates will be pushed as necessary."
   ]
  },
  {
   "cell_type": "markdown",
   "id": "5a0730e9-5334-4ec8-97dd-818a88f40f86",
   "metadata": {},
   "source": [
    "## eClass\n",
    "\n",
    "eClass will be used for assignment submissions and the midterm. Don't forget to check it regularly!"
   ]
  },
  {
   "cell_type": "markdown",
   "id": "b4ee7a74-2e15-4c36-82a6-bd7927775522",
   "metadata": {},
   "source": [
    "## Jupyter Notebooks\n",
    "\n",
    "Jupyter notebooks will be essential for the course. The concepts and examples will both be delivered via notebooks. Assignments must be submitted in the form of a Jupyter notebook.\n",
    "\n",
    "### Using Notebooks locally with Pip\n",
    "\n",
    "One option is to install Python, Jupyter and the necessary libraries locally. Here are the instructions:\n",
    "\n",
    "...\n",
    "\n",
    "### Using Notebooks locally with Conda\n",
    "\n",
    "Another option is to use Conda. Instructions:\n",
    "\n",
    "...\n",
    "\n",
    "### Using Notebooks on Google Colab\n",
    "\n",
    "Another option is to use Google Colab to run the notebooks. Here are the instructions:\n",
    "\n",
    "..."
   ]
  },
  {
   "cell_type": "markdown",
   "id": "8907bb8c-b7e0-4665-8de5-e9f862a42d6c",
   "metadata": {},
   "source": [
    "### Other Course Info\n",
    "\n",
    "..."
   ]
  }
 ],
 "metadata": {
  "kernelspec": {
   "display_name": "Python 3 (ipykernel)",
   "language": "python",
   "name": "python3"
  },
  "language_info": {
   "codemirror_mode": {
    "name": "ipython",
    "version": 3
   },
   "file_extension": ".py",
   "mimetype": "text/x-python",
   "name": "python",
   "nbconvert_exporter": "python",
   "pygments_lexer": "ipython3",
   "version": "3.11.4"
  }
 },
 "nbformat": 4,
 "nbformat_minor": 5
}
