{
 "cells": [
  {
   "cell_type": "markdown",
   "id": "ea9e2918-e209-4af7-b72f-7d4043610a2d",
   "metadata": {},
   "source": [
    "# Assignment 1\n",
    "# Python and Machine learning\n",
    "\n",
    "## Deadline: Thursday, September 28 at 8:00 PM\n",
    "## The assignment must be submitted in the form of a Jupyter notebook and uploaded to eClass.\n",
    "\n",
    "## Marks:\n",
    "- Part 1. Sudoku solver. 2 marks. ???\n",
    "- Part 2. Report generation. 5 marks. ???\n",
    "- Part X. Simple python. \n",
    "- Part 3. NumPy. 5 marks.\n",
    "- Part 4. Plotting functions. 5 marks.\n",
    "- Part 5. Simple Scikit-Learn. 5 marks. ????\n",
    "- Total = 10 marks.\n",
    "\n",
    "## Notes:\n",
    "For each task, simply create code that accomplishes the task. Partial code is provided in some cases, your solution should use that partial code. The solution doesn't need to be pretty! Make sure the code runs though. All required imports will be provided for you; you shouldn't import any other modules."
   ]
  },
  {
   "cell_type": "code",
   "execution_count": 1,
   "id": "fb5b542c-a6b6-45b4-a739-81a0d039832a",
   "metadata": {},
   "outputs": [],
   "source": [
    "# Imports\n",
    "import numpy as np\n",
    "import matplotlib.pyplot as plt\n",
    "%matplotlib inline\n",
    "import pandas as pd"
   ]
  },
  {
   "cell_type": "markdown",
   "id": "9d37c17d-61d9-40b2-af15-cd1874c1fad2",
   "metadata": {},
   "source": [
    "## Part 1. Sudoku solver.\n",
    "\n",
    "Your task is to create a simple brute-force Sudoku solver.\n",
    "\n",
    "The rules of Sudoku are [here](https://sudoku.com/how-to-play/sudoku-rules-for-complete-beginners/). It is played on a 9x9 grid of cells. Each row must contain each digit from 1 to 9 exactly once. Likewise for each column and for each 3x3 non-overlapping box. The starting point of a Sudoku will contain some cells with given digits and some blank digits."
   ]
  },
  {
   "cell_type": "code",
   "execution_count": 66,
   "id": "fb472409-0b9f-4748-97ed-f533ab80c4e8",
   "metadata": {},
   "outputs": [
    {
     "name": "stdout",
     "output_type": "stream",
     "text": [
      "Did not find a solution\n"
     ]
    }
   ],
   "source": []
  },
  {
   "cell_type": "markdown",
   "id": "6b3b850b-7723-4fd1-be14-006e28f88849",
   "metadata": {},
   "source": [
    "## Simple Python\n",
    "\n",
    "1. Define variables\n",
    "2. Print variables\n",
    "3. Arithmetic operations\n",
    "4. Boolean conditions\n",
    "5. Create list\n",
    "6. Index, slice and append lists\n",
    "7. Concatenate lists\n",
    "8. Mutate lists\n",
    "9. Create a loop\n",
    "10. Create a function\n",
    "11. Create a class"
   ]
  },
  {
   "cell_type": "markdown",
   "id": "1a74bba0-22e8-49cd-bd06-7ca1188f2893",
   "metadata": {},
   "source": [
    "## Part 2. Numpy.\n",
    "\n",
    "1. Create 2d rotation matrices\n",
    "2. Create random vectors\n",
    "3. Rotate the random vectors with matrix multiplication\n",
    "4. Reshape vectors\n",
    "5. Concatenate vectors\n",
    "6. Scale vectors so that mean is 0 and standard deviation is 1\n",
    "\n",
    "From exercise\n",
    "1 Create arrays of different shapes (1D, 2D, 3D)\n",
    "2 Create arrays of zeros\n",
    "3 Create random arrays\n",
    "4 Create array of every even number in a specified range\n",
    "5 Print shape of array\n",
    "6 Slice an array\n",
    "7 Reshape an array\n",
    "8 Create a ones array\n",
    "9 Concatenate arrays\n",
    "10 Add an array to an array using broadcasting\n",
    "11 Add an row vector to a matrix using broadcasting\n",
    "12 Array operations: mean, std, var, sum, sqrt, fabs, exp, log\n",
    "13 Matrix multiplication of various type"
   ]
  },
  {
   "cell_type": "code",
   "execution_count": 18,
   "id": "e8ea9ba6-2a38-4ec1-a65e-c1edc87355b1",
   "metadata": {},
   "outputs": [
    {
     "name": "stdout",
     "output_type": "stream",
     "text": [
      "[[ 1 -1]\n",
      " [ 1  0]]\n",
      "[[-1  0]\n",
      " [ 0 -1]]\n",
      "[[ 0  1]\n",
      " [-1  0]]\n",
      "[[7]\n",
      " [6]]\n",
      "[[5]\n",
      " [3]]\n",
      "[[3]\n",
      " [1]]\n"
     ]
    }
   ],
   "source": [
    "# Create rotation matrices\n",
    "A1 = np.array([ [1, -1] , [1, 0] ])\n",
    "A2 = np.array([ [-1, 0] , [0, -1] ])\n",
    "A3 = np.array([ [0, 1] , [-1, 0] ])\n",
    "\n",
    "# Create random vectors\n",
    "rng = np.random.default_rng(seed=0)\n",
    "x1 = rng.integers(1, 9, size=(2, 1))\n",
    "x2 = rng.integers(1, 9, size=(2, 1))\n",
    "x3 = rng.integers(1, 9, size=(2, 1))\n",
    "\n",
    "print(rot_90_cc)\n",
    "print(rot_180_cc)\n",
    "print(rot_270_cc)\n",
    "print(x1)\n",
    "print(x2)\n",
    "print(x3)\n",
    "\n"
   ]
  },
  {
   "cell_type": "markdown",
   "id": "ce1b2fcb-9d2f-45ae-893f-dea37c05e825",
   "metadata": {},
   "source": [
    "## Part 3. Plotting functions.\n",
    "\n",
    "- Task 1: Plotting a curve\n",
    "- Task 2: \n",
    "- Task 3: Coloring points\n",
    "- Task 4: Labeling plot\n",
    "- Task 5: Boxplots and violinplots\n",
    "\n",
    "Exercises:\n",
    "1 Plot a simple function (x and y)\n",
    "2 Add labels: xlabel, ylabel, titles, legends\n",
    "3 Plot multiple (2, 3) functions on the same plot\n",
    "4 Plot in different styles (circles, triangles, etc)\n",
    "5 Control axis limits and ticks\n",
    "6 Create subplots in a single figure\n",
    "7 Histogram, bar plot (with error bars), boxplot, violin plots"
   ]
  },
  {
   "cell_type": "code",
   "execution_count": 13,
   "id": "1a555d2b-0dee-45ac-b008-6b1921d70c4f",
   "metadata": {},
   "outputs": [
    {
     "data": {
      "image/png": "[encoded data removed]",
      "text/plain": [
       "<Figure size 640x480 with 1 Axes>"
      ]
     },
     "metadata": {},
     "output_type": "display_data"
    }
   ],
   "source": [
    "# Create data\n",
    "def f(x):\n",
    "    return np.log(x)\n",
    "\n",
    "rng = np.random.default_rng(seed=0)\n",
    "\n",
    "X = rng.integers(1, 50, size=100, 1))\n",
    "noise = 3 * rng.random()\n",
    "\n",
    "y = f(X) + noise\n",
    "\n",
    "X = X.reshape(-1, 1) \n",
    "\n",
    "plt.plot(X, y, 'o')\n",
    "plt.show()"
   ]
  },
  {
   "cell_type": "markdown",
   "id": "572b8e33-d3b1-4321-bcdf-a702b436176f",
   "metadata": {},
   "source": [
    "## Part 4. Pandas.\n",
    "\n",
    "- Task 1:\n",
    "- Task 2: \n",
    "- Task 3: \n",
    "- Task 4: \n",
    "- Task 5: \n",
    "\n",
    "Loading data\n",
    "Creating dataframe from scratch\n",
    "Editing a dataframe\n",
    "Filtering a dataframe\n",
    "Iterating through a dataframe\n",
    "Merging dataframes\n",
    "Plotting dataframes"
   ]
  },
  {
   "cell_type": "code",
   "execution_count": null,
   "id": "0591503a-3896-4c57-aeb9-0df41e9a7b76",
   "metadata": {},
   "outputs": [],
   "source": []
  },
  {
   "cell_type": "markdown",
   "id": "725b2de4-9029-47fa-a13f-25a42e38e31b",
   "metadata": {},
   "source": [
    "## Simple scikit-learn\n",
    "\n",
    "Exercises\n",
    "\n",
    "1 Regression: Linear regression fit\n",
    "2 Linear regression R2 score\n",
    "3 Linear regression predict\n",
    "4 Linear regression plot\n",
    "5 Classification: Perceptron\n",
    "6 Classification accuracy score\n",
    "7 Classification predict\n",
    "8 Classification plot\n",
    "9 Clustering\n",
    "10 PCA"
   ]
  },
  {
   "cell_type": "code",
   "execution_count": null,
   "id": "8e78f614-7b9d-4c45-a7d9-8802f4adb7f2",
   "metadata": {},
   "outputs": [],
   "source": []
  }
 ],
 "metadata": {
  "kernelspec": {
   "display_name": "Python 3 (ipykernel)",
   "language": "python",
   "name": "python3"
  },
  "language_info": {
   "codemirror_mode": {
    "name": "ipython",
    "version": 3
   },
   "file_extension": ".py",
   "mimetype": "text/x-python",
   "name": "python",
   "nbconvert_exporter": "python",
   "pygments_lexer": "ipython3",
   "version": "3.11.4"
  }
 },
 "nbformat": 4,
 "nbformat_minor": 5
}
