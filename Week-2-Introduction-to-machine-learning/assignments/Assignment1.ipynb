{
 "cells": [
  {
   "cell_type": "markdown",
   "id": "d8fbfd44-e17d-4f20-a443-13584ff5fbb8",
   "metadata": {},
   "source": [
    "# Assignment 1\n",
    "# Pandas and Matplotlib\n",
    "\n",
    "## Deadline: Thursday, September 28 at 8:00 PM\n",
    "## The assignment must be submitted in the form of a Jupyter notebook and uploaded to eClass.\n",
    "\n",
    "## Marks:\n",
    "- Step 1. Load data into a dataframe. 0.5 marks.\n",
    "- Step 2. Examine the dataset. 0.5 marks.\n",
    "- Step 3. Filter columns. 0.5 marks.\n",
    "- Step 4. Check data quality. 0.5 marks.\n",
    "- Step 5. Removing and imputing data. 1 mark.\n",
    "- Step 6. Check balance of data between classes. 0.5 marks.\n",
    "- Step 7. Visualize correlations of numerical variables. 2 mark.\n",
    "- Step 8. Check for outliers. 2 mark.\n",
    "- Total = 10 marks.\n",
    "\n",
    "## Notes:\n",
    "This notebook is structured as a series of steps. Earlier steps must be completed before later steps for the code to run. Some partial code is provided; your solution should use that partial code. The solution doesn't need to be pretty! Make sure the code runs without errors. All required imports will be provided for you; you shouldn't import any other modules. You may need to check with the documentation for the NumPy, Matplotlib or Pandas packages, or other online sources. There are multiple solutions for most tasks."
   ]
  },
  {
   "cell_type": "code",
   "execution_count": null,
   "id": "54685ea4-713b-426c-ad5a-83fb209613ef",
   "metadata": {},
   "outputs": [],
   "source": [
    "# Imports\n",
    "import numpy as np\n",
    "import pandas as pd\n",
    "import matplotlib.pyplot as plt\n",
    "%matplotlib inline"
   ]
  },
  {
   "cell_type": "code",
   "execution_count": null,
   "id": "d3d97382-b0a6-4632-9f29-054bf747b6a9",
   "metadata": {},
   "outputs": [],
   "source": [
    "import requests\n",
    "\n",
    "def download_data(source, dest):\n",
    "    base_url = 'https://raw.githubusercontent.com/'\n",
    "    owner = 'MaralAminpour'\n",
    "    repo = 'ML-BME-Course-UofA-Fall-2023'\n",
    "    branch = 'main'\n",
    "    url = '{}/{}/{}/{}/{}'.format(base_url, owner, repo, branch, source)\n",
    "    r = requests.get(url)\n",
    "    f = open(dest, 'wb')\n",
    "    f.write(r.content)\n",
    "    f.close()\n",
    "\n",
    "download_data('Assignments/data/heart.csv', 'heart.csv')"
   ]
  },
  {
   "cell_type": "code",
   "execution_count": null,
   "id": "ad1ea265-8de1-4f0a-be63-0f80488b2601",
   "metadata": {},
   "outputs": [],
   "source": [
    "# Step 1. Load data into a dataframe\n",
    "\n",
    "# The downloaded file heart.csv contains data in a CSV (comma-separated values) formatted text file.\n",
    "# Load this data into a Pandas dataframe object\n",
    "# Note that the first row of the CSV file contains the column headers\n",
    "# Then, print a few of the data rows using head to verify it has been loaded correctly\n",
    "\n",
    "heart_data = None\n",
    "# Print a few of the data rows"
   ]
  },
  {
   "cell_type": "code",
   "execution_count": null,
   "id": "91ed96a0-cfe5-4530-90d6-befeb0be349e",
   "metadata": {},
   "outputs": [],
   "source": [
    "# Step 2. Examine the dataset\n",
    "\n",
    "# Next we'll just print out some basic info about our dataset\n",
    "# Print the number of samples\n",
    "# Print the number of data columns\n",
    "# Print the header names for each column\n",
    "# Print the number of missing values - you can use the isna() dataframe method\n",
    "\n",
    "print('Number of samples: {}'.format(None))\n",
    "print('Number of data columns: {}'.format(None))\n",
    "print('Column names: {}'.format(None))\n",
    "print('Number of missing values: {}'.format(None))"
   ]
  },
  {
   "cell_type": "code",
   "execution_count": null,
   "id": "d66c32a7-e89d-4100-a19e-91917202cd60",
   "metadata": {},
   "outputs": [],
   "source": [
    "# Step 3. Filter columns\n",
    "\n",
    "# Next, let's remove some columns from dataframe to simplify the dataset for the rest of this assignment\n",
    "# Keep only the Age, RestingBP, Cholesterol and HeartDisease columns\n",
    "\n",
    "heart_data = None\n",
    "# Print a few of the data rows"
   ]
  },
  {
   "cell_type": "markdown",
   "id": "7a1fe7d0-a8ac-4e14-ae5f-229f86f6a05b",
   "metadata": {},
   "source": [
    "Here is a data dictionary defining the meaning of the columns remaining in the dataset.\n",
    "\n",
    "## Data dictionary\n",
    "  1. Age - Age of the Patient - **Numerical**\n",
    "  2. RestingBP - Resting Blood Pressure (mm/Hg) - **Numerical**\n",
    "  3. Cholesterol - Serum Cholesterol (mm/dl) - **Numerical**\n",
    "  4. HeartDisease - Output Class - **Categorical (1: Heart Disease, 0: Normal)**"
   ]
  },
  {
   "cell_type": "code",
   "execution_count": null,
   "id": "4506f646-000b-4bad-ba7d-7ab286bb4054",
   "metadata": {},
   "outputs": [],
   "source": [
    "# Step 4. Check data quality\n",
    "\n",
    "# Let's double check that all of the remaining data is reasonable\n",
    "\n",
    "# Print the min and max for the Age column\n",
    "print('Minimum age = {}\\nMaximum age = {}'.format(None, None))\n",
    "\n",
    "# Print the min and max for the RestingBP column \n",
    "print('Minimum RestingBP = {}\\nMaximum RestingBP = {}'.format(None, None))\n",
    "\n",
    "# Print the min and max for the Cholesterol column \n",
    "print('Minimum Cholesterol = {}\\nMaximum Cholesterol = {}'.format(None, None))"
   ]
  },
  {
   "cell_type": "code",
   "execution_count": null,
   "id": "3d488daf-7f09-4f4d-8810-4ece03b6a414",
   "metadata": {},
   "outputs": [],
   "source": [
    "# Step 5. Removing and imputing data\n",
    "\n",
    "# There are some values that are zero RestingBP and Cholesterol\n",
    "# This may mean that those measurements weren't available for certain patients\n",
    "# Let's count the number of zero values for both columns\n",
    "\n",
    "print('Count of zero RestingBP = {}'.format(None))\n",
    "print('Count of zero Cholesterol = {}'.format(None))\n",
    "\n",
    "# We will use the following strategy:\n",
    "# First, if RestingBP is 0, remove the sample from the data\n",
    "\n",
    "heart_data = None\n",
    "\n",
    "# Second, we will impute the missing Cholesterol values:\n",
    "#   Find the average of the non-zero cholesterol values and set the zero values to that average\n",
    "mean_Cholesterol = None\n",
    "# Add code here to impute the missing Cholesterol values\n",
    "\n",
    "# Finally, let's check again the ranges of the RestingBP and Cholesterol\n",
    "print('Minimum RestingBP = {}\\nMaximum RestingBP = {}'.format(None, None))\n",
    "print('Minimum Cholesterol = {}\\nMaximum Cholesterol = {}'.format(None, None))"
   ]
  },
  {
   "cell_type": "code",
   "execution_count": null,
   "id": "6bf01a7d-1299-455e-9666-07ea478d11bb",
   "metadata": {},
   "outputs": [],
   "source": [
    "# Step 6. Check balance of data between classes\n",
    "\n",
    "# Print the number of samples with HeartDisease=0 and the number of samples with HeartDisease=1\n",
    "\n",
    "print('Number of samples with HeartDisease 0 (Normal): {}'.format(None))\n",
    "print('Number of samples with HeartDisease 1 (Heart Disease ): {}'.format(None))"
   ]
  },
  {
   "cell_type": "code",
   "execution_count": null,
   "id": "c9573857-42a2-432c-b0dc-7c4d25a3a056",
   "metadata": {},
   "outputs": [],
   "source": [
    "# Step 7. Visualize correlations of numerical variables\n",
    "\n",
    "# We will do some exploratory data analysis to visualize any relations in our data\n",
    "# We will use Matplotlib to visualize correlations between the HeartDisease label and the other data columns\n",
    "\n",
    "# For each data column of (Age, RestingBP and Cholesterol) use Matplotlib to create \n",
    "#    a scatter plot with the HeartDisease label (0 or 1) on the x-axis\n",
    "#    and the value of the column on the y-axis. I.e. there will be three figures\n",
    "#    Use Matplotlib's scatter function (i.e. plt.scatter)\n",
    "\n",
    "# For each plot, add appropriate xlabel and ylabel\n",
    "\n",
    "# First, create the scatter plot with Age column\n",
    "# Add code for figure here\n",
    "x = None\n",
    "y = None\n",
    "plt.scatter(x, y)\n",
    "\n",
    "# Second, create the scatter plot with RestingBP column\n",
    "# Add code for figure here\n",
    "x = None\n",
    "y = None\n",
    "plt.scatter(x, y)\n",
    "\n",
    "# Third, create the scatter plot with Cholesterol column\n",
    "# Add code for figure here\n",
    "x = None\n",
    "y = None\n",
    "plt.scatter(x, y)"
   ]
  },
  {
   "cell_type": "code",
   "execution_count": null,
   "id": "c0038b36-d407-49a9-9155-74b0355af01f",
   "metadata": {},
   "outputs": [],
   "source": [
    "# Step 8. Check for outliers\n",
    "\n",
    "# For each data column of (Age, RestingBP and Cholesterol) use Matplotlib to create \n",
    "#    a boxplot for the values of that data column. I.e. there will be three figures\n",
    "#    Use Matplotlib's boxplot function\n",
    "\n",
    "# For each plot, add appropriate axis labels\n",
    "\n",
    "# First, create the boxplot with Age column\n",
    "# Add code for figure here\n",
    "x = [0]\n",
    "plt.boxplot(x)\n",
    "\n",
    "# Second, create the boxplot with RestingBP column\n",
    "# Add code for figure here\n",
    "x = [0]\n",
    "plt.boxplot(x)\n",
    "\n",
    "# Third, create the boxplot with Cholesterol column\n",
    "# Add code for figure here\n",
    "x = [0]\n",
    "plt.boxplot(x)"
   ]
  }
 ],
 "metadata": {
  "kernelspec": {
   "display_name": "Python 3 (ipykernel)",
   "language": "python",
   "name": "python3"
  },
  "language_info": {
   "codemirror_mode": {
    "name": "ipython",
    "version": 3
   },
   "file_extension": ".py",
   "mimetype": "text/x-python",
   "name": "python",
   "nbconvert_exporter": "python",
   "pygments_lexer": "ipython3",
   "version": "3.11.4"
  }
 },
 "nbformat": 4,
 "nbformat_minor": 5
}
