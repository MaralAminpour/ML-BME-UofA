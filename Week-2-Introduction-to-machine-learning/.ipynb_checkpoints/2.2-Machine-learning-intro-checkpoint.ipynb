{
 "cells": [
  {
   "cell_type": "markdown",
   "id": "207b2f56-7d54-4fc2-b864-9cec3fc0d65c",
   "metadata": {},
   "source": [
    "# Introduction to Machine Learning\n",
    "\n",
    "Let's look at the following questions:\n",
    "\n",
    "1. What is machine learning?\n",
    "\n",
    "2. How do we do machine learning?\n",
    "\n",
    "3. What are some of the challenges and issues we need to consider when doing machine learning?\n",
    "\n",
    "4. What are some of the biomedical applications of machine learning?"
   ]
  },
  {
   "cell_type": "markdown",
   "id": "9500ccc5-8000-4ac3-a36e-194f83ed7905",
   "metadata": {},
   "source": [
    "## 1. What is machine learning?"
   ]
  },
  {
   "cell_type": "markdown",
   "id": "1a80dc40-e2ad-44a2-b480-a74160c7ece7",
   "metadata": {},
   "source": [
    "### Goal of machine learning\n",
    "\n",
    "The goal of machine learning is to create a model that makes a prediction about something that we can observe. The model is a mathematical function that takes input (some information we can measure or collect about samples) and returns a prediction. Usually we will train our model by providing it with example where we already known the correct answer (_supervised learning_). But we want our model to return good predictions even for new or unseen data. Sometimes we will use machine learning just to identify patterns in the data (_unsupervised learning_)."
   ]
  },
  {
   "cell_type": "markdown",
   "id": "95d6aba8-db2e-4291-bb8a-db71fcf72019",
   "metadata": {},
   "source": [
    "### Machine learning and AI\n",
    "\n",
    "Machine learning is considered a branch of Artificial Intelligence. It is a type of predictive AI. AI includes other branches, such as generative AI and agent-based AI."
   ]
  },
  {
   "cell_type": "markdown",
   "id": "d3942d00-c355-4f34-8de0-3c54e206142d",
   "metadata": {},
   "source": [
    "### Deep learning\n",
    "\n",
    "Deep learning is just machine learning using deep neural networks as the type of mathematical model. It has been very successful at working with complicated input data, such as images. We will cover neural networks in the second half of the course."
   ]
  },
  {
   "cell_type": "markdown",
   "id": "21fa041b-f6d3-4a28-a178-753309452523",
   "metadata": {},
   "source": [
    "### Supervised vs. unsupervised machine learning\n",
    "\n",
    "When we do _supervised_ machine learning we have some training data for which we already know the answers: the true class of the data (or the class of the data that is assigned by the best method available), or the true value of some quantivative value.\n",
    "\n",
    "When we do _unsupervised_ machine learning we don't have the answers available. Most commonly this is _clustering_, where we apply a method to divide the data into some subsets (called clusters).\n",
    "\n",
    "Examples ...\n",
    "\n",
    "Most of our machine learning will be supervised learning. We will look at unsupervised learning during Week 5."
   ]
  },
  {
   "cell_type": "markdown",
   "id": "d6307e38-e154-4778-a26f-952072cf272c",
   "metadata": {},
   "source": [
    "### Fitting a model\n",
    "\n",
    "When doing machine learning, we need to select the mathematical form of our model. Then we will apply an algorithm to find the best parameters for our model.\n",
    "\n",
    "Hyperparameters"
   ]
  },
  {
   "cell_type": "markdown",
   "id": "07d98cb1-0f57-4eed-98c9-4baf1f3555f2",
   "metadata": {},
   "source": [
    "## 2. How do we do machine learning?"
   ]
  },
  {
   "cell_type": "markdown",
   "id": "26d393a7-9345-4396-8c11-981ef958c619",
   "metadata": {},
   "source": [
    "### Machine learning protocol\n",
    "\n",
    "When we do machine learning, we normally follow a protocol (or pipeline) consisting of the following steps.\n",
    "\n",
    "Step 1. Define the problem\n",
    "\n",
    "Step 2. Prepare the data\n",
    "\n",
    "Step 3. Exploratory data analysis\n",
    "\n",
    "Step 4. Feature selection and extraction\n",
    "\n",
    "Step 5. Creating training, validation and test sets\n",
    "\n",
    "Step 6. Select model type and optimization algorithm\n",
    "\n",
    "Step 7. Fit the model!\n",
    "\n",
    "Step 8. Evaluate the model"
   ]
  },
  {
   "cell_type": "markdown",
   "id": "0ce68799-071a-4812-8d19-40a7be9cd5e0",
   "metadata": {},
   "source": [
    "#### Step 1. Define the problem\n",
    "\n",
    "It is very important to understand and describe what exactly we are trying to predict. Are we trying predict classes, e.g. does a patient have a disease or not? This is a classification problem. If we have two classes, it is a _binary classification_ problem. Sometime we are interested in a _multiclass_ problem Are we trying to predict a number, e.g. risk? Then we have _regression_ problem.\n",
    "\n",
    "##### Classification versus regression\n",
    "\n",
    "##### Supervised versus unsupervised"
   ]
  },
  {
   "cell_type": "markdown",
   "id": "c11f53e7-d5e2-474d-bc1f-9f268d121882",
   "metadata": {},
   "source": [
    "#### Step 2. Prepare the data\n",
    "\n",
    "This is often the most time consuming step of a machine learning protocol. We may need to pre-process the data so that it is in a format suitable for the type of machine learning we want to do. Sometimes we need to remove low quality samples from the data, or handle some of the data in a special way.\n",
    "\n",
    "Another type of data preparation that is sometimes useful is _data augmentation_. This is particularly important when we have a small amount of data. For example, if we have a set images (assuming there is no natural orientation), we could rotate all of the images randomly and generate an augmented dataset with multiple rotations for each initial image.\n",
    "\n",
    "Data can be numerical or categorical. Categorical data could be binary or multiclass. [Discuss here methods for handling categorical data] [Discuss one-hot encoding]"
   ]
  },
  {
   "cell_type": "markdown",
   "id": "04f26049-8185-40cc-8b19-8d9e79891ce4",
   "metadata": {},
   "source": [
    "#### Step 3. Exploratory data analysis\n",
    "\n",
    "This is a very useful step whenever you are starting a machine learning protocol. We will use various techniques to summarize and visualize our data to gain an initial understanding of the data. This will help us to select the best methods to use for the rest of the protocol."
   ]
  },
  {
   "cell_type": "markdown",
   "id": "c30bdf6c-613e-48db-9acc-e19dd12b74c7",
   "metadata": {},
   "source": [
    "#### Step 4. Feature selection and extraction\n",
    "\n",
    "Sometimes we can put the raw data directly into a machine learning method. But more commonly we need to convert the data into features.\n",
    "\n",
    "Features are numbers that describe our data samples and will be used as input for machine learning. We will represent each sample as a vector, with each element of the vector being one of the features.\n",
    "\n",
    "One common task required will be to convert text data into numeric data. For example we would transform \"healthy\" or \"diseased\" into 0 or 1.\n",
    "\n",
    "One-hot encoding. Explain it here...\n",
    "\n",
    "Examples ..."
   ]
  },
  {
   "cell_type": "markdown",
   "id": "e34ad2c2-834f-4c86-924c-b644dd4da9ad",
   "metadata": {},
   "source": [
    "#### Step 5. Creating training, validation and test sets\n",
    "\n",
    "This is a key step to help us create a model that we can evaluate for generalizability: how good the model would be at predicting new or unseen data.\n",
    "\n",
    "The first division is between training and test sets. We will use the training set to find the best parameters with our optimization algorithm. We will use the test set to evaluate how good the model would perform on unseen or new data. When reporting the performance (such as accuracy) of the model it is important to use only the test set. This will be way to determine and avoid overfitting.\n",
    "\n",
    "Often we will further divide the training set into a training set and a validation set. The validation set will be used to select _hyperparameters_, depending on the particular model we are using.\n",
    "\n",
    "We need to select the size of the sets. For example, we could put 80% of the data in the training set, 10% in the validation set and 10% in the test set.\n",
    "\n",
    "The simplest method to generate these sets is to just divide the data randomly. But we more often need to take some care to divide the sets. For example, we might need to ensure that there are about the same proportion of positive and negative samples in each set. Sometimes we will need to more complicated methods to create sets.\n",
    "\n",
    "Describe cross-validation\n",
    "\n",
    "Testing on completely new and unseen data!"
   ]
  },
  {
   "cell_type": "markdown",
   "id": "0dde4333-af81-4b08-b2ed-efc0ae97464b",
   "metadata": {},
   "source": [
    "#### Step 6. Select model type and optimization algorithm\n",
    "\n",
    "There are many different type of models available for both classification and regression problems. We will cover many of them during the course!\n",
    "\n",
    "For some models we need to write down a loss function...\n",
    "\n",
    "Each model describes a functional form and some parameters (or weights) that we need to discover using an optimization algorithm. The models can very between a very simple linear model, all the way to complicated neural networks with thousands or even billions of parameters!\n",
    "\n",
    "The type of optimization algorithm to find the best parameters will depend on the type of model and our data. We also need to consider the time and computer resources that will be necessary for training.\n",
    "\n",
    "For example, when fitting a neural network, we will use a variant of a gradient descent algorithm.\n",
    "\n",
    "Parameters vs hyperparameters... Explain the difference!\n",
    "\n",
    "If we have many hyperparameters that may be relevant use a grid search\n",
    "\n",
    "Describe cross-validation\n",
    "\n",
    "Loss function\n",
    "\n",
    "##### Neural Networks"
   ]
  },
  {
   "cell_type": "markdown",
   "id": "95d4895d-51a4-4673-a8b1-2c17f5b1c020",
   "metadata": {},
   "source": [
    "#### Step 7. Fit the model!\n",
    "\n",
    "We run our optimization algorithm and find the parameters..."
   ]
  },
  {
   "cell_type": "markdown",
   "id": "889af032-c793-4737-9239-50cd04f7b3d7",
   "metadata": {},
   "source": [
    "### Step 8. Evaluate the model\n",
    "\n",
    "This is the most important step. We have multiple metrics that we can use to evaluate the performance of the model and to compare different models. \n",
    "\n",
    "There are many different performance metrics that will appropriate for different kinds of problems. For classification problems, we will use accuracy, sensitivity and specificity [also recall and precision and F1-score; maybe introduce these first since they are the standard for machine learning?]. For regression problems we will R2 or RMSE (etc...)\n",
    "\n",
    "Of course, we will need to go back and repeat the steps as many times as necessary until we have a model that is suitable."
   ]
  },
  {
   "cell_type": "markdown",
   "id": "03f73001-5376-4fce-bfb8-394f6ecee82a",
   "metadata": {},
   "source": [
    "## 3. What are some of the challenges and issues we need to consider when doing machine learning?"
   ]
  },
  {
   "cell_type": "markdown",
   "id": "bfcc1004-5c40-4a6e-93f0-eaf32be53e93",
   "metadata": {},
   "source": [
    "### Overfitting"
   ]
  },
  {
   "cell_type": "markdown",
   "id": "c6257da7-f255-4b00-9b3c-b157eac426c9",
   "metadata": {},
   "source": [
    "### White box vs black box"
   ]
  },
  {
   "cell_type": "markdown",
   "id": "d8ca4aaa-e413-48d7-8986-b834745c431a",
   "metadata": {},
   "source": [
    "### Extrapolation vs interpolation"
   ]
  },
  {
   "cell_type": "markdown",
   "id": "a7462650-a2ca-4d3e-ad27-2ed0fc30c8f6",
   "metadata": {},
   "source": [
    "### Handling outliers"
   ]
  },
  {
   "cell_type": "markdown",
   "id": "c0cf1360-3954-40b0-958f-e88bf596c1ca",
   "metadata": {},
   "source": [
    "### Handling missing or invalid data\n",
    "\n",
    "We have multiple options to handle this situation:\n",
    "\n",
    "1. Remove samples with missing or invalid values\n",
    "2. Replace the bad values with a default value (e.g. the median of the whole dataset) (imputed data)"
   ]
  },
  {
   "cell_type": "markdown",
   "id": "06daa301-ec04-4ca3-bcf9-c68f7d0374d3",
   "metadata": {},
   "source": [
    "### Handling poor quality data"
   ]
  },
  {
   "cell_type": "markdown",
   "id": "d0a95301-0932-4e07-9f95-6759d1199944",
   "metadata": {},
   "source": [
    "### Dimensionality reduction: PCA & ICA"
   ]
  },
  {
   "cell_type": "markdown",
   "id": "5392727f-debf-4d5f-b04b-a6505dd5e66a",
   "metadata": {},
   "source": [
    "## 4. What are some of the biomedical applications of machine learning?"
   ]
  },
  {
   "cell_type": "markdown",
   "id": "16258b2c-1cd5-42aa-8e28-94e88a125413",
   "metadata": {},
   "source": [
    "There are many biomedical applications of machine learning:\n",
    "\n",
    "Diagnostic applications\n",
    "Prognostic applications\n",
    "Drug discovery\n",
    "\n",
    "Here are some specific example datasets we'll use doing this course:\n",
    "\n",
    "\n",
    "\n",
    "[Add more examples]"
   ]
  },
  {
   "cell_type": "markdown",
   "id": "c66ee993-5dbd-4d57-9e20-6ea1540e184e",
   "metadata": {},
   "source": []
  },
  {
   "cell_type": "markdown",
   "id": "1d5b7fb6-5ef1-4db6-ac7d-cd4e1620c2b1",
   "metadata": {},
   "source": []
  }
 ],
 "metadata": {
  "kernelspec": {
   "display_name": "Python 3 (ipykernel)",
   "language": "python",
   "name": "python3"
  },
  "language_info": {
   "codemirror_mode": {
    "name": "ipython",
    "version": 3
   },
   "file_extension": ".py",
   "mimetype": "text/x-python",
   "name": "python",
   "nbconvert_exporter": "python",
   "pygments_lexer": "ipython3",
   "version": "3.11.4"
  }
 },
 "nbformat": 4,
 "nbformat_minor": 5
}
