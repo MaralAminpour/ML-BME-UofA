{
 "cells": [
  {
   "cell_type": "markdown",
   "metadata": {},
   "source": [
    "# Feature selection\n",
    "\n",
    "In this notebook we will look again at the brain structure volumes of preterm babies. We will see how feature selection can prevent overfitting, improve performance of models and how it can also help in feature interpretation."
   ]
  },
  {
   "cell_type": "code",
   "execution_count": 1,
   "metadata": {},
   "outputs": [],
   "source": [
    "###################################\n",
    "## RUN THIS\n",
    "###################################\n",
    "# this code is to suppress warnings\n",
    "import warnings\n",
    "from sklearn.exceptions import ConvergenceWarning\n",
    "warnings.filterwarnings(\"ignore\", category=DeprecationWarning)\n",
    "warnings.filterwarnings(\"ignore\", category=ConvergenceWarning)\n",
    "warnings.filterwarnings(\"ignore\", category=FutureWarning)\n",
    "####################################"
   ]
  },
  {
   "cell_type": "markdown",
   "metadata": {},
   "source": [
    "## Brain structure volumes\n",
    "\n",
    "We will load again the dataset of 86 brain structure volumes of 164 preterm babies. We will revisit prediction of GA from the volumes. Recall, that Multivariate Linear Regression resulted in overfitting of the data and Lasso and Ridge penalties were successful in reducing the overfitting. \n",
    "\n",
    "### Load data\n",
    "\n",
    "The code below loads the data, creates the feature matrix and the target vector and performs the feature scaling."
   ]
  },
  {
   "cell_type": "code",
   "execution_count": 2,
   "metadata": {},
   "outputs": [
    {
     "name": "stdout",
     "output_type": "stream",
     "text": [
      "Features shape: (164, 86); Targets shape: (164,)\n",
      "Performed feature scaling.\n"
     ]
    }
   ],
   "source": [
    "import pandas as pd\n",
    "import numpy as np\n",
    "from sklearn.preprocessing import StandardScaler\n",
    "\n",
    "# read spreadsheet using pandas\n",
    "data = pd.read_csv(\"datasets/GA-structure-volumes-preterm.csv\",header=None)\n",
    "# convert from 'DataFrame' to numpy array\n",
    "structure_volumes = data.to_numpy()\n",
    "# Features\n",
    "X = structure_volumes[:,1:]\n",
    "# Targets\n",
    "y = structure_volumes[:,0]\n",
    "# checking the size of the feature and target arrays \n",
    "# note they must agree in the first dimension\n",
    "print('Features shape: {}; Targets shape: {}'.format(X.shape,y.shape)) \n",
    "# we have 86 features and 164 samples\n",
    "\n",
    "# Scale features\n",
    "X = StandardScaler().fit_transform(X)\n",
    "print('Performed feature scaling.')"
   ]
  },
  {
   "cell_type": "markdown",
   "metadata": {},
   "source": [
    "We are interested in finding out which features are selected by our models as most predictive of the age at scan. The code below reads the structure names and stores them as a `dataframe` object `structure_names`."
   ]
  },
  {
   "cell_type": "code",
   "execution_count": 3,
   "metadata": {},
   "outputs": [
    {
     "data": {
      "text/plain": [
       "0                                Hippocampus left\n",
       "1                               Hippocampus right\n",
       "2                                   Amygdala left\n",
       "3                                  Amygdala right\n",
       "4     Anterior temporal lobe, medial part left GM\n",
       "                         ...                     \n",
       "81                          Parietal lobe left WM\n",
       "82                                            CSF\n",
       "83                       Intra-cranial background\n",
       "84       Thalamus right, low intensity part in T2\n",
       "85        Thalamus left, low intensity part in T2\n",
       "Name: 1, Length: 86, dtype: object"
      ]
     },
     "execution_count": 3,
     "metadata": {},
     "output_type": "execute_result"
    }
   ],
   "source": [
    "# read file with structure names\n",
    "structure_names = pd.read_csv('datasets/labels', header = None, sep='\\t')\n",
    "structure_names[1]"
   ]
  },
  {
   "cell_type": "markdown",
   "metadata": {},
   "source": [
    "### Multivariate linear regression \n",
    "\n",
    "Multivariate linear regression overfitted the data. Rembember the performance of linear regression to see whether feature selection can help us improve it."
   ]
  },
  {
   "cell_type": "code",
   "execution_count": 4,
   "metadata": {},
   "outputs": [
    {
     "name": "stdout",
     "output_type": "stream",
     "text": [
      "Linear regression: Cross-validated RMSE is  2.08\n"
     ]
    }
   ],
   "source": [
    "from sklearn.linear_model import LinearRegression\n",
    "from sklearn.model_selection import cross_val_score\n",
    "\n",
    "model = LinearRegression()\n",
    "scores = cross_val_score(model, X, y, scoring = 'neg_mean_squared_error')\n",
    "print('Linear regression: Cross-validated RMSE is ', round(np.sqrt(-scores.mean()),2))"
   ]
  },
  {
   "cell_type": "markdown",
   "metadata": {},
   "source": [
    "### Ridge\n",
    "\n",
    "Previously, we have found that optimal `alpha` for Ridge regression was around 45. This setting significanlty reduced overfitting. Let's rerun this model. Remember the performance of Ridge regression as a baseline for good performance."
   ]
  },
  {
   "cell_type": "code",
   "execution_count": 5,
   "metadata": {},
   "outputs": [
    {
     "name": "stdout",
     "output_type": "stream",
     "text": [
      "Ridge regression: Cross-validated RMSE is  1.17\n"
     ]
    }
   ],
   "source": [
    "from sklearn.linear_model import Ridge\n",
    "\n",
    "model = Ridge(alpha = 45)\n",
    "scores = cross_val_score(model, X, y, scoring = 'neg_mean_squared_error')\n",
    "print('Ridge regression: Cross-validated RMSE is ', round(np.sqrt(-scores.mean()),2))"
   ]
  },
  {
   "cell_type": "markdown",
   "metadata": {},
   "source": [
    "We will now explore different feature selection techniques in Scikit-learn.\n",
    "\n",
    "\n",
    "## Univatiate feature selection\n",
    "\n",
    "### Pearson's correlation coefficient\n",
    "\n",
    "Correlation coefficient can be calaculated using function `pearsonr` from `scipy.stats` module. High correlation (positive and negative) means close to linear relationship with target values. Note that majority, but not all, volumes are highly correlated with GA."
   ]
  },
  {
   "cell_type": "code",
   "execution_count": 6,
   "metadata": {},
   "outputs": [
    {
     "data": {
      "text/plain": [
       "(-1.0, 86.0, 0.0, 1.0)"
      ]
     },
     "execution_count": 6,
     "metadata": {},
     "output_type": "execute_result"
    },
    {
     "data": {
      "image/png": "[encoded data removed]",
      "text/plain": [
       "<Figure size 1152x288 with 1 Axes>"
      ]
     },
     "metadata": {
      "needs_background": "light"
     },
     "output_type": "display_data"
    }
   ],
   "source": [
    "import matplotlib.pyplot as plt\n",
    "%matplotlib inline\n",
    "\n",
    "from scipy.stats import pearsonr\n",
    "\n",
    "n = X.shape[1]\n",
    "cc = np.zeros(n)\n",
    "for i in range(n):\n",
    "    cc[i]=pearsonr(X[:,i],y)[0]\n",
    "\n",
    "plt.figure(figsize = [16,4])\n",
    "plt.bar(np.arange(n),cc)\n",
    "plt.title('Pearsons correlation coefficient', fontsize = 18)\n",
    "plt.xlabel('Feature', fontsize = 16)\n",
    "plt.ylabel('Correlation coefficient', fontsize = 16)\n",
    "plt.axis([-1,86,0,1])"
   ]
  },
  {
   "cell_type": "markdown",
   "metadata": {},
   "source": [
    "### F-score\n",
    "\n",
    "Scikit-learn works with F-values rather than Pearson's Correlation Coefficient. However these two are equivalent for feature selection.\n",
    "\n",
    "The F-value can be calculated using `f_regression` in `sklearn`. \n",
    "\n",
    "**Activity 1.1:** Complete the code below to plot F-scores using a `bar` plot."
   ]
  },
  {
   "cell_type": "code",
   "execution_count": 7,
   "metadata": {},
   "outputs": [
    {
     "data": {
      "text/plain": [
       "Text(0, 0.5, 'F-value')"
      ]
     },
     "execution_count": 7,
     "metadata": {},
     "output_type": "execute_result"
    },
    {
     "data": {
      "image/png": "[encoded data removed]",
      "text/plain": [
       "<Figure size 1152x288 with 1 Axes>"
      ]
     },
     "metadata": {
      "needs_background": "light"
     },
     "output_type": "display_data"
    }
   ],
   "source": [
    "from sklearn.feature_selection import f_regression\n",
    "\n",
    "f_score = f_regression(X,y)[0]\n",
    "\n",
    "# plot f-scores\n",
    "plt.figure(figsize = [16,4])\n",
    "plt.bar(np.arange(n),f_score)\n",
    "plt.title('F-value', fontsize = 18)\n",
    "plt.xlabel('Feature', fontsize = 16)\n",
    "plt.ylabel('F-value', fontsize = 16)"
   ]
  },
  {
   "cell_type": "markdown",
   "metadata": {},
   "source": [
    "**Activity 1.2:** Plot relationship between Person's correlation coefficient and F-score using `plot`. Are they equivalent?"
   ]
  },
  {
   "cell_type": "code",
   "execution_count": 8,
   "metadata": {},
   "outputs": [
    {
     "data": {
      "text/plain": [
       "Text(0, 0.5, 'F-value')"
      ]
     },
     "execution_count": 8,
     "metadata": {},
     "output_type": "execute_result"
    },
    {
     "data": {
      "image/png": "[encoded data removed]",
      "text/plain": [
       "<Figure size 432x288 with 1 Axes>"
      ]
     },
     "metadata": {
      "needs_background": "light"
     },
     "output_type": "display_data"
    }
   ],
   "source": [
    "# plot relationship\n",
    "plt.plot(cc,f_score,'*')\n",
    "plt.xlabel(\"Person's correlation coefficient\", fontsize = 16)\n",
    "plt.ylabel('F-value', fontsize = 16)"
   ]
  },
  {
   "cell_type": "markdown",
   "metadata": {},
   "source": [
    "### Selecting features based on F-value\n",
    "<img src=\"pictures/brain.png\" width = \"250\" style=\"float: right;\"> \n",
    "\n",
    "We can select top scoring features to improve performance of the method. Scikit-learn offers two in-build functions to do that: `SelectKBest` and `SelectPercentile`. Let's start by selecting 4 best features using `SelectKBest`.\n",
    "\n",
    "Run the code below to transform the feature matrix `X` into the matrix of selected features `X_selected`. \n",
    "\n",
    "**Activity 1.3:** Check\n",
    "* the size of the new matrix - is it what you expect?\n",
    "* the indices of the features that have been selected.\n",
    "* the names of the selected features."
   ]
  },
  {
   "cell_type": "code",
   "execution_count": 9,
   "metadata": {},
   "outputs": [
    {
     "name": "stdout",
     "output_type": "stream",
     "text": [
      "Shape of the new matrix:  (164, 4)\n",
      "Indices:  [35 36 37 38]\n",
      "\n",
      "\n",
      "Frontal lobe right GM\n",
      "Frontal lobe left GM\n",
      "Parietal lobe right GM\n",
      "Parietal lobe left GM\n"
     ]
    }
   ],
   "source": [
    "from sklearn.feature_selection import SelectKBest\n",
    "\n",
    "# define feature selection model\n",
    "k=4\n",
    "selector = SelectKBest(f_regression, k = k)\n",
    "\n",
    "# select features\n",
    "X_selected = selector.fit_transform(X,y)\n",
    "\n",
    "# Shape of the matrix\n",
    "print('Shape of the new matrix: ', X_selected.shape)\n",
    "\n",
    "# Indices of the selected features\n",
    "ind = np.where(selector.get_support())[0]\n",
    "print('Indices: ', ind)\n",
    "\n",
    "# Print the names of the selected structures\n",
    "print('\\n')\n",
    "for i in range(k):\n",
    "    print(structure_names.loc[ind[i],1])"
   ]
  },
  {
   "cell_type": "markdown",
   "metadata": {},
   "source": [
    "### Univariate feature selection for improved prediction\n",
    "\n",
    "**Activity 1.4:** Let's now apply the multivariate linear regression to the selected features and see whether performance improves. "
   ]
  },
  {
   "cell_type": "code",
   "execution_count": 10,
   "metadata": {},
   "outputs": [
    {
     "name": "stdout",
     "output_type": "stream",
     "text": [
      "Linear regression: Cross-validated RMSE is  1.39\n"
     ]
    }
   ],
   "source": [
    "# Select and fit linear regression model to selected features\n",
    "model = LinearRegression()\n",
    "model.fit(X_selected,y)\n",
    "\n",
    "# Calculate and print RMSE\n",
    "scores = cross_val_score(model, X_selected, y, scoring = 'neg_mean_squared_error')\n",
    "print('Linear regression: Cross-validated RMSE is ', round(np.sqrt(-scores.mean()),2))"
   ]
  },
  {
   "cell_type": "markdown",
   "metadata": {},
   "source": [
    "We see that we reduced overfitting but we did not reach performance of Lasso or Ridge. \n",
    "\n",
    "**Activity 5:** Try to vary the number of selected features to see what works best. Remember this performance as the best for univariate feature selection."
   ]
  },
  {
   "cell_type": "markdown",
   "metadata": {},
   "source": [
    "## Exercise 1\n",
    "\n",
    "Select 4 top scoring features using mutual information. Do you obtain the same or different features as for correlation coefficient?"
   ]
  },
  {
   "cell_type": "code",
   "execution_count": 11,
   "metadata": {},
   "outputs": [
    {
     "name": "stdout",
     "output_type": "stream",
     "text": [
      "\n",
      "\n",
      "Cerebellum left\n",
      "Cerebellum right\n",
      "Frontal lobe right GM\n",
      "Frontal lobe left GM\n"
     ]
    }
   ],
   "source": [
    "from sklearn.feature_selection import mutual_info_regression\n",
    "\n",
    "# set number of features to select\n",
    "k=4\n",
    "\n",
    "# Create feature selector\n",
    "selector = SelectKBest(mutual_info_regression, k = k)\n",
    "\n",
    "# select features\n",
    "X_selected = selector.fit_transform(X,y)\n",
    "\n",
    "# Indices of the selected features\n",
    "ind = np.where(selector.get_support())[0]\n",
    "\n",
    "# Print the names of the selected structures\n",
    "print('\\n')\n",
    "for i in range(k):\n",
    "    print(structure_names.loc[ind[i],1])"
   ]
  },
  {
   "cell_type": "markdown",
   "metadata": {},
   "source": [
    "## Model based feature selection\n",
    "\n",
    "### Lasso\n",
    "\n",
    "We will now select the features based on `Lasso` model. We have previously found that setting `alpha=0.16` results in a best Lasso model for our example. Code below creates the model, calculates its performance and prints out the number of sparse coefficients."
   ]
  },
  {
   "cell_type": "code",
   "execution_count": 12,
   "metadata": {},
   "outputs": [
    {
     "name": "stdout",
     "output_type": "stream",
     "text": [
      "Lasso regression: Cross-validated RMSE is  1.3\n",
      "\n",
      " Non-zero coefficients\n",
      "  (0, 11)\t0.06002415751697308\n",
      "  (0, 14)\t0.05960219778786515\n",
      "  (0, 17)\t0.17243679150204555\n",
      "  (0, 23)\t0.502154098276485\n",
      "  (0, 25)\t0.10323098749035328\n",
      "  (0, 26)\t0.5188666211532899\n",
      "  (0, 29)\t0.41858680373411566\n",
      "  (0, 38)\t0.6930852550133653\n",
      "  (0, 42)\t0.15754434132199574\n",
      "  (0, 55)\t0.06438571415023127\n",
      "  (0, 82)\t0.6016922891526628\n",
      "  (0, 84)\t0.1680072813670929\n",
      "  (0, 85)\t0.4134904509464681\n",
      "\n",
      " There are 13 non-zero coefficients.\n"
     ]
    }
   ],
   "source": [
    "from sklearn.linear_model import Lasso\n",
    "\n",
    "model = Lasso(alpha=0.16)\n",
    "scores = cross_val_score(model, X, y, scoring = 'neg_mean_squared_error')\n",
    "print('Lasso regression: Cross-validated RMSE is ', round(np.sqrt(-scores.mean()),2))\n",
    "\n",
    "model.fit(X,y)\n",
    "print('\\n Non-zero coefficients')\n",
    "print(model.sparse_coef_)\n",
    "print('\\n There are {} non-zero coefficients.'.format(model.sparse_coef_.count_nonzero()))"
   ]
  },
  {
   "cell_type": "markdown",
   "metadata": {},
   "source": [
    "The code below extracts indices of non-zero Lasso coefficients and lists the names of the selected structures."
   ]
  },
  {
   "cell_type": "code",
   "execution_count": 13,
   "metadata": {},
   "outputs": [
    {
     "name": "stdout",
     "output_type": "stream",
     "text": [
      "Indices of non-zero elements:  [11 14 17 23 25 26 29 38 42 55 82 84 85]\n",
      "\n",
      "\n",
      "Selected structures: \n",
      "\n",
      "Superior temporal gyrus, middle part right GM\n",
      "Lateral occipitotemporal gyrus, gyrus fusiformis anterior part left GM\n",
      "Cerebellum right\n",
      "Gyri parahippocampalis et ambiens posterior part right GM\n",
      "Lateral occipitotemporal gyrus, gyrus fusiformis posterior part right GM\n",
      "Lateral occipitotemporal gyrus, gyrus fusiformis posterior part left GM\n",
      "Superior temporal gyrus, posterior part right GM\n",
      "Parietal lobe left GM\n",
      "Thalamus left, high intensity part in T2\n",
      "Gyri parahippocampalis et ambiens anterior part right WM\n",
      "CSF\n",
      "Thalamus right, low intensity part in T2\n",
      "Thalamus left, low intensity part in T2\n"
     ]
    }
   ],
   "source": [
    "# indices of non-zero elements\n",
    "ind = model.sparse_coef_.nonzero()[1]\n",
    "print('Indices of non-zero elements: ', ind)\n",
    "print('\\n')\n",
    "\n",
    "# print names of selected structures\n",
    "print('Selected structures: \\n')\n",
    "for i in range(ind.size):\n",
    "    print(structure_names.loc[ind[i],1])"
   ]
  },
  {
   "cell_type": "markdown",
   "metadata": {},
   "source": [
    "## Exercise 2\n",
    "\n",
    "We will now use `LassoCV` model for feature selection but fit the selected features using `LinearRegression`. \n",
    "* Implement the feature selection using selector `SelectFromModel` with `LassoCV` model.\n",
    "* Calculate the performance of `LinearRegression` using the selected features.\n",
    "* Experiment with different thresholds for Lasso coeficients to see which one results in best performance."
   ]
  },
  {
   "cell_type": "code",
   "execution_count": 14,
   "metadata": {},
   "outputs": [
    {
     "name": "stdout",
     "output_type": "stream",
     "text": [
      "Linear regression: Cross-validated RMSE is  1.18\n",
      "\n",
      "Selected 6 features: \n",
      "Gyri parahippocampalis et ambiens posterior part right GM\n",
      "Lateral occipitotemporal gyrus, gyrus fusiformis posterior part left GM\n",
      "Superior temporal gyrus, posterior part right GM\n",
      "Parietal lobe left GM\n",
      "CSF\n",
      "Thalamus left, low intensity part in T2\n"
     ]
    }
   ],
   "source": [
    "from sklearn.linear_model import LassoCV\n",
    "from sklearn.feature_selection import SelectFromModel\n",
    "\n",
    "# Create selector with LassoCV model\n",
    "selector = SelectFromModel(LassoCV(), threshold=0.3)\n",
    "\n",
    "# Perform feature transformation\n",
    "X_selected = selector.fit_transform(X, y)\n",
    "\n",
    "# Create and fit linear regression model to selected features\n",
    "model = LinearRegression()\n",
    "model.fit(X_selected,y)\n",
    "\n",
    "# Calculate and print RMSE\n",
    "scores = cross_val_score(model, X_selected, y, scoring = 'neg_mean_squared_error')\n",
    "print('Linear regression: Cross-validated RMSE is ', round(np.sqrt(-scores.mean()),2))\n",
    "\n",
    "# List the number and names of the selected features\n",
    "ind = selector.get_support(indices=True)\n",
    "print('\\nSelected {} features: '.format(ind.size),)\n",
    "for i in range(ind.size):\n",
    "    print(structure_names.loc[ind[i],1])"
   ]
  },
  {
   "cell_type": "markdown",
   "metadata": {},
   "source": [
    "We see that feature selection using LassoCV with optimised threshold results in performance of Linear regression similar to optimised Ridge. This is better that for univariate feature selection."
   ]
  },
  {
   "cell_type": "markdown",
   "metadata": {},
   "source": [
    "### Random forest\n",
    "\n",
    "Random forest is very resilient to overfitting. Let's now fit the random forest regressor to the data and see how it performs. Note, that Random forest allows for non-linear models and it is therefore not surprising that it outperforms Linear Regression Models."
   ]
  },
  {
   "cell_type": "code",
   "execution_count": 15,
   "metadata": {},
   "outputs": [
    {
     "name": "stdout",
     "output_type": "stream",
     "text": [
      "Cross-validated RMSE is  1.06\n"
     ]
    }
   ],
   "source": [
    "from sklearn.ensemble import RandomForestRegressor\n",
    " \n",
    "# Select and fit the model\n",
    "model = RandomForestRegressor(n_estimators=20)\n",
    "\n",
    "# Calculate CV RMSE\n",
    "scores = cross_val_score(model, X, y, scoring = 'neg_mean_squared_error')\n",
    "print('Cross-validated RMSE is ', round(np.sqrt(-scores.mean()),2))"
   ]
  },
  {
   "cell_type": "markdown",
   "metadata": {},
   "source": [
    "**Activity 2.1:** Feature importances can be access as `model.feature_importances_`. Plot the feature importances using a `bar` plot."
   ]
  },
  {
   "cell_type": "code",
   "execution_count": 16,
   "metadata": {},
   "outputs": [
    {
     "data": {
      "text/plain": [
       "Text(0, 0.5, 'importances')"
      ]
     },
     "execution_count": 16,
     "metadata": {},
     "output_type": "execute_result"
    },
    {
     "data": {
      "image/png": "[encoded data removed]",
      "text/plain": [
       "<Figure size 1152x288 with 1 Axes>"
      ]
     },
     "metadata": {
      "needs_background": "light"
     },
     "output_type": "display_data"
    }
   ],
   "source": [
    "# fit the model\n",
    "model.fit(X,y)\n",
    "\n",
    "# plot feature importances\n",
    "plt.figure(figsize = [16,4])\n",
    "n = X.shape[1]\n",
    "plt.bar(np.arange(n),model.feature_importances_)\n",
    "plt.title('Feature importances', fontsize = 18)\n",
    "plt.xlabel('Features', fontsize = 16)\n",
    "plt.ylabel('importances', fontsize = 16)"
   ]
  },
  {
   "cell_type": "markdown",
   "metadata": {},
   "source": [
    "**Activity 2.2:** Use selector `SelectFromModel` to select the features from `RandomForestRegressor(n_estimators=20)`. Choose threshold 0.05 and print the names of the selected features. Are they consistent with the ones selected by Lasso or Correlation Coefficient?"
   ]
  },
  {
   "cell_type": "code",
   "execution_count": 17,
   "metadata": {},
   "outputs": [
    {
     "name": "stdout",
     "output_type": "stream",
     "text": [
      "Selected 4 features: \n",
      "Medial and inferior temporal gyri posterior part right GM\n",
      "Medial and inferior temporal gyri posterior part left GM\n",
      "Frontal lobe right GM\n",
      "Parietal lobe left GM\n"
     ]
    }
   ],
   "source": [
    "# Create selector with LassoCV model\n",
    "selector = SelectFromModel(RandomForestRegressor(n_estimators=20), threshold=0.05)\n",
    "\n",
    "# Perform feature transformation\n",
    "X_selected = selector.fit_transform(X, y)\n",
    "\n",
    "# List the number and names of the selected features\n",
    "ind = selector.get_support(indices=True)\n",
    "print('Selected {} features: '.format(ind.size),)\n",
    "for i in range(ind.size):\n",
    "    print(structure_names.loc[ind[i],1])"
   ]
  },
  {
   "cell_type": "markdown",
   "metadata": {},
   "source": [
    "## Recursive feature elimination\n",
    "\n",
    "Scikit learn offers functions `RFE` and `RFECV` to perform recursive feature elimination. Any model can be used to do that, and this time we will chose `Ridge` regression.  \n",
    "\n",
    "Let's first find 6 best features using `RFE` with `Ridge`. Run the code below to fit `RFE` model and print the names of the selected features."
   ]
  },
  {
   "cell_type": "code",
   "execution_count": 18,
   "metadata": {},
   "outputs": [
    {
     "name": "stdout",
     "output_type": "stream",
     "text": [
      "Indices:  [23 26 29 38 82 85]\n",
      "\n",
      "\n",
      "Gyri parahippocampalis et ambiens posterior part right GM\n",
      "Lateral occipitotemporal gyrus, gyrus fusiformis posterior part left GM\n",
      "Superior temporal gyrus, posterior part right GM\n",
      "Parietal lobe left GM\n",
      "CSF\n",
      "Thalamus left, low intensity part in T2\n"
     ]
    }
   ],
   "source": [
    "from sklearn.feature_selection import RFE\n",
    "\n",
    "k=6\n",
    "\n",
    "# create ranking model\n",
    "model = Ridge(alpha=45)\n",
    "\n",
    "# create selector\n",
    "selector = RFE(model, n_features_to_select=k)\n",
    "\n",
    "# fit selector\n",
    "selector.fit(X,y)\n",
    "\n",
    "# Print the indices of the selected features\n",
    "ind = np.where(selector.get_support())[0]\n",
    "print('Indices: ', ind)\n",
    "\n",
    "# Print the names of the selected structures\n",
    "print('\\n')\n",
    "for i in range(k):\n",
    "    print(structure_names.loc[ind[i],1])"
   ]
  },
  {
   "cell_type": "markdown",
   "metadata": {},
   "source": [
    "**Activity 3.1:** Transform the features, fit linear regression and calculate CV RMSE to see whether we reduced overfitting."
   ]
  },
  {
   "cell_type": "code",
   "execution_count": 19,
   "metadata": {},
   "outputs": [
    {
     "name": "stdout",
     "output_type": "stream",
     "text": [
      "Linear regression: Cross-validated RMSE is  1.18\n"
     ]
    }
   ],
   "source": [
    "# Select features\n",
    "X_selected = selector.transform(X)\n",
    "\n",
    "# Linear regression\n",
    "model = LinearRegression()\n",
    "scores = cross_val_score(model, X_selected, y,scoring = 'neg_mean_squared_error')\n",
    "print('Linear regression: Cross-validated RMSE is ', round(np.sqrt(-scores.mean()),2))"
   ]
  },
  {
   "cell_type": "markdown",
   "metadata": {},
   "source": [
    "## Exercise 3\n",
    "Let's now use method `RFECV` that can also automatically select optimal number of features using cross-validation. Write the code to:\n",
    "* Fit the `RFECV` feature selection with `Ridge(alpha=45)` ranking model\n",
    "* Transform the features and fit the `Ridge(alpha = 45)` model to the selected features\n",
    "* Calculate the CV RMSE\n",
    "* Print indices of selected features\n",
    "* Print number of selected features"
   ]
  },
  {
   "cell_type": "code",
   "execution_count": 20,
   "metadata": {},
   "outputs": [
    {
     "name": "stdout",
     "output_type": "stream",
     "text": [
      "Linear regression: Cross-validated RMSE is  1.1\n",
      "Indices:  [ 1  7  9 10 11 14 16 17 18 20 21 22 23 24 25 26 28 29 30 35 36 37 38 39\n",
      " 40 41 42 45 46 55 56 57 60 62 63 64 66 68 69 71 75 77 78 80 81 82 84 85]\n",
      "Number of selected features:  48\n"
     ]
    }
   ],
   "source": [
    "from sklearn.feature_selection import RFECV\n",
    "\n",
    "# create ranking model\n",
    "model = Ridge(alpha=45)\n",
    "\n",
    "# Create selector\n",
    "selector = RFECV(model)\n",
    "\n",
    "# Fit the selector and transform the features\n",
    "X_selected = selector.fit_transform(X,y)\n",
    "\n",
    "# Calculate performace of Ridge with selected features\n",
    "scores = cross_val_score(model, X_selected, y, scoring = 'neg_mean_squared_error')\n",
    "print('Linear regression: Cross-validated RMSE is ', round(np.sqrt(-scores.mean()),2))\n",
    "\n",
    "# Print indices of the selected features\n",
    "ind = np.where(selector.get_support())[0]\n",
    "print('Indices: ', ind)\n",
    "\n",
    "# Print number of selected features\n",
    "print('Number of selected features: ', ind.size)"
   ]
  },
  {
   "cell_type": "markdown",
   "metadata": {},
   "source": [
    "### Recursive feature elimination using Random Forest\n",
    "\n",
    "**Activity 3.2:** Perform recursive feature elimination using `RFECV` and `RandomForestRegressor(n_estimators=20)`. Be patient, this process might take time."
   ]
  },
  {
   "cell_type": "code",
   "execution_count": 21,
   "metadata": {},
   "outputs": [
    {
     "name": "stdout",
     "output_type": "stream",
     "text": [
      "Indices:  [ 1  2  3  4  5  6  7  8 10 11 12 13 15 16 17 18 19 21 22 23 24 25 26 27\n",
      " 28 29 30 31 33 35 36 37 38 39 40 42 43 44 45 46 48 49 50 52 53 54 55 56\n",
      " 57 59 60 62 63 64 65 66 67 68 69 70 71 72 73 74 75 77 80 82 84 85]\n",
      "Number of selected features:  70\n"
     ]
    }
   ],
   "source": [
    "from sklearn.feature_selection import RFECV\n",
    "\n",
    "model = RandomForestRegressor(n_estimators=20)\n",
    "selector = RFECV(model)\n",
    "selector.fit(X,y)\n",
    "\n",
    "# Print selected features\n",
    "ind = np.where(selector.get_support())[0]\n",
    "print('Indices: ', ind)\n",
    "\n",
    "print('Number of selected features: ', ind.size)"
   ]
  },
  {
   "cell_type": "markdown",
   "metadata": {},
   "source": [
    "**Activity 3.3:** Transform the features and fit the `RandomForestRegressor(n_estimators=20)` to see whether CV RMSE improved."
   ]
  },
  {
   "cell_type": "code",
   "execution_count": 22,
   "metadata": {},
   "outputs": [
    {
     "name": "stdout",
     "output_type": "stream",
     "text": [
      "Linear regression: Cross-validated RMSE is  1.03\n"
     ]
    }
   ],
   "source": [
    "# Select features\n",
    "X_selected = selector.transform(X)\n",
    "\n",
    "# Linear regression\n",
    "model = RandomForestRegressor(n_estimators=20)\n",
    "scores = cross_val_score(model, X_selected, y, scoring = 'neg_mean_squared_error')\n",
    "print('Linear regression: Cross-validated RMSE is ', round(np.sqrt(-scores.mean()),2))"
   ]
  },
  {
   "cell_type": "markdown",
   "metadata": {},
   "source": [
    "# Conclusion"
   ]
  },
  {
   "cell_type": "markdown",
   "metadata": {},
   "source": [
    "We have seen that feature selection can prevent overfiting and improve performance of the model. We have also seen that Random forest is very resilient against overfitting and does not particularly benefit from feature selection. On contrary, it is a very good tool for selecting features for other methods.\n",
    "\n",
    "We have also seen that selected features varied a lot dependent on the selection method. We therefore need to be careful when interpreting the selected features."
   ]
  }
 ],
 "metadata": {
  "kernelspec": {
   "display_name": "Python 3 (ipykernel)",
   "language": "python",
   "name": "python3"
  },
  "language_info": {
   "codemirror_mode": {
    "name": "ipython",
    "version": 3
   },
   "file_extension": ".py",
   "mimetype": "text/x-python",
   "name": "python",
   "nbconvert_exporter": "python",
   "pygments_lexer": "ipython3",
   "version": "3.11.4"
  }
 },
 "nbformat": 4,
 "nbformat_minor": 4
}
