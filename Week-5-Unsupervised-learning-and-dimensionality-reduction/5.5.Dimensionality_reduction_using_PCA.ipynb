{
 "cells": [
  {
   "cell_type": "markdown",
   "metadata": {},
   "source": [
    "# Dimensionality reduction using Principal component analysis"
   ]
  },
  {
   "cell_type": "markdown",
   "metadata": {},
   "source": [
    "In previous lectures you have seen that if the number of features too large compared to the number of samples, predictive models can often result in overfitting and do not generalise well for unseen data.\n",
    "\n",
    "Recall the example where we used multivariate linear regression to predict GA of a preterm baby. The model was fitted really well to the training data, but the cross-validation score was rather poor."
   ]
  },
  {
   "cell_type": "code",
   "execution_count": 3,
   "metadata": {},
   "outputs": [
    {
     "name": "stdout",
     "output_type": "stream",
     "text": [
      "R2 score is 0.97 and cross-validated R2 score is 0.68\n",
      "Cross-validated root mean squared error is 2.08 weeks GA\n"
     ]
    }
   ],
   "source": [
    "# Load data\n",
    "import pandas as pd\n",
    "import numpy as np\n",
    "\n",
    "df = pd.read_csv(\"GA-structure-volumes-preterm.csv\",header=None)\n",
    "structure_volumes = df.values\n",
    "Features = structure_volumes[:,1:] # volumes - we have 86 features and 164 samples\n",
    "Labels = structure_volumes[:,0] # GA - 164 \n",
    "\n",
    "# Multivariate linear regression\n",
    "from sklearn.linear_model import LinearRegression\n",
    "from sklearn.model_selection import cross_val_score\n",
    "\n",
    "model = LinearRegression()\n",
    "model.fit(Features,Labels)\n",
    "R2_score = model.score(Features,Labels)\n",
    "cv_score = cross_val_score(model, Features, Labels, cv=5).mean()\n",
    " \n",
    "rmse = np.sqrt(-cross_val_score(model, Features, Labels, cv=5,scoring='neg_mean_squared_error').mean())\n",
    "print(\"R2 score is {} and cross-validated R2 score is {}\".format(round(R2_score,2), round(cv_score,2)))\n",
    "print(\"Cross-validated root mean squared error is {} weeks GA\".format(round(rmse,2)))"
   ]
  },
  {
   "cell_type": "markdown",
   "metadata": {},
   "source": [
    "We have seen that the overfitting can be reduced and model performance improved by penalising the weights of the regression with ridge or lasso penalty.\n",
    "\n",
    "Now we will now explore an alternative strategy - reducing dimension of the feature vector using principal component analysis."
   ]
  },
  {
   "cell_type": "markdown",
   "metadata": {},
   "source": [
    "__Task 1:__ Using sklearn object ```PCA``` estimate and plot the cumulative distribution of ordered eigenvalues (or explained variance for each component). \n",
    "\n",
    "*Hint:* a cumulative sum can be estimated using the ```np.cumsum()``` function.\n",
    "\n",
    "***Note:*** The sklearn ```PCA``` function automatically orders components by eigenvalue (starting with largest). This will not necessarily be true of the functions you build for yourself."
   ]
  },
  {
   "cell_type": "code",
   "execution_count": 4,
   "metadata": {},
   "outputs": [
    {
     "data": {
      "text/plain": [
       "Text(0, 0.5, 'cumulative sum')"
      ]
     },
     "execution_count": 4,
     "metadata": {},
     "output_type": "execute_result"
    },
    {
     "data": {
      "image/png": "[encoded data removed]",
      "text/plain": [
       "<Figure size 432x288 with 1 Axes>"
      ]
     },
     "metadata": {
      "needs_background": "light"
     },
     "output_type": "display_data"
    }
   ],
   "source": [
    "from sklearn.decomposition import PCA\n",
    "import matplotlib.pyplot as plt\n",
    "%matplotlib inline \n",
    "\n",
    "# create PCA model \n",
    "# fit the data \n",
    "# note that PCA is unsupervised - we use only Features for fitting!\n",
    "# fill in\n",
    "pca = PCA()# fill in\n",
    "pca.fit(Features)\n",
    "\n",
    "\n",
    "# estimate the cumulative distribution of the eigenvalues\n",
    "# here we use the .explained_variance_ratio_ atribute it will show result as a proportion of variance from 0-1\n",
    "cumulative_sum=np.cumsum(pca.explained_variance_ratio_)\n",
    "\n",
    "# plot the distribution\n",
    "plt.plot(cumulative_sum)\n",
    "plt.xticks(np.arange(0,pca.explained_variance_ratio_.shape[0],5))\n",
    "plt.title('cumulative distribution of PCA eigenvalues')\n",
    "plt.ylabel('cumulative sum')\n",
    "plt.ylabel('cumulative sum')\n"
   ]
  },
  {
   "cell_type": "markdown",
   "metadata": {},
   "source": [
    "__Task 2:__ Now try to determine an appropriate cut off by also plotting lines parallel to the y-axis"
   ]
  },
  {
   "cell_type": "code",
   "execution_count": 5,
   "metadata": {},
   "outputs": [
    {
     "data": {
      "text/plain": [
       "[<matplotlib.lines.Line2D at 0x1a1f3852b0>]"
      ]
     },
     "execution_count": 5,
     "metadata": {},
     "output_type": "execute_result"
    },
    {
     "data": {
      "image/png": "[encoded data removed]",
      "text/plain": [
       "<Figure size 432x288 with 1 Axes>"
      ]
     },
     "metadata": {
      "needs_background": "light"
     },
     "output_type": "display_data"
    }
   ],
   "source": [
    "# re-plot the distribution\n",
    "plt.plot(cumulative_sum)\n",
    "plt.xticks(np.arange(0,pca.explained_variance_ratio_.shape[0],5))\n",
    "plt.title('cumulative distribution of PCA eigenvalues')\n",
    "plt.ylabel('cumulative sum')\n",
    "plt.ylabel('cumulative sum')\n",
    "\n",
    "\n",
    "# now select lines parallel to the y-axis \n",
    "# play with different values of cutoff to determine a good one\n",
    "# a good rule of thumb would be where it levels out \n",
    "# you can see after 10 eigenvalues the remaining dimensions have minimal contribution to variance and from 5-10 is very little\n",
    "# we are aiming to optimise the parameters of our model (here the number of components) so as to ge the best performance for our left out data\n",
    "# estimated through cross validation as shown below\n",
    "cutoff = 3\n",
    "x=np.ones(10)*cutoff\n",
    "y=np.linspace(pca.explained_variance_ratio_[0],1,10)\n",
    "plt.plot(x,y)"
   ]
  },
  {
   "cell_type": "markdown",
   "metadata": {},
   "source": [
    "__Task 3__: Use these to determine an appropriate cut off for PCA dimensionality reduction. Re-run PCA with this reduced set. \n",
    "\n",
    "*Hint:* use parameter ```n_components```"
   ]
  },
  {
   "cell_type": "code",
   "execution_count": 18,
   "metadata": {},
   "outputs": [
    {
     "name": "stdout",
     "output_type": "stream",
     "text": [
      "Size of original features:  (164, 86)\n",
      "Size of new features:  (164, 3)\n"
     ]
    }
   ],
   "source": [
    "# create PCA model with number of components equal to the chosen cutoff\n",
    "# fill in this line making pca the name of your model\n",
    "pca = PCA(n_components=3)# fill in\n",
    "# now fit the PCA\n",
    "pca.fit(Features)\n",
    "\n",
    "\n",
    "\n",
    "# Transform the original feature vectore to the reduced feature vector\n",
    "newFeatures = pca.transform(Features) # note you could use fit_transform to combine lines 5 nad 10 into one step\n",
    "\n",
    "# check the size of the newFeatures\n",
    "# see we have moved froman 896 dimensional feaure spacef to just 3 dimensions\n",
    "print('Size of original features: ', Features.shape)\n",
    "print('Size of new features: ', newFeatures.shape)\n"
   ]
  },
  {
   "cell_type": "markdown",
   "metadata": {},
   "source": [
    "__Task 4:__ Run the code below to perform linear regression on ```newFeatures``` evaluate performance. How does it compare to the linear regression using all 86 features?"
   ]
  },
  {
   "cell_type": "code",
   "execution_count": 19,
   "metadata": {},
   "outputs": [
    {
     "name": "stdout",
     "output_type": "stream",
     "text": [
      "New model R2 score is 0.92 and cross-validated R2 score is 0.9\n",
      "Cross-validated root mean squared error after using PCA is 1.22 weeks GA\n"
     ]
    }
   ],
   "source": [
    "# Perform linear regression using the new features\n",
    "model_new = LinearRegression()\n",
    "model_new.fit(newFeatures,Labels)\n",
    "R2_score_new = model_new.score(newFeatures,Labels)\n",
    "cv_score_new = cross_val_score(model_new, newFeatures, Labels, cv=5).mean()\n",
    "rmse_new = np.sqrt(-cross_val_score(model_new, newFeatures, Labels, cv=5, scoring='neg_mean_squared_error').mean())\n",
    "\n",
    "# we can see now that we get a better performance a cross our left out validations sets\n",
    "# this suggests that above a certain range the components encode noise \n",
    "# best cross validated performance is technically for 3 components but anything in range from 3-10 is ok \n",
    "# you wills see CV error jumps around and you never know how it performs on unseen data \n",
    "# parameter optimisation is a judgement call based on thevalidation metrics and data you have available\n",
    "print(\"New model R2 score is {} and cross-validated R2 score is {}\".format(round(R2_score_new,2), round(cv_score_new,2)))\n",
    "print(\"Cross-validated root mean squared error after using PCA is {} weeks GA\".format(round(rmse_new,2)))"
   ]
  },
  {
   "cell_type": "markdown",
   "metadata": {},
   "source": [
    "We have obtained a very good result. Cross-validated RMSE is in similar range than for penalised linear regression. We can therefore see that dimensionality reduction using PCA prevented the problem of overfitting.\n",
    "\n",
    "__Task 5:__ Change dimensionality of PCA explore the impact on the result."
   ]
  },
  {
   "cell_type": "code",
   "execution_count": null,
   "metadata": {},
   "outputs": [],
   "source": []
  },
  {
   "cell_type": "code",
   "execution_count": null,
   "metadata": {},
   "outputs": [],
   "source": []
  }
 ],
 "metadata": {
  "kernelspec": {
   "display_name": "Python 3 (ipykernel)",
   "language": "python",
   "name": "python3"
  },
  "language_info": {
   "codemirror_mode": {
    "name": "ipython",
    "version": 3
   },
   "file_extension": ".py",
   "mimetype": "text/x-python",
   "name": "python",
   "nbconvert_exporter": "python",
   "pygments_lexer": "ipython3",
   "version": "3.11.4"
  },
  "widgets": {
   "state": {},
   "version": "1.1.2"
  }
 },
 "nbformat": 4,
 "nbformat_minor": 4
}
