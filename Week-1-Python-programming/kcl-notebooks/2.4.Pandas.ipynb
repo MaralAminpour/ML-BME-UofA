{
 "cells": [
  {
   "cell_type": "markdown",
   "metadata": {},
   "source": [
    "# Pandas "
   ]
  },
  {
   "cell_type": "markdown",
   "metadata": {},
   "source": [
    "The pandas package is an extremely powerful library for manipulating tabulated data. Similar in some ways to EXCELL, pandas provides functionality for reading data from spreadsheets (in a range of formats including excell, csv and pickle files); presenting them as a Dataframe object. Through this it becomes possible to search, filter and manipulate the data entries. In this notebook we will go through some of the basic functionality of Pandas, sufficient for reading in data, selecting columns and filtering by different search categories. \n",
    "\n",
    "We start by importing Pandas:"
   ]
  },
  {
   "cell_type": "code",
   "execution_count": 1,
   "metadata": {},
   "outputs": [],
   "source": [
    "import pandas as pd\n",
    "import numpy as np\n",
    "import matplotlib.pyplot as plt\n",
    "%matplotlib inline "
   ]
  },
  {
   "cell_type": "markdown",
   "metadata": {},
   "source": [
    "## Reading in Data"
   ]
  },
  {
   "cell_type": "markdown",
   "metadata": {},
   "source": [
    "Pandas is capable of working with data from a range of statistical software packages (EXCELL, SQL, STATA, SAS). In this course we will focus simply on reading from .csv and pickle files e.g. "
   ]
  },
  {
   "cell_type": "code",
   "execution_count": 2,
   "metadata": {},
   "outputs": [],
   "source": [
    "student_data=pd.read_pickle('40subjdata.pk1') #reading from a pickle file\n",
    "dHCP_volume_data=pd.read_csv('dHCP_volume_data.csv',header=None) # reading from a csv file"
   ]
  },
  {
   "cell_type": "markdown",
   "metadata": {},
   "source": [
    "Open 'dHCP_volume_data.csv' using excell. You will note it has no column names. Thus in order to load all data correctly (and avoid the first row of data being read in as column headers) it is necessary to supplement the call to ```read_csv``` with an additional argument ```header=None```. Other potentially important read arguments include ```sep``` or ```delimeter``` which define the delimeter used to separate the columns in the saved spreadsheet. For more information see (https://pandas.pydata.org/pandas-docs/stable/generated/pandas.read_csv.html). \n",
    "\n",
    "To avoid this confusion over csv formatting it is generally better to save and then reload Dataframes as pickle files (see https://pandas.pydata.org/pandas-docs/stable/generated/pandas.read_pickle.html.)"
   ]
  },
  {
   "cell_type": "markdown",
   "metadata": {},
   "source": [
    "## Viewing and Inspecting Data"
   ]
  },
  {
   "cell_type": "markdown",
   "metadata": {},
   "source": [
    "Pandas provides several functions for viewing subsections of the DataFrame and estimating summary statistics across columns. For example it is possible to read the first (or last) few rows of the data using the ```head``` and ```tail``` functions respectively"
   ]
  },
  {
   "cell_type": "code",
   "execution_count": 3,
   "metadata": {},
   "outputs": [
    {
     "name": "stdout",
     "output_type": "stream",
     "text": [
      "  gender  distance  height\n",
      "0      M        80     183\n",
      "1      F         3     163\n",
      "2      F        90     152\n",
      "   gender  distance  height\n",
      "37      M       192     171\n",
      "38      M        35     184\n",
      "39      M        45     179\n"
     ]
    }
   ],
   "source": [
    "print(student_data.head(3))\n",
    "print(student_data.tail(3))"
   ]
  },
  {
   "cell_type": "markdown",
   "metadata": {},
   "source": [
    "__Task 1:__ Print first 10 and last 7 rows."
   ]
  },
  {
   "cell_type": "code",
   "execution_count": 4,
   "metadata": {},
   "outputs": [
    {
     "name": "stdout",
     "output_type": "stream",
     "text": [
      "  gender  distance  height\n",
      "0      M        80     183\n",
      "1      F         3     163\n",
      "2      F        90     152\n",
      "3      F       272     157\n",
      "4      F        80     157\n",
      "5      F         8     165\n",
      "6      M       485     173\n",
      "7      M       176     180\n",
      "8      F        10     164\n",
      "9      F        72     160\n",
      " \n",
      "   gender  distance  height\n",
      "33      F        90     174\n",
      "34      M        80     183\n",
      "35      M       278     181\n",
      "36      M       240     182\n",
      "37      M       192     171\n",
      "38      M        35     184\n",
      "39      M        45     179\n"
     ]
    }
   ],
   "source": [
    "print(student_data.head(10))\n",
    "print(' ')\n",
    "print(student_data.tail(7))"
   ]
  },
  {
   "cell_type": "markdown",
   "metadata": {},
   "source": [
    "In addition several functions are provided to summarise statistics across columns e.g:\n",
    "\n",
    "-  df.mean() Returns the mean of all columns\n",
    "-  df.max()  Returns the highest value in each column\n",
    "-  df.min()Returns the lowest value in each column\n",
    "-  df.median()Returns the median of each column\n",
    "-  df.std()Returns the standard deviation of each column\n",
    "-  df.corr() Returns the correlation between columns in a data frame\n"
   ]
  },
  {
   "cell_type": "markdown",
   "metadata": {},
   "source": [
    "## Creating Dataframes from scratch"
   ]
  },
  {
   "cell_type": "markdown",
   "metadata": {},
   "source": [
    "Dataframes can be created from Dictionarys, Lists or Numpy arrays. Below shows an example of creating a new dataframe from a 4 column array, within given column names:"
   ]
  },
  {
   "cell_type": "code",
   "execution_count": 5,
   "metadata": {},
   "outputs": [
    {
     "data": {
      "text/html": [
       "<div>\n",
       "<style scoped>\n",
       "    .dataframe tbody tr th:only-of-type {\n",
       "        vertical-align: middle;\n",
       "    }\n",
       "\n",
       "    .dataframe tbody tr th {\n",
       "        vertical-align: top;\n",
       "    }\n",
       "\n",
       "    .dataframe thead th {\n",
       "        text-align: right;\n",
       "    }\n",
       "</style>\n",
       "<table border=\"1\" class=\"dataframe\">\n",
       "  <thead>\n",
       "    <tr style=\"text-align: right;\">\n",
       "      <th></th>\n",
       "      <th>A</th>\n",
       "      <th>B</th>\n",
       "      <th>C</th>\n",
       "      <th>D</th>\n",
       "    </tr>\n",
       "  </thead>\n",
       "  <tbody>\n",
       "    <tr>\n",
       "      <th>a</th>\n",
       "      <td>82</td>\n",
       "      <td>93</td>\n",
       "      <td>21</td>\n",
       "      <td>26</td>\n",
       "    </tr>\n",
       "    <tr>\n",
       "      <th>b</th>\n",
       "      <td>51</td>\n",
       "      <td>25</td>\n",
       "      <td>67</td>\n",
       "      <td>26</td>\n",
       "    </tr>\n",
       "    <tr>\n",
       "      <th>c</th>\n",
       "      <td>90</td>\n",
       "      <td>36</td>\n",
       "      <td>81</td>\n",
       "      <td>54</td>\n",
       "    </tr>\n",
       "    <tr>\n",
       "      <th>d</th>\n",
       "      <td>51</td>\n",
       "      <td>67</td>\n",
       "      <td>77</td>\n",
       "      <td>19</td>\n",
       "    </tr>\n",
       "    <tr>\n",
       "      <th>e</th>\n",
       "      <td>65</td>\n",
       "      <td>11</td>\n",
       "      <td>51</td>\n",
       "      <td>73</td>\n",
       "    </tr>\n",
       "    <tr>\n",
       "      <th>f</th>\n",
       "      <td>24</td>\n",
       "      <td>92</td>\n",
       "      <td>24</td>\n",
       "      <td>98</td>\n",
       "    </tr>\n",
       "    <tr>\n",
       "      <th>g</th>\n",
       "      <td>30</td>\n",
       "      <td>15</td>\n",
       "      <td>23</td>\n",
       "      <td>89</td>\n",
       "    </tr>\n",
       "    <tr>\n",
       "      <th>h</th>\n",
       "      <td>34</td>\n",
       "      <td>49</td>\n",
       "      <td>92</td>\n",
       "      <td>62</td>\n",
       "    </tr>\n",
       "    <tr>\n",
       "      <th>i</th>\n",
       "      <td>97</td>\n",
       "      <td>1</td>\n",
       "      <td>12</td>\n",
       "      <td>33</td>\n",
       "    </tr>\n",
       "    <tr>\n",
       "      <th>j</th>\n",
       "      <td>54</td>\n",
       "      <td>30</td>\n",
       "      <td>71</td>\n",
       "      <td>23</td>\n",
       "    </tr>\n",
       "  </tbody>\n",
       "</table>\n",
       "</div>"
      ],
      "text/plain": [
       "    A   B   C   D\n",
       "a  82  93  21  26\n",
       "b  51  25  67  26\n",
       "c  90  36  81  54\n",
       "d  51  67  77  19\n",
       "e  65  11  51  73\n",
       "f  24  92  24  98\n",
       "g  30  15  23  89\n",
       "h  34  49  92  62\n",
       "i  97   1  12  33\n",
       "j  54  30  71  23"
      ]
     },
     "execution_count": 5,
     "metadata": {},
     "output_type": "execute_result"
    }
   ],
   "source": [
    "# creating an array of random numbers with four columns\n",
    "random_array=np.random.randint(0,100,size=(10,4))\n",
    "\n",
    "# creating a new data frame object from the random array and providing column  labels\n",
    "df=pd.DataFrame(random_array,index=['a','b','c','d','e','f','g' ,'h','i','j'],columns=['A','B','C','D'])\n",
    "\n",
    "df"
   ]
  },
  {
   "cell_type": "markdown",
   "metadata": {},
   "source": [
    "__Task 2__: Create an array of 100 rows and 2 columns and populate it with normally distributed random values (_Hint_: `randn`). Create a data frame object from this array (do not provide index labels this time, only column labels)."
   ]
  },
  {
   "cell_type": "code",
   "execution_count": 6,
   "metadata": {},
   "outputs": [
    {
     "data": {
      "text/html": [
       "<div>\n",
       "<style scoped>\n",
       "    .dataframe tbody tr th:only-of-type {\n",
       "        vertical-align: middle;\n",
       "    }\n",
       "\n",
       "    .dataframe tbody tr th {\n",
       "        vertical-align: top;\n",
       "    }\n",
       "\n",
       "    .dataframe thead th {\n",
       "        text-align: right;\n",
       "    }\n",
       "</style>\n",
       "<table border=\"1\" class=\"dataframe\">\n",
       "  <thead>\n",
       "    <tr style=\"text-align: right;\">\n",
       "      <th></th>\n",
       "      <th>A</th>\n",
       "      <th>B</th>\n",
       "    </tr>\n",
       "  </thead>\n",
       "  <tbody>\n",
       "    <tr>\n",
       "      <th>0</th>\n",
       "      <td>0.444271</td>\n",
       "      <td>0.129739</td>\n",
       "    </tr>\n",
       "    <tr>\n",
       "      <th>1</th>\n",
       "      <td>-0.780193</td>\n",
       "      <td>0.515917</td>\n",
       "    </tr>\n",
       "    <tr>\n",
       "      <th>2</th>\n",
       "      <td>0.843018</td>\n",
       "      <td>1.347236</td>\n",
       "    </tr>\n",
       "    <tr>\n",
       "      <th>3</th>\n",
       "      <td>0.567531</td>\n",
       "      <td>1.548904</td>\n",
       "    </tr>\n",
       "    <tr>\n",
       "      <th>4</th>\n",
       "      <td>-0.232260</td>\n",
       "      <td>1.636717</td>\n",
       "    </tr>\n",
       "  </tbody>\n",
       "</table>\n",
       "</div>"
      ],
      "text/plain": [
       "          A         B\n",
       "0  0.444271  0.129739\n",
       "1 -0.780193  0.515917\n",
       "2  0.843018  1.347236\n",
       "3  0.567531  1.548904\n",
       "4 -0.232260  1.636717"
      ]
     },
     "execution_count": 6,
     "metadata": {},
     "output_type": "execute_result"
    }
   ],
   "source": [
    "### (Task 2)\n",
    "gaussian_array = np.random.randn(100,2)\n",
    "df2 = pd.DataFrame(gaussian_array,index=None,columns=['A','B'])\n",
    "df2.head()"
   ]
  },
  {
   "cell_type": "markdown",
   "metadata": {},
   "source": [
    "## Adding new Columns"
   ]
  },
  {
   "cell_type": "markdown",
   "metadata": {},
   "source": [
    "New columns can straightforwardly be added in the following way:"
   ]
  },
  {
   "cell_type": "code",
   "execution_count": 7,
   "metadata": {},
   "outputs": [
    {
     "data": {
      "text/html": [
       "<div>\n",
       "<style scoped>\n",
       "    .dataframe tbody tr th:only-of-type {\n",
       "        vertical-align: middle;\n",
       "    }\n",
       "\n",
       "    .dataframe tbody tr th {\n",
       "        vertical-align: top;\n",
       "    }\n",
       "\n",
       "    .dataframe thead th {\n",
       "        text-align: right;\n",
       "    }\n",
       "</style>\n",
       "<table border=\"1\" class=\"dataframe\">\n",
       "  <thead>\n",
       "    <tr style=\"text-align: right;\">\n",
       "      <th></th>\n",
       "      <th>A</th>\n",
       "      <th>B</th>\n",
       "      <th>C</th>\n",
       "      <th>D</th>\n",
       "      <th>E</th>\n",
       "    </tr>\n",
       "  </thead>\n",
       "  <tbody>\n",
       "    <tr>\n",
       "      <th>a</th>\n",
       "      <td>82</td>\n",
       "      <td>93</td>\n",
       "      <td>21</td>\n",
       "      <td>26</td>\n",
       "      <td>175</td>\n",
       "    </tr>\n",
       "    <tr>\n",
       "      <th>b</th>\n",
       "      <td>51</td>\n",
       "      <td>25</td>\n",
       "      <td>67</td>\n",
       "      <td>26</td>\n",
       "      <td>76</td>\n",
       "    </tr>\n",
       "    <tr>\n",
       "      <th>c</th>\n",
       "      <td>90</td>\n",
       "      <td>36</td>\n",
       "      <td>81</td>\n",
       "      <td>54</td>\n",
       "      <td>126</td>\n",
       "    </tr>\n",
       "    <tr>\n",
       "      <th>d</th>\n",
       "      <td>51</td>\n",
       "      <td>67</td>\n",
       "      <td>77</td>\n",
       "      <td>19</td>\n",
       "      <td>118</td>\n",
       "    </tr>\n",
       "    <tr>\n",
       "      <th>e</th>\n",
       "      <td>65</td>\n",
       "      <td>11</td>\n",
       "      <td>51</td>\n",
       "      <td>73</td>\n",
       "      <td>76</td>\n",
       "    </tr>\n",
       "    <tr>\n",
       "      <th>f</th>\n",
       "      <td>24</td>\n",
       "      <td>92</td>\n",
       "      <td>24</td>\n",
       "      <td>98</td>\n",
       "      <td>116</td>\n",
       "    </tr>\n",
       "    <tr>\n",
       "      <th>g</th>\n",
       "      <td>30</td>\n",
       "      <td>15</td>\n",
       "      <td>23</td>\n",
       "      <td>89</td>\n",
       "      <td>45</td>\n",
       "    </tr>\n",
       "    <tr>\n",
       "      <th>h</th>\n",
       "      <td>34</td>\n",
       "      <td>49</td>\n",
       "      <td>92</td>\n",
       "      <td>62</td>\n",
       "      <td>83</td>\n",
       "    </tr>\n",
       "    <tr>\n",
       "      <th>i</th>\n",
       "      <td>97</td>\n",
       "      <td>1</td>\n",
       "      <td>12</td>\n",
       "      <td>33</td>\n",
       "      <td>98</td>\n",
       "    </tr>\n",
       "    <tr>\n",
       "      <th>j</th>\n",
       "      <td>54</td>\n",
       "      <td>30</td>\n",
       "      <td>71</td>\n",
       "      <td>23</td>\n",
       "      <td>84</td>\n",
       "    </tr>\n",
       "  </tbody>\n",
       "</table>\n",
       "</div>"
      ],
      "text/plain": [
       "    A   B   C   D    E\n",
       "a  82  93  21  26  175\n",
       "b  51  25  67  26   76\n",
       "c  90  36  81  54  126\n",
       "d  51  67  77  19  118\n",
       "e  65  11  51  73   76\n",
       "f  24  92  24  98  116\n",
       "g  30  15  23  89   45\n",
       "h  34  49  92  62   83\n",
       "i  97   1  12  33   98\n",
       "j  54  30  71  23   84"
      ]
     },
     "execution_count": 7,
     "metadata": {},
     "output_type": "execute_result"
    }
   ],
   "source": [
    "df['E']=df['A']+df['B']\n",
    "df"
   ]
  },
  {
   "cell_type": "markdown",
   "metadata": {},
   "source": [
    "Allowing you to create new columns of data from existing columns, as you would in EXCELL.\n",
    "\n",
    "__Task 3__: Create a new column called 'F' containing: $mean(A) + 5*B$"
   ]
  },
  {
   "cell_type": "code",
   "execution_count": 8,
   "metadata": {},
   "outputs": [
    {
     "data": {
      "text/html": [
       "<div>\n",
       "<style scoped>\n",
       "    .dataframe tbody tr th:only-of-type {\n",
       "        vertical-align: middle;\n",
       "    }\n",
       "\n",
       "    .dataframe tbody tr th {\n",
       "        vertical-align: top;\n",
       "    }\n",
       "\n",
       "    .dataframe thead th {\n",
       "        text-align: right;\n",
       "    }\n",
       "</style>\n",
       "<table border=\"1\" class=\"dataframe\">\n",
       "  <thead>\n",
       "    <tr style=\"text-align: right;\">\n",
       "      <th></th>\n",
       "      <th>A</th>\n",
       "      <th>B</th>\n",
       "      <th>C</th>\n",
       "      <th>D</th>\n",
       "      <th>E</th>\n",
       "      <th>F</th>\n",
       "    </tr>\n",
       "  </thead>\n",
       "  <tbody>\n",
       "    <tr>\n",
       "      <th>a</th>\n",
       "      <td>82</td>\n",
       "      <td>93</td>\n",
       "      <td>21</td>\n",
       "      <td>26</td>\n",
       "      <td>175</td>\n",
       "      <td>522.8</td>\n",
       "    </tr>\n",
       "    <tr>\n",
       "      <th>b</th>\n",
       "      <td>51</td>\n",
       "      <td>25</td>\n",
       "      <td>67</td>\n",
       "      <td>26</td>\n",
       "      <td>76</td>\n",
       "      <td>182.8</td>\n",
       "    </tr>\n",
       "    <tr>\n",
       "      <th>c</th>\n",
       "      <td>90</td>\n",
       "      <td>36</td>\n",
       "      <td>81</td>\n",
       "      <td>54</td>\n",
       "      <td>126</td>\n",
       "      <td>237.8</td>\n",
       "    </tr>\n",
       "    <tr>\n",
       "      <th>d</th>\n",
       "      <td>51</td>\n",
       "      <td>67</td>\n",
       "      <td>77</td>\n",
       "      <td>19</td>\n",
       "      <td>118</td>\n",
       "      <td>392.8</td>\n",
       "    </tr>\n",
       "    <tr>\n",
       "      <th>e</th>\n",
       "      <td>65</td>\n",
       "      <td>11</td>\n",
       "      <td>51</td>\n",
       "      <td>73</td>\n",
       "      <td>76</td>\n",
       "      <td>112.8</td>\n",
       "    </tr>\n",
       "    <tr>\n",
       "      <th>f</th>\n",
       "      <td>24</td>\n",
       "      <td>92</td>\n",
       "      <td>24</td>\n",
       "      <td>98</td>\n",
       "      <td>116</td>\n",
       "      <td>517.8</td>\n",
       "    </tr>\n",
       "    <tr>\n",
       "      <th>g</th>\n",
       "      <td>30</td>\n",
       "      <td>15</td>\n",
       "      <td>23</td>\n",
       "      <td>89</td>\n",
       "      <td>45</td>\n",
       "      <td>132.8</td>\n",
       "    </tr>\n",
       "    <tr>\n",
       "      <th>h</th>\n",
       "      <td>34</td>\n",
       "      <td>49</td>\n",
       "      <td>92</td>\n",
       "      <td>62</td>\n",
       "      <td>83</td>\n",
       "      <td>302.8</td>\n",
       "    </tr>\n",
       "    <tr>\n",
       "      <th>i</th>\n",
       "      <td>97</td>\n",
       "      <td>1</td>\n",
       "      <td>12</td>\n",
       "      <td>33</td>\n",
       "      <td>98</td>\n",
       "      <td>62.8</td>\n",
       "    </tr>\n",
       "    <tr>\n",
       "      <th>j</th>\n",
       "      <td>54</td>\n",
       "      <td>30</td>\n",
       "      <td>71</td>\n",
       "      <td>23</td>\n",
       "      <td>84</td>\n",
       "      <td>207.8</td>\n",
       "    </tr>\n",
       "  </tbody>\n",
       "</table>\n",
       "</div>"
      ],
      "text/plain": [
       "    A   B   C   D    E      F\n",
       "a  82  93  21  26  175  522.8\n",
       "b  51  25  67  26   76  182.8\n",
       "c  90  36  81  54  126  237.8\n",
       "d  51  67  77  19  118  392.8\n",
       "e  65  11  51  73   76  112.8\n",
       "f  24  92  24  98  116  517.8\n",
       "g  30  15  23  89   45  132.8\n",
       "h  34  49  92  62   83  302.8\n",
       "i  97   1  12  33   98   62.8\n",
       "j  54  30  71  23   84  207.8"
      ]
     },
     "execution_count": 8,
     "metadata": {},
     "output_type": "execute_result"
    }
   ],
   "source": [
    "df['F']=df['A'].mean()+5*df['B']\n",
    "df"
   ]
  },
  {
   "cell_type": "markdown",
   "metadata": {},
   "source": [
    "## Selecting columns and rows "
   ]
  },
  {
   "cell_type": "markdown",
   "metadata": {},
   "source": [
    "It is possible to select a single column from a DataFrame using:"
   ]
  },
  {
   "cell_type": "code",
   "execution_count": 9,
   "metadata": {},
   "outputs": [
    {
     "name": "stdout",
     "output_type": "stream",
     "text": [
      "Column object type: <class 'pandas.core.series.Series'>\n"
     ]
    }
   ],
   "source": [
    "df['A']\n",
    "\n",
    "print('Column object type:', type(df['A']))"
   ]
  },
  {
   "cell_type": "markdown",
   "metadata": {},
   "source": [
    "As you can see a DataFrame column is represented by a separated datatype: a Series. Essentially a Series is a one-dimensional labeled array capable of holding data of any type (integer, string, float, python objects, etc.). The axis labels are collectively called index. Rows can be selected as"
   ]
  },
  {
   "cell_type": "code",
   "execution_count": 10,
   "metadata": {},
   "outputs": [
    {
     "data": {
      "text/html": [
       "<div>\n",
       "<style scoped>\n",
       "    .dataframe tbody tr th:only-of-type {\n",
       "        vertical-align: middle;\n",
       "    }\n",
       "\n",
       "    .dataframe tbody tr th {\n",
       "        vertical-align: top;\n",
       "    }\n",
       "\n",
       "    .dataframe thead th {\n",
       "        text-align: right;\n",
       "    }\n",
       "</style>\n",
       "<table border=\"1\" class=\"dataframe\">\n",
       "  <thead>\n",
       "    <tr style=\"text-align: right;\">\n",
       "      <th></th>\n",
       "      <th>A</th>\n",
       "      <th>B</th>\n",
       "      <th>C</th>\n",
       "      <th>D</th>\n",
       "      <th>E</th>\n",
       "      <th>F</th>\n",
       "    </tr>\n",
       "  </thead>\n",
       "  <tbody>\n",
       "    <tr>\n",
       "      <th>a</th>\n",
       "      <td>82</td>\n",
       "      <td>93</td>\n",
       "      <td>21</td>\n",
       "      <td>26</td>\n",
       "      <td>175</td>\n",
       "      <td>522.8</td>\n",
       "    </tr>\n",
       "    <tr>\n",
       "      <th>b</th>\n",
       "      <td>51</td>\n",
       "      <td>25</td>\n",
       "      <td>67</td>\n",
       "      <td>26</td>\n",
       "      <td>76</td>\n",
       "      <td>182.8</td>\n",
       "    </tr>\n",
       "    <tr>\n",
       "      <th>c</th>\n",
       "      <td>90</td>\n",
       "      <td>36</td>\n",
       "      <td>81</td>\n",
       "      <td>54</td>\n",
       "      <td>126</td>\n",
       "      <td>237.8</td>\n",
       "    </tr>\n",
       "  </tbody>\n",
       "</table>\n",
       "</div>"
      ],
      "text/plain": [
       "    A   B   C   D    E      F\n",
       "a  82  93  21  26  175  522.8\n",
       "b  51  25  67  26   76  182.8\n",
       "c  90  36  81  54  126  237.8"
      ]
     },
     "execution_count": 10,
     "metadata": {},
     "output_type": "execute_result"
    }
   ],
   "source": [
    "df[0:3]"
   ]
  },
  {
   "cell_type": "markdown",
   "metadata": {},
   "source": [
    "In order to select a range of columns and rows (using the column names and row indices) use the ```.loc``` attribute:"
   ]
  },
  {
   "cell_type": "code",
   "execution_count": 11,
   "metadata": {},
   "outputs": [
    {
     "data": {
      "text/html": [
       "<div>\n",
       "<style scoped>\n",
       "    .dataframe tbody tr th:only-of-type {\n",
       "        vertical-align: middle;\n",
       "    }\n",
       "\n",
       "    .dataframe tbody tr th {\n",
       "        vertical-align: top;\n",
       "    }\n",
       "\n",
       "    .dataframe thead th {\n",
       "        text-align: right;\n",
       "    }\n",
       "</style>\n",
       "<table border=\"1\" class=\"dataframe\">\n",
       "  <thead>\n",
       "    <tr style=\"text-align: right;\">\n",
       "      <th></th>\n",
       "      <th>A</th>\n",
       "      <th>B</th>\n",
       "      <th>C</th>\n",
       "    </tr>\n",
       "  </thead>\n",
       "  <tbody>\n",
       "    <tr>\n",
       "      <th>a</th>\n",
       "      <td>82</td>\n",
       "      <td>93</td>\n",
       "      <td>21</td>\n",
       "    </tr>\n",
       "    <tr>\n",
       "      <th>b</th>\n",
       "      <td>51</td>\n",
       "      <td>25</td>\n",
       "      <td>67</td>\n",
       "    </tr>\n",
       "    <tr>\n",
       "      <th>c</th>\n",
       "      <td>90</td>\n",
       "      <td>36</td>\n",
       "      <td>81</td>\n",
       "    </tr>\n",
       "    <tr>\n",
       "      <th>d</th>\n",
       "      <td>51</td>\n",
       "      <td>67</td>\n",
       "      <td>77</td>\n",
       "    </tr>\n",
       "  </tbody>\n",
       "</table>\n",
       "</div>"
      ],
      "text/plain": [
       "    A   B   C\n",
       "a  82  93  21\n",
       "b  51  25  67\n",
       "c  90  36  81\n",
       "d  51  67  77"
      ]
     },
     "execution_count": 11,
     "metadata": {},
     "output_type": "execute_result"
    }
   ],
   "source": [
    "# select a range or rows and columns by name\n",
    "df.loc['a':'d','A':'C']"
   ]
  },
  {
   "cell_type": "markdown",
   "metadata": {},
   "source": [
    "This can also be used to obtain a single scalar value, "
   ]
  },
  {
   "cell_type": "code",
   "execution_count": 12,
   "metadata": {},
   "outputs": [
    {
     "name": "stdout",
     "output_type": "stream",
     "text": [
      "Selecting a single value: 51, given type: <class 'numpy.int32'>\n"
     ]
    }
   ],
   "source": [
    "# select a scalar value\n",
    "print('Selecting a single value: {}, given type: {}'.format(df.loc['b','A'],type(df.loc['b','A'])))"
   ]
  },
  {
   "cell_type": "markdown",
   "metadata": {},
   "source": [
    "Alternatively to slice by column and row number use ```iloc```:"
   ]
  },
  {
   "cell_type": "code",
   "execution_count": 13,
   "metadata": {},
   "outputs": [
    {
     "data": {
      "text/html": [
       "<div>\n",
       "<style scoped>\n",
       "    .dataframe tbody tr th:only-of-type {\n",
       "        vertical-align: middle;\n",
       "    }\n",
       "\n",
       "    .dataframe tbody tr th {\n",
       "        vertical-align: top;\n",
       "    }\n",
       "\n",
       "    .dataframe thead th {\n",
       "        text-align: right;\n",
       "    }\n",
       "</style>\n",
       "<table border=\"1\" class=\"dataframe\">\n",
       "  <thead>\n",
       "    <tr style=\"text-align: right;\">\n",
       "      <th></th>\n",
       "      <th>A</th>\n",
       "      <th>B</th>\n",
       "      <th>C</th>\n",
       "    </tr>\n",
       "  </thead>\n",
       "  <tbody>\n",
       "    <tr>\n",
       "      <th>a</th>\n",
       "      <td>82</td>\n",
       "      <td>93</td>\n",
       "      <td>21</td>\n",
       "    </tr>\n",
       "    <tr>\n",
       "      <th>b</th>\n",
       "      <td>51</td>\n",
       "      <td>25</td>\n",
       "      <td>67</td>\n",
       "    </tr>\n",
       "    <tr>\n",
       "      <th>c</th>\n",
       "      <td>90</td>\n",
       "      <td>36</td>\n",
       "      <td>81</td>\n",
       "    </tr>\n",
       "    <tr>\n",
       "      <th>d</th>\n",
       "      <td>51</td>\n",
       "      <td>67</td>\n",
       "      <td>77</td>\n",
       "    </tr>\n",
       "  </tbody>\n",
       "</table>\n",
       "</div>"
      ],
      "text/plain": [
       "    A   B   C\n",
       "a  82  93  21\n",
       "b  51  25  67\n",
       "c  90  36  81\n",
       "d  51  67  77"
      ]
     },
     "execution_count": 13,
     "metadata": {},
     "output_type": "execute_result"
    }
   ],
   "source": [
    "# select a range or rows and columns by number\n",
    "df.iloc[0:4,0:3]"
   ]
  },
  {
   "cell_type": "markdown",
   "metadata": {},
   "source": [
    "__Task 4:__ From `student_data` select\n",
    "1. Rows 2 to 6\n",
    "2. Column 'height'\n",
    "3. Rows 0 and 1 and columns 0 to 2\n",
    "4. Rows 0 to 2 and columns 'distance' to 'height'"
   ]
  },
  {
   "cell_type": "code",
   "execution_count": 14,
   "metadata": {},
   "outputs": [
    {
     "data": {
      "text/html": [
       "<div>\n",
       "<style scoped>\n",
       "    .dataframe tbody tr th:only-of-type {\n",
       "        vertical-align: middle;\n",
       "    }\n",
       "\n",
       "    .dataframe tbody tr th {\n",
       "        vertical-align: top;\n",
       "    }\n",
       "\n",
       "    .dataframe thead th {\n",
       "        text-align: right;\n",
       "    }\n",
       "</style>\n",
       "<table border=\"1\" class=\"dataframe\">\n",
       "  <thead>\n",
       "    <tr style=\"text-align: right;\">\n",
       "      <th></th>\n",
       "      <th>gender</th>\n",
       "      <th>distance</th>\n",
       "      <th>height</th>\n",
       "    </tr>\n",
       "  </thead>\n",
       "  <tbody>\n",
       "    <tr>\n",
       "      <th>2</th>\n",
       "      <td>F</td>\n",
       "      <td>90</td>\n",
       "      <td>152</td>\n",
       "    </tr>\n",
       "    <tr>\n",
       "      <th>3</th>\n",
       "      <td>F</td>\n",
       "      <td>272</td>\n",
       "      <td>157</td>\n",
       "    </tr>\n",
       "    <tr>\n",
       "      <th>4</th>\n",
       "      <td>F</td>\n",
       "      <td>80</td>\n",
       "      <td>157</td>\n",
       "    </tr>\n",
       "    <tr>\n",
       "      <th>5</th>\n",
       "      <td>F</td>\n",
       "      <td>8</td>\n",
       "      <td>165</td>\n",
       "    </tr>\n",
       "    <tr>\n",
       "      <th>6</th>\n",
       "      <td>M</td>\n",
       "      <td>485</td>\n",
       "      <td>173</td>\n",
       "    </tr>\n",
       "  </tbody>\n",
       "</table>\n",
       "</div>"
      ],
      "text/plain": [
       "  gender  distance  height\n",
       "2      F        90     152\n",
       "3      F       272     157\n",
       "4      F        80     157\n",
       "5      F         8     165\n",
       "6      M       485     173"
      ]
     },
     "execution_count": 14,
     "metadata": {},
     "output_type": "execute_result"
    }
   ],
   "source": [
    "student_data[2:7]"
   ]
  },
  {
   "cell_type": "code",
   "execution_count": 15,
   "metadata": {},
   "outputs": [
    {
     "data": {
      "text/plain": [
       "0    183\n",
       "1    163\n",
       "2    152\n",
       "3    157\n",
       "4    157\n",
       "Name: height, dtype: int64"
      ]
     },
     "execution_count": 15,
     "metadata": {},
     "output_type": "execute_result"
    }
   ],
   "source": [
    "student_data['height'].head()"
   ]
  },
  {
   "cell_type": "code",
   "execution_count": 16,
   "metadata": {},
   "outputs": [
    {
     "data": {
      "text/html": [
       "<div>\n",
       "<style scoped>\n",
       "    .dataframe tbody tr th:only-of-type {\n",
       "        vertical-align: middle;\n",
       "    }\n",
       "\n",
       "    .dataframe tbody tr th {\n",
       "        vertical-align: top;\n",
       "    }\n",
       "\n",
       "    .dataframe thead th {\n",
       "        text-align: right;\n",
       "    }\n",
       "</style>\n",
       "<table border=\"1\" class=\"dataframe\">\n",
       "  <thead>\n",
       "    <tr style=\"text-align: right;\">\n",
       "      <th></th>\n",
       "      <th>gender</th>\n",
       "      <th>distance</th>\n",
       "      <th>height</th>\n",
       "    </tr>\n",
       "  </thead>\n",
       "  <tbody>\n",
       "    <tr>\n",
       "      <th>0</th>\n",
       "      <td>M</td>\n",
       "      <td>80</td>\n",
       "      <td>183</td>\n",
       "    </tr>\n",
       "    <tr>\n",
       "      <th>1</th>\n",
       "      <td>F</td>\n",
       "      <td>3</td>\n",
       "      <td>163</td>\n",
       "    </tr>\n",
       "  </tbody>\n",
       "</table>\n",
       "</div>"
      ],
      "text/plain": [
       "  gender  distance  height\n",
       "0      M        80     183\n",
       "1      F         3     163"
      ]
     },
     "execution_count": 16,
     "metadata": {},
     "output_type": "execute_result"
    }
   ],
   "source": [
    "student_data.iloc[0:2,0:3]"
   ]
  },
  {
   "cell_type": "code",
   "execution_count": 17,
   "metadata": {},
   "outputs": [
    {
     "data": {
      "text/html": [
       "<div>\n",
       "<style scoped>\n",
       "    .dataframe tbody tr th:only-of-type {\n",
       "        vertical-align: middle;\n",
       "    }\n",
       "\n",
       "    .dataframe tbody tr th {\n",
       "        vertical-align: top;\n",
       "    }\n",
       "\n",
       "    .dataframe thead th {\n",
       "        text-align: right;\n",
       "    }\n",
       "</style>\n",
       "<table border=\"1\" class=\"dataframe\">\n",
       "  <thead>\n",
       "    <tr style=\"text-align: right;\">\n",
       "      <th></th>\n",
       "      <th>distance</th>\n",
       "      <th>height</th>\n",
       "    </tr>\n",
       "  </thead>\n",
       "  <tbody>\n",
       "    <tr>\n",
       "      <th>0</th>\n",
       "      <td>80</td>\n",
       "      <td>183</td>\n",
       "    </tr>\n",
       "    <tr>\n",
       "      <th>1</th>\n",
       "      <td>3</td>\n",
       "      <td>163</td>\n",
       "    </tr>\n",
       "    <tr>\n",
       "      <th>2</th>\n",
       "      <td>90</td>\n",
       "      <td>152</td>\n",
       "    </tr>\n",
       "  </tbody>\n",
       "</table>\n",
       "</div>"
      ],
      "text/plain": [
       "   distance  height\n",
       "0        80     183\n",
       "1         3     163\n",
       "2        90     152"
      ]
     },
     "execution_count": 17,
     "metadata": {},
     "output_type": "execute_result"
    }
   ],
   "source": [
    "student_data.loc[0:2,'distance':'height']"
   ]
  },
  {
   "cell_type": "markdown",
   "metadata": {},
   "source": [
    "## Filtering "
   ]
  },
  {
   "cell_type": "markdown",
   "metadata": {},
   "source": [
    "Data can be filtered using conditional statements such as:"
   ]
  },
  {
   "cell_type": "code",
   "execution_count": 18,
   "metadata": {},
   "outputs": [
    {
     "data": {
      "text/html": [
       "<div>\n",
       "<style scoped>\n",
       "    .dataframe tbody tr th:only-of-type {\n",
       "        vertical-align: middle;\n",
       "    }\n",
       "\n",
       "    .dataframe tbody tr th {\n",
       "        vertical-align: top;\n",
       "    }\n",
       "\n",
       "    .dataframe thead th {\n",
       "        text-align: right;\n",
       "    }\n",
       "</style>\n",
       "<table border=\"1\" class=\"dataframe\">\n",
       "  <thead>\n",
       "    <tr style=\"text-align: right;\">\n",
       "      <th></th>\n",
       "      <th>A</th>\n",
       "      <th>B</th>\n",
       "      <th>C</th>\n",
       "      <th>D</th>\n",
       "      <th>E</th>\n",
       "      <th>F</th>\n",
       "    </tr>\n",
       "  </thead>\n",
       "  <tbody>\n",
       "    <tr>\n",
       "      <th>a</th>\n",
       "      <td>82</td>\n",
       "      <td>93</td>\n",
       "      <td>21</td>\n",
       "      <td>26</td>\n",
       "      <td>175</td>\n",
       "      <td>522.8</td>\n",
       "    </tr>\n",
       "    <tr>\n",
       "      <th>b</th>\n",
       "      <td>51</td>\n",
       "      <td>25</td>\n",
       "      <td>67</td>\n",
       "      <td>26</td>\n",
       "      <td>76</td>\n",
       "      <td>182.8</td>\n",
       "    </tr>\n",
       "    <tr>\n",
       "      <th>c</th>\n",
       "      <td>90</td>\n",
       "      <td>36</td>\n",
       "      <td>81</td>\n",
       "      <td>54</td>\n",
       "      <td>126</td>\n",
       "      <td>237.8</td>\n",
       "    </tr>\n",
       "    <tr>\n",
       "      <th>d</th>\n",
       "      <td>51</td>\n",
       "      <td>67</td>\n",
       "      <td>77</td>\n",
       "      <td>19</td>\n",
       "      <td>118</td>\n",
       "      <td>392.8</td>\n",
       "    </tr>\n",
       "    <tr>\n",
       "      <th>e</th>\n",
       "      <td>65</td>\n",
       "      <td>11</td>\n",
       "      <td>51</td>\n",
       "      <td>73</td>\n",
       "      <td>76</td>\n",
       "      <td>112.8</td>\n",
       "    </tr>\n",
       "    <tr>\n",
       "      <th>i</th>\n",
       "      <td>97</td>\n",
       "      <td>1</td>\n",
       "      <td>12</td>\n",
       "      <td>33</td>\n",
       "      <td>98</td>\n",
       "      <td>62.8</td>\n",
       "    </tr>\n",
       "    <tr>\n",
       "      <th>j</th>\n",
       "      <td>54</td>\n",
       "      <td>30</td>\n",
       "      <td>71</td>\n",
       "      <td>23</td>\n",
       "      <td>84</td>\n",
       "      <td>207.8</td>\n",
       "    </tr>\n",
       "  </tbody>\n",
       "</table>\n",
       "</div>"
      ],
      "text/plain": [
       "    A   B   C   D    E      F\n",
       "a  82  93  21  26  175  522.8\n",
       "b  51  25  67  26   76  182.8\n",
       "c  90  36  81  54  126  237.8\n",
       "d  51  67  77  19  118  392.8\n",
       "e  65  11  51  73   76  112.8\n",
       "i  97   1  12  33   98   62.8\n",
       "j  54  30  71  23   84  207.8"
      ]
     },
     "execution_count": 18,
     "metadata": {},
     "output_type": "execute_result"
    }
   ],
   "source": [
    "df[df['A'] > 50]"
   ]
  },
  {
   "cell_type": "markdown",
   "metadata": {},
   "source": [
    "This selects all rows for which the values in the column 'A' are greater than 50. To further reduce this data to the values in column 'C':"
   ]
  },
  {
   "cell_type": "code",
   "execution_count": 19,
   "metadata": {},
   "outputs": [
    {
     "data": {
      "text/plain": [
       "a    21\n",
       "b    67\n",
       "c    81\n",
       "d    77\n",
       "e    51\n",
       "i    12\n",
       "j    71\n",
       "Name: C, dtype: int32"
      ]
     },
     "execution_count": 19,
     "metadata": {},
     "output_type": "execute_result"
    }
   ],
   "source": [
    "df['C'][df['A'] > 50]"
   ]
  },
  {
   "cell_type": "markdown",
   "metadata": {},
   "source": [
    "__Task 5:__ Select the column 'height' for the female students only."
   ]
  },
  {
   "cell_type": "code",
   "execution_count": 20,
   "metadata": {},
   "outputs": [
    {
     "data": {
      "text/plain": [
       "1     163\n",
       "2     152\n",
       "3     157\n",
       "4     157\n",
       "5     165\n",
       "8     164\n",
       "9     160\n",
       "10    166\n",
       "11    157\n",
       "12    168\n",
       "13    167\n",
       "14    156\n",
       "15    155\n",
       "17    169\n",
       "18    171\n",
       "21    168\n",
       "22    165\n",
       "23    166\n",
       "24    164\n",
       "25    163\n",
       "26    161\n",
       "27    157\n",
       "29    163\n",
       "30    157\n",
       "31    169\n",
       "32    177\n",
       "33    174\n",
       "Name: height, dtype: int64"
      ]
     },
     "execution_count": 20,
     "metadata": {},
     "output_type": "execute_result"
    }
   ],
   "source": [
    "student_data['height'][student_data['gender']=='F']"
   ]
  },
  {
   "cell_type": "markdown",
   "metadata": {},
   "source": [
    "## Iterating through rows"
   ]
  },
  {
   "cell_type": "markdown",
   "metadata": {},
   "source": [
    "Occasionally it can be useful to iterate through all the rows in the DataFrame (for example if it stores paths to files that need to be processed). This can be achieved as follows:"
   ]
  },
  {
   "cell_type": "code",
   "execution_count": 21,
   "metadata": {},
   "outputs": [
    {
     "name": "stdout",
     "output_type": "stream",
     "text": [
      "a 82.0 175.0\n",
      "b 51.0 76.0\n",
      "c 90.0 126.0\n",
      "d 51.0 118.0\n",
      "e 65.0 76.0\n",
      "f 24.0 116.0\n",
      "g 30.0 45.0\n",
      "h 34.0 83.0\n",
      "i 97.0 98.0\n",
      "j 54.0 84.0\n"
     ]
    }
   ],
   "source": [
    "for index, row in df.iterrows():\n",
    "    print(index,row['A'],row['E'])"
   ]
  },
  {
   "cell_type": "markdown",
   "metadata": {},
   "source": [
    "Here, ```row``` is a Series containing the content of each indexed row. The values from different columns in this row can therefore be indexed as ```row['A'], row['B'}``` ... etc"
   ]
  },
  {
   "cell_type": "markdown",
   "metadata": {},
   "source": [
    "## Merging"
   ]
  },
  {
   "cell_type": "markdown",
   "metadata": {},
   "source": [
    "Sometimes you will want to merge two DataFrames that share information. For example, creating a new DataFrame that shares Columns 'A' and 'B' with ```df```:"
   ]
  },
  {
   "cell_type": "code",
   "execution_count": 22,
   "metadata": {},
   "outputs": [
    {
     "data": {
      "text/html": [
       "<div>\n",
       "<style scoped>\n",
       "    .dataframe tbody tr th:only-of-type {\n",
       "        vertical-align: middle;\n",
       "    }\n",
       "\n",
       "    .dataframe tbody tr th {\n",
       "        vertical-align: top;\n",
       "    }\n",
       "\n",
       "    .dataframe thead th {\n",
       "        text-align: right;\n",
       "    }\n",
       "</style>\n",
       "<table border=\"1\" class=\"dataframe\">\n",
       "  <thead>\n",
       "    <tr style=\"text-align: right;\">\n",
       "      <th></th>\n",
       "      <th>F</th>\n",
       "      <th>G</th>\n",
       "      <th>H</th>\n",
       "      <th>A</th>\n",
       "      <th>B</th>\n",
       "    </tr>\n",
       "  </thead>\n",
       "  <tbody>\n",
       "    <tr>\n",
       "      <th>a</th>\n",
       "      <td>32</td>\n",
       "      <td>70</td>\n",
       "      <td>84</td>\n",
       "      <td>82</td>\n",
       "      <td>93</td>\n",
       "    </tr>\n",
       "    <tr>\n",
       "      <th>b</th>\n",
       "      <td>37</td>\n",
       "      <td>53</td>\n",
       "      <td>15</td>\n",
       "      <td>51</td>\n",
       "      <td>25</td>\n",
       "    </tr>\n",
       "    <tr>\n",
       "      <th>c</th>\n",
       "      <td>50</td>\n",
       "      <td>18</td>\n",
       "      <td>42</td>\n",
       "      <td>90</td>\n",
       "      <td>36</td>\n",
       "    </tr>\n",
       "    <tr>\n",
       "      <th>d</th>\n",
       "      <td>73</td>\n",
       "      <td>72</td>\n",
       "      <td>49</td>\n",
       "      <td>51</td>\n",
       "      <td>67</td>\n",
       "    </tr>\n",
       "    <tr>\n",
       "      <th>e</th>\n",
       "      <td>16</td>\n",
       "      <td>66</td>\n",
       "      <td>92</td>\n",
       "      <td>65</td>\n",
       "      <td>11</td>\n",
       "    </tr>\n",
       "    <tr>\n",
       "      <th>f</th>\n",
       "      <td>38</td>\n",
       "      <td>65</td>\n",
       "      <td>40</td>\n",
       "      <td>24</td>\n",
       "      <td>92</td>\n",
       "    </tr>\n",
       "    <tr>\n",
       "      <th>g</th>\n",
       "      <td>1</td>\n",
       "      <td>69</td>\n",
       "      <td>88</td>\n",
       "      <td>30</td>\n",
       "      <td>15</td>\n",
       "    </tr>\n",
       "    <tr>\n",
       "      <th>h</th>\n",
       "      <td>4</td>\n",
       "      <td>72</td>\n",
       "      <td>94</td>\n",
       "      <td>34</td>\n",
       "      <td>49</td>\n",
       "    </tr>\n",
       "    <tr>\n",
       "      <th>i</th>\n",
       "      <td>8</td>\n",
       "      <td>75</td>\n",
       "      <td>33</td>\n",
       "      <td>97</td>\n",
       "      <td>1</td>\n",
       "    </tr>\n",
       "    <tr>\n",
       "      <th>j</th>\n",
       "      <td>72</td>\n",
       "      <td>49</td>\n",
       "      <td>69</td>\n",
       "      <td>54</td>\n",
       "      <td>30</td>\n",
       "    </tr>\n",
       "  </tbody>\n",
       "</table>\n",
       "</div>"
      ],
      "text/plain": [
       "    F   G   H   A   B\n",
       "a  32  70  84  82  93\n",
       "b  37  53  15  51  25\n",
       "c  50  18  42  90  36\n",
       "d  73  72  49  51  67\n",
       "e  16  66  92  65  11\n",
       "f  38  65  40  24  92\n",
       "g   1  69  88  30  15\n",
       "h   4  72  94  34  49\n",
       "i   8  75  33  97   1\n",
       "j  72  49  69  54  30"
      ]
     },
     "execution_count": 22,
     "metadata": {},
     "output_type": "execute_result"
    }
   ],
   "source": [
    "# creating an array of random numbers with four columns\n",
    "random_array=np.random.randint(0,100,size=(10,3))\n",
    "\n",
    "# creating a new data frame object from the random array and providing column  labels\n",
    "df_new=pd.DataFrame(random_array,index=['a','b','c','d','e','f','g' ,'h','i','j'],columns=['F','G','H'])\n",
    "df_new['A']=df['A']\n",
    "df_new['B']=df['B']\n",
    "df_new"
   ]
  },
  {
   "cell_type": "markdown",
   "metadata": {},
   "source": [
    "Then the two DataFrames can be merged on these columns using the following command:"
   ]
  },
  {
   "cell_type": "code",
   "execution_count": 23,
   "metadata": {},
   "outputs": [
    {
     "data": {
      "text/html": [
       "<div>\n",
       "<style scoped>\n",
       "    .dataframe tbody tr th:only-of-type {\n",
       "        vertical-align: middle;\n",
       "    }\n",
       "\n",
       "    .dataframe tbody tr th {\n",
       "        vertical-align: top;\n",
       "    }\n",
       "\n",
       "    .dataframe thead th {\n",
       "        text-align: right;\n",
       "    }\n",
       "</style>\n",
       "<table border=\"1\" class=\"dataframe\">\n",
       "  <thead>\n",
       "    <tr style=\"text-align: right;\">\n",
       "      <th></th>\n",
       "      <th>A</th>\n",
       "      <th>B</th>\n",
       "      <th>C</th>\n",
       "      <th>D</th>\n",
       "      <th>E</th>\n",
       "      <th>F_x</th>\n",
       "      <th>F_y</th>\n",
       "      <th>G</th>\n",
       "      <th>H</th>\n",
       "    </tr>\n",
       "  </thead>\n",
       "  <tbody>\n",
       "    <tr>\n",
       "      <th>0</th>\n",
       "      <td>82</td>\n",
       "      <td>93</td>\n",
       "      <td>21</td>\n",
       "      <td>26</td>\n",
       "      <td>175</td>\n",
       "      <td>522.8</td>\n",
       "      <td>32</td>\n",
       "      <td>70</td>\n",
       "      <td>84</td>\n",
       "    </tr>\n",
       "    <tr>\n",
       "      <th>1</th>\n",
       "      <td>51</td>\n",
       "      <td>25</td>\n",
       "      <td>67</td>\n",
       "      <td>26</td>\n",
       "      <td>76</td>\n",
       "      <td>182.8</td>\n",
       "      <td>37</td>\n",
       "      <td>53</td>\n",
       "      <td>15</td>\n",
       "    </tr>\n",
       "    <tr>\n",
       "      <th>2</th>\n",
       "      <td>90</td>\n",
       "      <td>36</td>\n",
       "      <td>81</td>\n",
       "      <td>54</td>\n",
       "      <td>126</td>\n",
       "      <td>237.8</td>\n",
       "      <td>50</td>\n",
       "      <td>18</td>\n",
       "      <td>42</td>\n",
       "    </tr>\n",
       "    <tr>\n",
       "      <th>3</th>\n",
       "      <td>51</td>\n",
       "      <td>67</td>\n",
       "      <td>77</td>\n",
       "      <td>19</td>\n",
       "      <td>118</td>\n",
       "      <td>392.8</td>\n",
       "      <td>73</td>\n",
       "      <td>72</td>\n",
       "      <td>49</td>\n",
       "    </tr>\n",
       "    <tr>\n",
       "      <th>4</th>\n",
       "      <td>65</td>\n",
       "      <td>11</td>\n",
       "      <td>51</td>\n",
       "      <td>73</td>\n",
       "      <td>76</td>\n",
       "      <td>112.8</td>\n",
       "      <td>16</td>\n",
       "      <td>66</td>\n",
       "      <td>92</td>\n",
       "    </tr>\n",
       "    <tr>\n",
       "      <th>5</th>\n",
       "      <td>24</td>\n",
       "      <td>92</td>\n",
       "      <td>24</td>\n",
       "      <td>98</td>\n",
       "      <td>116</td>\n",
       "      <td>517.8</td>\n",
       "      <td>38</td>\n",
       "      <td>65</td>\n",
       "      <td>40</td>\n",
       "    </tr>\n",
       "    <tr>\n",
       "      <th>6</th>\n",
       "      <td>30</td>\n",
       "      <td>15</td>\n",
       "      <td>23</td>\n",
       "      <td>89</td>\n",
       "      <td>45</td>\n",
       "      <td>132.8</td>\n",
       "      <td>1</td>\n",
       "      <td>69</td>\n",
       "      <td>88</td>\n",
       "    </tr>\n",
       "    <tr>\n",
       "      <th>7</th>\n",
       "      <td>34</td>\n",
       "      <td>49</td>\n",
       "      <td>92</td>\n",
       "      <td>62</td>\n",
       "      <td>83</td>\n",
       "      <td>302.8</td>\n",
       "      <td>4</td>\n",
       "      <td>72</td>\n",
       "      <td>94</td>\n",
       "    </tr>\n",
       "    <tr>\n",
       "      <th>8</th>\n",
       "      <td>97</td>\n",
       "      <td>1</td>\n",
       "      <td>12</td>\n",
       "      <td>33</td>\n",
       "      <td>98</td>\n",
       "      <td>62.8</td>\n",
       "      <td>8</td>\n",
       "      <td>75</td>\n",
       "      <td>33</td>\n",
       "    </tr>\n",
       "    <tr>\n",
       "      <th>9</th>\n",
       "      <td>54</td>\n",
       "      <td>30</td>\n",
       "      <td>71</td>\n",
       "      <td>23</td>\n",
       "      <td>84</td>\n",
       "      <td>207.8</td>\n",
       "      <td>72</td>\n",
       "      <td>49</td>\n",
       "      <td>69</td>\n",
       "    </tr>\n",
       "  </tbody>\n",
       "</table>\n",
       "</div>"
      ],
      "text/plain": [
       "    A   B   C   D    E    F_x  F_y   G   H\n",
       "0  82  93  21  26  175  522.8   32  70  84\n",
       "1  51  25  67  26   76  182.8   37  53  15\n",
       "2  90  36  81  54  126  237.8   50  18  42\n",
       "3  51  67  77  19  118  392.8   73  72  49\n",
       "4  65  11  51  73   76  112.8   16  66  92\n",
       "5  24  92  24  98  116  517.8   38  65  40\n",
       "6  30  15  23  89   45  132.8    1  69  88\n",
       "7  34  49  92  62   83  302.8    4  72  94\n",
       "8  97   1  12  33   98   62.8    8  75  33\n",
       "9  54  30  71  23   84  207.8   72  49  69"
      ]
     },
     "execution_count": 23,
     "metadata": {},
     "output_type": "execute_result"
    }
   ],
   "source": [
    "df_merged=df.merge(df_new, on=['A','B'])\n",
    "df_merged"
   ]
  },
  {
   "cell_type": "markdown",
   "metadata": {},
   "source": [
    "## Plotting"
   ]
  },
  {
   "cell_type": "markdown",
   "metadata": {},
   "source": [
    "Finally, as seen prevously for the MatplotLib tutorial. It is possible to directly plot the columns of the DataFrame as follows:"
   ]
  },
  {
   "cell_type": "code",
   "execution_count": 24,
   "metadata": {},
   "outputs": [
    {
     "data": {
      "text/plain": [
       "Text(0, 0.5, 'Distance Travelled')"
      ]
     },
     "execution_count": 24,
     "metadata": {},
     "output_type": "execute_result"
    },
    {
     "data": {
      "image/png": "[encoded data removed]",
      "text/plain": [
       "<Figure size 432x288 with 1 Axes>"
      ]
     },
     "metadata": {
      "needs_background": "light"
     },
     "output_type": "display_data"
    }
   ],
   "source": [
    "plt.scatter(student_data['height'],student_data['distance'])\n",
    "plt.xlabel('height')\n",
    "plt.ylabel('Distance Travelled')"
   ]
  },
  {
   "cell_type": "markdown",
   "metadata": {},
   "source": [
    "__Task 6:__ Plot a histogram of heights of the female students."
   ]
  },
  {
   "cell_type": "code",
   "execution_count": 25,
   "metadata": {},
   "outputs": [
    {
     "data": {
      "text/plain": [
       "(array([1., 2., 5., 2., 5., 4., 5., 1., 1., 1.]),\n",
       " array([152. , 154.5, 157. , 159.5, 162. , 164.5, 167. , 169.5, 172. ,\n",
       "        174.5, 177. ]),\n",
       " <a list of 10 Patch objects>)"
      ]
     },
     "execution_count": 25,
     "metadata": {},
     "output_type": "execute_result"
    },
    {
     "data": {
      "image/png": "[encoded data removed]",
      "text/plain": [
       "<Figure size 432x288 with 1 Axes>"
      ]
     },
     "metadata": {
      "needs_background": "light"
     },
     "output_type": "display_data"
    }
   ],
   "source": [
    "plt.hist(student_data['height'][student_data['gender']=='F'])"
   ]
  },
  {
   "cell_type": "markdown",
   "metadata": {},
   "source": [
    "# Citations & Extended Tutorials"
   ]
  },
  {
   "cell_type": "markdown",
   "metadata": {},
   "source": [
    "When using Pandas in your research you should consider citing\n",
    "\n",
    "Wes McKinney. Data Structures for Statistical Computing in Python, Proceedings of the 9th Python in Science Conference, 51-56 (2010) (publisher link)\n",
    "\n",
    "For more comprehensive tutorials on using Pandas see:\n",
    "\n",
    "https://pandas.pydata.org/pandas-docs/stable/tutorials.html"
   ]
  }
 ],
 "metadata": {
  "kernelspec": {
   "display_name": "Python 3",
   "language": "python",
   "name": "python3"
  },
  "language_info": {
   "codemirror_mode": {
    "name": "ipython",
    "version": 3
   },
   "file_extension": ".py",
   "mimetype": "text/x-python",
   "name": "python",
   "nbconvert_exporter": "python",
   "pygments_lexer": "ipython3",
   "version": "3.6.7"
  }
 },
 "nbformat": 4,
 "nbformat_minor": 2
}
