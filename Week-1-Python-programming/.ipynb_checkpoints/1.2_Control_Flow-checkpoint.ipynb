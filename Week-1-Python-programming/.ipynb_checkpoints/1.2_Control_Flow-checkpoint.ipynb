{
 "cells": [
  {
   "cell_type": "markdown",
   "metadata": {
    "id": "gjwBpHeb7KTj"
   },
   "source": [
    "# Python Control Flow\n",
    "\n",
    "Hello there! We're all set for an exciting journey through some Python essentials. Our next stop will be at conditional (**```if```**) statements, then we'll hop over to **`for`** and **`while`** loops - these are absolutely vital tools in coding!\n",
    "\n",
    "Next, we'll venture into the domain of looping over **lists** and **dictionaries** - think of it as a scavenger hunt in Python world.\n",
    "\n",
    "And finally, we'll conclude our trip by learning how to define and use Python **functions**. It's going to be a fantastic voyage, so buckle up and let's go!"
   ]
  },
  {
   "cell_type": "markdown",
   "metadata": {
    "id": "Gx5y9of07KTo"
   },
   "source": [
    "# 2. General Features of Control Flow Statements\n",
    "\n",
    "Let's explore how Python uses control flow &ndash; **the sequence in which the code is executed** &ndash; which can be guided by a few different types of statements. In our exciting notebook adventure, we're focusing on `if`, `for`, and `while` statements. But you should know that Python has other tools in its box like `try` statements for handling exceptions or cleanup tasks, and `with` statements (which allow execution of initialization and finalization code, prior to running a block of code).\n",
    "\n",
    "All these control flow statements have a thing in common, a general format. In pseudocode, it would look something like this:\n",
    "\n",
    "```\n",
    "main body of code\n",
    "\n",
    "control flow (if/for/while/try/with) statement :\n",
    "    statement\n",
    "    statement\n",
    "    \n",
    "return to main body of code\n",
    "```\n",
    "Don't forget to spot the colon at the end of the control flow statement. Following it, there are indented lines, which are like the runway lights guiding which block of code to execute (or skip) in response to the statement.\n",
    "\n",
    "## 2.1 Indentation is everything\n",
    "\n",
    "Unlike matlab, which uses an 'end' to signal the end of a loop or statement, in Python control flow is indicated solely through indentation relative to the rest of the code.\n",
    "\n",
    "Different types of identations are allowed: tabs or _n_ spaces. 4 spaces is the most conventional choice. Just be consistent!\n",
    "\n",
    "<img src=\"imgs/indentation.png\" alt=\"Drawing\" style=\"width: 750px;\"/>\n",
    "\n",
    "You don't need to decode every bit of the syntax at this point. Just note how, with each '`for`' or '`if`' statement, the code shifts further to the right, almost like a gentle wave.\n",
    "\n",
    "**To do** Try writing up the `for` loop as shown in the figure above.  see what happens when you change the indentation of the lines\n"
   ]
  },
  {
   "cell_type": "code",
   "execution_count": null,
   "metadata": {
    "id": "zoPZMlv47KTp"
   },
   "outputs": [],
   "source": [
    "# to do write code loop\n"
   ]
  },
  {
   "cell_type": "markdown",
   "metadata": {
    "id": "QBZvjFR97KTq"
   },
   "source": [
    "### 2.1.2 Debugging\n",
    "\n",
    "So, what happens if things don't go quite as planned? Let's say you mess up and mistakenly delete the indentation in the middle of the loop. Oops! The Python interpreter would promptly toss an error your way.\n",
    "\n",
    "<img src=\"imgs/debugging.png\" alt=\"Drawing\" style=\"width: 750px;\"/>\n",
    "\n",
    "The interpreter kindly points out the type of error as an `'IndentationError'`, and spotlights the problematic line. It's usually the one after the line we shifted backwards because now there's no loop statement or anything to justify the indentation. The ^ symbol points to the exact spot of the error within that line.\n",
    "\n",
    "Although many of the error messages are quite clear and self explanatory, sometimes they might seem like they're written in a different language. That's when Python's well-established online community, like forums such as **Stack Overflow**, becomes a lifesaver. So, if you're ever stuck debugging, make your search engine your best friend, or head straight to Stack Overflow.\n",
    "\n",
    "<img src=\"imgs/googling.png\" alt=\"Drawing\" style=\"width: 500px;\"/>"
   ]
  },
  {
   "cell_type": "markdown",
   "metadata": {
    "id": "TVicaID17KTq"
   },
   "source": [
    "## 2.2 Conditional (if) statements"
   ]
  },
  {
   "cell_type": "markdown",
   "metadata": {
    "id": "XWEUKDzN7KTr"
   },
   "source": [
    "In its simplest form, an `if` statement in python looks like this:"
   ]
  },
  {
   "cell_type": "markdown",
   "metadata": {
    "id": "JzSTIFg-7KTr"
   },
   "source": [
    "```if condition:\n",
    "    statement(s)```    "
   ]
  },
  {
   "cell_type": "markdown",
   "metadata": {
    "id": "fvvPLIQ37KTr"
   },
   "source": [
    "The conditional expression must evaluate to a boolean (```True/False```)  but otherwise there are few constraints, examples include:"
   ]
  },
  {
   "cell_type": "code",
   "execution_count": 18,
   "metadata": {
    "id": "hHykAkLV7KTs"
   },
   "outputs": [
    {
     "name": "stdout",
     "output_type": "stream",
     "text": [
      "This person is overweight\n",
      "This person's name is John\n"
     ]
    }
   ],
   "source": [
    "BMI = 27\n",
    "\n",
    "if BMI > 25.0:\n",
    "    print('This person is overweight')\n",
    "\n",
    "name = 'John'\n",
    "\n",
    "if name == 'John':\n",
    "    print(\"This person's name is John\")"
   ]
  },
  {
   "cell_type": "markdown",
   "metadata": {
    "id": "Pzwq86vN7KTs"
   },
   "source": [
    "All forms of boolean expressions (described in part 1 Introduction to Types ad Operations) may be used, including use or ```is/and/or``` statements e.g."
   ]
  },
  {
   "cell_type": "code",
   "execution_count": 19,
   "metadata": {
    "id": "LULqUnsh7KTs"
   },
   "outputs": [
    {
     "name": "stdout",
     "output_type": "stream",
     "text": [
      "Run the following block of code\n"
     ]
    }
   ],
   "source": [
    "a = 10\n",
    "b = 12\n",
    "\n",
    "# Use of a chained boolean condition with an if statement\n",
    "# Remember that with `and` both statements must be true\n",
    "# Why not try changing this to an `or` statement?\n",
    "if a < 15 and b > 10:\n",
    "    print('Run the following block of code')"
   ]
  },
  {
   "cell_type": "markdown",
   "metadata": {
    "id": "DSdupiST7KTt"
   },
   "source": [
    "The `\"in\"` operator is another gem in Python's toolbox. You can use it to check if a specific item exists within an iterable object, like a list. Let's see it in action:"
   ]
  },
  {
   "cell_type": "code",
   "execution_count": 20,
   "metadata": {
    "id": "cPXei1yh7KTt"
   },
   "outputs": [
    {
     "name": "stdout",
     "output_type": "stream",
     "text": [
      "The person's name is either John or Dave.\n"
     ]
    }
   ],
   "source": [
    "name = \"John\"\n",
    "if name in [\"John\", \"Dave\"]:\n",
    "    print(\"The person's name is either John or Dave.\")"
   ]
  },
  {
   "cell_type": "markdown",
   "metadata": {
    "id": "YEZTy_d17KTt"
   },
   "source": [
    "You can weave together a series of if statements within if/else structures, building a sort of decision-making chain. This setup has a specific pattern, with `if` and `else` statements as the cornerstones, and elif (that's shorthand for `'else if'`) conditions filling in the middle. Let's sketch out this structure:\n",
    "\n",
    "```if condition:\n",
    "    statement\n",
    " elif condition:\n",
    "    statement\n",
    " else:\n",
    "    statement ```    "
   ]
  },
  {
   "cell_type": "code",
   "execution_count": 21,
   "metadata": {
    "id": "x0lTntWb7KTt"
   },
   "outputs": [
    {
     "name": "stdout",
     "output_type": "stream",
     "text": [
      "This person has normal weight\n"
     ]
    }
   ],
   "source": [
    "BMI = 20\n",
    "\n",
    "# if/elif/else statement\n",
    "if BMI <= 18.5:\n",
    "    print('This person is underweight')\n",
    "elif BMI > 18.5 and BMI <= 25.0:\n",
    "    print('This person has normal weight')\n",
    "elif BMI > 25.0 and BMI <= 30.0 :\n",
    "    print('This person is overweight')\n",
    "else:\n",
    "    print('This person is obese')\n"
   ]
  },
  {
   "cell_type": "markdown",
   "metadata": {
    "id": "sdm2IpHw7KTt"
   },
   "source": [
    "**To do** try\n",
    "- changing the BMI and exploring the response.\n",
    "- adding an ```elif``` condition\n",
    "- using an ```or``` statement"
   ]
  },
  {
   "cell_type": "markdown",
   "metadata": {
    "id": "gxbPGdNn7KTt"
   },
   "source": [
    "## 2.3 For statements"
   ]
  },
  {
   "cell_type": "markdown",
   "metadata": {
    "id": "h_fsF87v7KTt"
   },
   "source": [
    "For loops iterate over a given sequence, for example as given by a list:\n",
    "\n",
    "```for item in list:\n",
    "    statement```    "
   ]
  },
  {
   "cell_type": "code",
   "execution_count": 23,
   "metadata": {
    "id": "C-VuXhLz7KTt"
   },
   "outputs": [
    {
     "name": "stdout",
     "output_type": "stream",
     "text": [
      "10\n",
      "20\n",
      "30\n",
      "40\n",
      "50\n"
     ]
    }
   ],
   "source": [
    "mylist = [10, 20, 30, 40, 50]\n",
    "\n",
    "for item in mylist:\n",
    "    print(item)"
   ]
  },
  {
   "cell_type": "markdown",
   "metadata": {
    "id": "LqP9katm7KTt"
   },
   "source": [
    "When dealing with numeric ranges, Python has a nifty function called range ```range(start, end, increment)``` which provides an inline definition. This function allows you to define a sequence of numbers in a neat and concise way. Let's take a look at how it works:"
   ]
  },
  {
   "cell_type": "code",
   "execution_count": 24,
   "metadata": {
    "id": "zuyjagSA7KTu"
   },
   "outputs": [
    {
     "name": "stdout",
     "output_type": "stream",
     "text": [
      "0\n",
      "2\n",
      "4\n",
      "6\n",
      "8\n"
     ]
    }
   ],
   "source": [
    "# a for loop over a specified range and increment\n",
    "# try changing the range values\n",
    "for item in range(0, 10, 2):\n",
    "    print(item)"
   ]
  },
  {
   "cell_type": "markdown",
   "metadata": {
    "id": "wu4j6-AP7KTu"
   },
   "source": [
    "**To do**\n",
    "Feel free to experiment by adjusting the range, or by adding different increments, start, and end points. Python is flexible and designed for you to learn by doing!\n",
    "\n",
    "Now, let's add another twist: it's entirely possible to have for loops nestled within each other. Yes, loops within loops! Here's an example to help you visualize how this works:"
   ]
  },
  {
   "cell_type": "code",
   "execution_count": 26,
   "metadata": {
    "id": "TEx9wxkB7KTu"
   },
   "outputs": [
    {
     "name": "stdout",
     "output_type": "stream",
     "text": [
      "red car\n",
      "red dog\n",
      "red bike\n",
      "big car\n",
      "big dog\n",
      "big bike\n",
      "fast car\n",
      "fast dog\n",
      "fast bike\n"
     ]
    }
   ],
   "source": [
    "adj = [\"red\", \"big\", \"fast\"]\n",
    "fruits = [\"car\", \"dog\", \"bike\"]\n",
    "\n",
    "# for every item in the outer loop (indexing over list adj)\n",
    "for x in adj:\n",
    "    # loop over the fruits list\n",
    "    for y in fruits:\n",
    "        print(x, y)"
   ]
  },
  {
   "cell_type": "markdown",
   "metadata": {
    "id": "nGBtps-m7KTu"
   },
   "source": [
    "Sometimes, you may find yourself in a situation where you need to use both the list item and its corresponding index while looping. Don't worry, Python has got you covered with the enumerate function. Let's see how we can put this handy tool to use:\n",
    "\n",
    "```for index item in enumerate(list):\n",
    "    statement```    "
   ]
  },
  {
   "cell_type": "code",
   "execution_count": 27,
   "metadata": {
    "id": "6Vmw5rY27KTu"
   },
   "outputs": [
    {
     "name": "stdout",
     "output_type": "stream",
     "text": [
      "0 one\n",
      "1 two\n",
      "2 three\n",
      "3 four\n",
      "4 five\n"
     ]
    }
   ],
   "source": [
    "mylist = ['one', 'two', 'three', 'four', 'five']\n",
    "\n",
    "for index, item in enumerate(mylist):\n",
    "    print(index, item)"
   ]
  },
  {
   "cell_type": "markdown",
   "metadata": {
    "id": "tYLD2uWS7KTu"
   },
   "source": [
    "## 2.4 While statements"
   ]
  },
  {
   "cell_type": "markdown",
   "metadata": {
    "id": "93TkbQ687KTu"
   },
   "source": [
    "While loops are similar to if statements in that they evaluate a condition:\n",
    "\n",
    "```while condition:\n",
    "    statement```    \n",
    "    \n",
    "However for a while statement the loop will condition going until the condition is met. Therefore, it is important to update the loop variable else it will carry on indefinitely."
   ]
  },
  {
   "cell_type": "code",
   "execution_count": 29,
   "metadata": {
    "id": "Xi0y-o9t7KTu"
   },
   "outputs": [
    {
     "name": "stdout",
     "output_type": "stream",
     "text": [
      "0\n",
      "1\n",
      "2\n",
      "3\n",
      "4\n",
      "Now count is: 5\n"
     ]
    }
   ],
   "source": [
    "# we initialise variable count and loop over using a while statement\n",
    "count = 0\n",
    "while count < 5:\n",
    "    print(count)\n",
    "    # Here count is updated each time\n",
    "    # This is the same as count = count + 1\n",
    "    count += 1\n",
    "\n",
    "print('Now count is:', count)"
   ]
  },
  {
   "cell_type": "markdown",
   "metadata": {
    "id": "c2FUQiOO7KTu"
   },
   "source": [
    "## 2.5 Break and continue statements"
   ]
  },
  {
   "cell_type": "markdown",
   "metadata": {
    "id": "cFJgIlS97KTv"
   },
   "source": [
    "At times, you might find yourself in a situation where you need to either break free from a loop entirely or skip over certain parts of it. Don't worry, Python's got your back with two very useful statements: 1) `break` and 2) `continue`. Let's see how these work:\n",
    "\n",
    "```if condition:\n",
    "     break ```    \n",
    "\n",
    "```if condition:\n",
    "     continue ```\n",
    "     \n",
    "Here, break will cause a loop to terminate if a certain condition is met."
   ]
  },
  {
   "cell_type": "code",
   "execution_count": 34,
   "metadata": {
    "id": "xsJTRDhs7KTv"
   },
   "outputs": [
    {
     "name": "stdout",
     "output_type": "stream",
     "text": [
      "Alice\n",
      "Fred\n",
      "Bob\n",
      "John\n",
      "Loop has stopped at index 3 for name John\n"
     ]
    }
   ],
   "source": [
    "# example of a break statement\n",
    "\n",
    "mylist = ['Alice', 'Fred', 'Bob', 'John', 'Steve']\n",
    "\n",
    "for index, item in enumerate(mylist):\n",
    "    print(item)\n",
    "    if item == 'John':\n",
    "        break\n",
    "\n",
    "print('Loop has stopped at index', index, 'for name', item )\n"
   ]
  },
  {
   "cell_type": "markdown",
   "metadata": {
    "id": "zr5HqoJP7KTv"
   },
   "source": [
    "On the other hand, the `continue` statement acts like a \"skip\" button. When your loop comes across a condition that matches the continue statement, Python will skip over that iteration and jump straight to the next one. It's a handy way to navigate through your loop:"
   ]
  },
  {
   "cell_type": "code",
   "execution_count": 35,
   "metadata": {
    "id": "NHPzF4ec7KTv"
   },
   "outputs": [
    {
     "name": "stdout",
     "output_type": "stream",
     "text": [
      "Alice\n",
      "Fred\n",
      "Bob\n",
      "Steve\n"
     ]
    }
   ],
   "source": [
    "# example of use of continue\n",
    "\n",
    "for index, item in enumerate(mylist):\n",
    "    if item == 'John': # this will cause the loop to skip over entry for 'John'\n",
    "        continue\n",
    "    print(item)"
   ]
  },
  {
   "cell_type": "markdown",
   "metadata": {
    "id": "H6DRVvjf7KTv"
   },
   "source": [
    "## 2.6 Looping over Dictionaries"
   ]
  },
  {
   "cell_type": "markdown",
   "metadata": {
    "id": "KF6lJsl87KTv"
   },
   "source": [
    "So what do we do when we don't have a sequential data object but instead have a dictionary? When we're working with dictionaries, which are unordered collections, it's not possible to loop through them by index like we would with a list or tuple. But don't worry, Python has a clever way around this! Here's how we do it:"
   ]
  },
  {
   "cell_type": "code",
   "execution_count": 51,
   "metadata": {
    "id": "XivXEFwn7KTv"
   },
   "outputs": [],
   "source": [
    "mydict = {}\n",
    "mydict['name'] = 'Dave'\n",
    "mydict['age'] = 23\n",
    "mydict['job'] = 'Lecturer'\n",
    "mydict['height'] = 190\n",
    "mydict['BMI'] = 25"
   ]
  },
  {
   "cell_type": "markdown",
   "metadata": {
    "id": "Gfm_RAgN7KTv"
   },
   "source": [
    "Even though dictionaries are unordered, the Python dictionary class comes equipped with iterators like `keys()` and `items()`. These functions give us a nice and organized way to loop through our dictionaries. Let's see how to use them:"
   ]
  },
  {
   "cell_type": "code",
   "execution_count": 52,
   "metadata": {
    "id": "6cKJoKwR7KTv"
   },
   "outputs": [
    {
     "name": "stdout",
     "output_type": "stream",
     "text": [
      "The person's height is: 190\n",
      "The person's height is: 190\n"
     ]
    }
   ],
   "source": [
    "# looping over a dictionaray keys iterator\n",
    "for k in mydict.keys():\n",
    "    if k == 'height':\n",
    "        print(\"The person's height is:\", mydict[k])\n",
    "        break\n",
    "print(\"The person's height is:\", mydict['height']) # Same result as doing this"
   ]
  },
  {
   "cell_type": "markdown",
   "metadata": {
    "id": "6QZ72pgw7KTw"
   },
   "source": [
    "This approach will smoothly loop through all the keys in the dictionary, performing some actions on them. For instance, in the above example, it simply prints out the value associated with the 'height' key.\n",
    "\n",
    "And here's a handy little tip for you - iterating over keys in a dictionary is such a frequent operation that Python offers a convenient shorthand. You can simply leave out the `keys()` method and it will understand what you mean. Quite intuitive, isn't it? Let's check it out:"
   ]
  },
  {
   "cell_type": "code",
   "execution_count": 53,
   "metadata": {
    "id": "AizDVJah7KT1"
   },
   "outputs": [
    {
     "name": "stdout",
     "output_type": "stream",
     "text": [
      "name Dave\n",
      "age 23\n",
      "job Lecturer\n",
      "height 190\n",
      "BMI 25\n"
     ]
    }
   ],
   "source": [
    "for k in mydict:\n",
    "    print(k, mydict[k])"
   ]
  },
  {
   "cell_type": "markdown",
   "metadata": {
    "id": "KCuaWYJ-7KT1"
   },
   "source": [
    "With the `items()` method, you can access both the key and its corresponding value at the same time. Let's take a look at how this works:"
   ]
  },
  {
   "cell_type": "code",
   "execution_count": 54,
   "metadata": {
    "id": "e2JgrDUY7KT1"
   },
   "outputs": [
    {
     "name": "stdout",
     "output_type": "stream",
     "text": [
      "name Dave\n",
      "age 23\n",
      "job Lecturer\n",
      "height 190\n",
      "BMI 25\n"
     ]
    }
   ],
   "source": [
    "for k, v in mydict.items():\n",
    "    print(k ,v)"
   ]
  },
  {
   "cell_type": "markdown",
   "metadata": {
    "id": "0uylRUtg7KT1"
   },
   "source": [
    "## 2.7 List Comprehensions\n",
    "\n",
    "Let's discuss an efficient feature of Python known as list comprehensions. This technique allows us to compress a for loop, with a single if statement and an output expression, into one brief and efficient line of code, all within square brackets. It provides a compact way to create lists. For example, consider this for loop:"
   ]
  },
  {
   "cell_type": "code",
   "execution_count": 58,
   "metadata": {
    "id": "B2BqSaMg7KT1"
   },
   "outputs": [
    {
     "name": "stdout",
     "output_type": "stream",
     "text": [
      "['hello 0', 'hello 2', 'hello 4']\n"
     ]
    }
   ],
   "source": [
    "a = []\n",
    "\n",
    "for i in range(5):\n",
    "    if i%2 == 0: # i is even\n",
    "        a.append('hello {}'.format(i))\n",
    "\n",
    "print(a)"
   ]
  },
  {
   "cell_type": "markdown",
   "metadata": {
    "id": "E4IvQJ5a7KT2"
   },
   "source": [
    "For instance, consider the list above that generates numbers in the range of 0 to 4 if they are evenly divisible by 2 (and concatenates to the hello string).\n",
    "\n",
    "List comprehensions are a neat trick to create lists without the verbosity of loops. It's like a one-line recipe: you start with the output expression, followed by the loop, and then the if condition. It's simple, clean, and efficient. Here's how to accomplish the same thing as the for loop with list comprehension:\n",
    "\n",
    "**Note**\n",
    "When I refer to the \"verbosity of loops\", I'm talking about how traditional for and while loops can sometimes make our code longer and a bit more complex. List comprehensions, on the other hand, offer a concise alternative to create lists without writing out the full loop structure. It's an option to simplify your code and (sometimes) make it easier to read."
   ]
  },
  {
   "cell_type": "code",
   "execution_count": 60,
   "metadata": {
    "id": "TERd-U037KT2"
   },
   "outputs": [
    {
     "name": "stdout",
     "output_type": "stream",
     "text": [
      "['hello 0', 'hello 2', 'hello 4']\n",
      "['hello 0', 'hello 1', 'hello 2', 'hello 3', 'hello 4']\n"
     ]
    }
   ],
   "source": [
    "b = ['hello {}'.format(i) for i in range(5) if i%2 == 0]\n",
    "print(b)"
   ]
  },
  {
   "cell_type": "markdown",
   "metadata": {
    "id": "GzRJ6b6d7KT2"
   },
   "source": [
    "**Note** The if statement is optional ingredient in list comprehensions. So, you can indeed create list comprehensions with just **for loops**. This simplifies the structure even further."
   ]
  },
  {
   "cell_type": "code",
   "execution_count": 61,
   "metadata": {},
   "outputs": [
    {
     "name": "stdout",
     "output_type": "stream",
     "text": [
      "['hello 0', 'hello 1', 'hello 2', 'hello 3', 'hello 4']\n"
     ]
    }
   ],
   "source": [
    "b = ['hello {}'.format(i) for i in range(5)]\n",
    "print(b)"
   ]
  },
  {
   "cell_type": "markdown",
   "metadata": {
    "id": "kIqNtC_r7KT2"
   },
   "source": [
    "## 2.8 Functions"
   ]
  },
  {
   "cell_type": "markdown",
   "metadata": {
    "id": "L3PnSvr87KT2"
   },
   "source": [
    "Functions are an incredibly useful tool that allow us to neatly bundle up chunks of code that we plan to use repeatedly in a program (or even across multiple programs).\n",
    "\n",
    "In Python, we use the `def` statement to create a function. The general layout looks something like this:\n",
    "\n",
    "```def myfunction(arg1, arg2, arg3):\n",
    "    # body of function code\n",
    "    return returnval1, returnval2```    \n",
    "\n",
    "Do you see the colon at the end of the function header? That's important, as is the indentation within the body of the function. And while it's optional, the function can return output arguments, like returnval1 and returnval2. If the function is quite simple, we can even return the output in a single line, like this:"
   ]
  },
  {
   "cell_type": "code",
   "execution_count": 62,
   "metadata": {
    "id": "B_XsY6FC7KT2"
   },
   "outputs": [
    {
     "name": "stdout",
     "output_type": "stream",
     "text": [
      "sum of 5 and 10 is 15\n"
     ]
    }
   ],
   "source": [
    "# define function\n",
    "def sum(x, y):\n",
    "    return x + y # here as the function is simple it can be returned in one line\n",
    "\n",
    "# apply function\n",
    "a=5\n",
    "b=10\n",
    "print('sum of {} and {} is {}'.format(a, b, sum(a,b)))"
   ]
  },
  {
   "cell_type": "markdown",
   "metadata": {
    "id": "i9N4q0HK7KT2"
   },
   "source": [
    "Python provides us the flexibility to include optional input arguments in our functions, and we can even assign them default values. Take z in the following example. If you don't provide a value for z when calling the function, Python will use the default value instead. This is really handy when you want your function to have certain parameters that don't need to be specified every single time. Here's an example:"
   ]
  },
  {
   "cell_type": "code",
   "execution_count": 65,
   "metadata": {
    "id": "2nFYyNYd7KT2"
   },
   "outputs": [
    {
     "name": "stdout",
     "output_type": "stream",
     "text": [
      "sum of 5 and 10 is 15\n",
      "sum of 5, 10 and 20 is 35\n"
     ]
    }
   ],
   "source": [
    "# this function can thus return a sum of 2 or 3 arguments\n",
    "def sum2(x, y, z=0):\n",
    "    return x + y + z\n",
    "\n",
    "# apply function\n",
    "a=5\n",
    "b=10\n",
    "c=20\n",
    "print('sum of {} and {} is {}'.format(a, b, sum2(a,b)))\n",
    "print('sum of {}, {} and {} is {}'.format(a, b, c, sum2(a, b, c)))"
   ]
  },
  {
   "cell_type": "markdown",
   "metadata": {
    "id": "7c4CRZAE7KT2"
   },
   "source": [
    "In Python, you can also choose to specify exactly which optional arguments you want to provide values for by using keywords. These keywords correspond to the specific argument names defined in the function. This way, you can skip optional arguments you don't need and only provide the ones you want to use. It's like ordering a custom pizza - you only add the toppings you like! Here's how it works:"
   ]
  },
  {
   "cell_type": "code",
   "execution_count": 66,
   "metadata": {
    "id": "cGgx8qOl7KT2",
    "scrolled": true
   },
   "outputs": [
    {
     "name": "stdout",
     "output_type": "stream",
     "text": [
      "8\n",
      "17\n",
      "37\n"
     ]
    }
   ],
   "source": [
    "# define function\n",
    "def sumsub(x, y, z1=0, z2=0):\n",
    "    return x - y + z1 - z2\n",
    "\n",
    "# apply function\n",
    "a=5\n",
    "b=10\n",
    "c=20\n",
    "d=30\n",
    "print(sumsub(12, 4))\n",
    "print(sumsub(42, 15, z2=10)) # example of referencing a specific optional input argument in function call\n",
    "print(sumsub(42, 15, z1=20, z2=10)) # example referencing both optional input argument in function call"
   ]
  },
  {
   "cell_type": "markdown",
   "metadata": {
    "id": "SShVBjsC7KT3"
   },
   "source": [
    "In all cases the function can take 0 or more input arguments and return 0 or more output arguments. In some cases it is not possible to pre-define the number of arguments. In these cases and arbitrary number of input arguments can be defined using an asterisk:\n",
    "\n",
    "\n",
    "In Python, functions are super adaptable and can work with different numbers of inputs and outputs. They can take zero or more input arguments and return zero or more output arguments, based on your needs. Sometimes, you might not know in advance how many arguments you'll need. Python has you covered there too! You can specify an arbitrary number of input arguments by using an asterisk (*) before the argument name, like so:"
   ]
  },
  {
   "cell_type": "code",
   "execution_count": 68,
   "metadata": {
    "id": "rmhq3VeY7KT3"
   },
   "outputs": [
    {
     "name": "stdout",
     "output_type": "stream",
     "text": [
      "The sum of values is 15\n",
      "The sum of values is 15\n"
     ]
    }
   ],
   "source": [
    "def arbitary_sum(*x):\n",
    "    mysum = 0\n",
    "    for val in x:\n",
    "        mysum += val\n",
    "    return mysum\n",
    "\n",
    "print('The sum of values is', arbitary_sum(1, 2, 3, 4, 5))\n",
    "\n",
    "# Or pass a list, with the same result\n",
    "mylist = [1, 2, 3, 4, 5]\n",
    "print('The sum of values is', arbitary_sum(*mylist))"
   ]
  },
  {
   "cell_type": "markdown",
   "metadata": {
    "id": "j6cSC6Dt7KT3"
   },
   "source": [
    "### 2.8.1  Doc strings"
   ]
  },
  {
   "cell_type": "markdown",
   "metadata": {
    "id": "MLCiebmo7KT3"
   },
   "source": [
    "When we're writing code that includes functions, it's a fantastic habit to include a 'docstring' that explains what the function does. Docstrings are basically comments that serve as documentation for your function, explaining what the function does, what inputs it takes, what outputs it gives, and any other relevant information.\n",
    "\n",
    "To add a docstring, you simply write it as a multi-line string (using triple quotes \"\"\" or ''') immediately after the function definition. It's like leaving a helpful note for others (and for your future self) that explains what's happening inside the function. Here's how you can do that:"
   ]
  },
  {
   "cell_type": "code",
   "execution_count": 70,
   "metadata": {
    "id": "X4aT_YAd7KT3"
   },
   "outputs": [],
   "source": [
    "def arbitary_sum(*x):\n",
    "    \"\"\" This function adds and arbitrary number of input arguments\n",
    "\n",
    "    Args:\n",
    "        *x: 0 or more input arguments containing numbers to be summed.\n",
    "\n",
    "    Returns:\n",
    "        mysum: Result of adding all input arguments.\n",
    "    \"\"\"\n",
    "    mysum = 0\n",
    "    for val in x:\n",
    "        mysum += val\n",
    "    return mysum"
   ]
  },
  {
   "cell_type": "markdown",
   "metadata": {
    "id": "DmoVIXaC7KT3"
   },
   "source": [
    "This declares what the function is for, what its input and output arguments are – and what data types they expect/return.\n",
    "\n",
    "Providing a docstring in your functions is almost like leaving a manual for those who will read or use your code in the future, including yourself. It should explain what the function does, what input arguments it expects, and what it returns. Moreover, the docstring should mention the data types for these inputs and outputs. It's all about making your code as clear and accessible as possible. So, not only does the function do the job, it also communicates its purpose and usage effectively!"
   ]
  },
  {
   "cell_type": "markdown",
   "metadata": {
    "id": "8xVmcBEQ7KT3"
   },
   "source": [
    "### 2.8.2  Passing by object"
   ]
  },
  {
   "cell_type": "markdown",
   "metadata": {
    "id": "uNEDuvzn7KT3"
   },
   "source": [
    "In languages like C++, you might have encountered the terms _**pass by value**_ or _**pass by reference**_ when talking about how function arguments are handled. To quickly recap, pass by value means that the variable is copied and stored in a new memory location when passed to a function. So, if its value changes within the function, the original variable stays the same. Pass by reference, on the other hand, means that the function gets the memory address of the variable. So, if the function changes its value, the original variable changes too.\n",
    "\n",
    "Python, however, marches to the beat of its own drum and uses a method called _**pass by object reference**_. Here, the behavior of your variable within the function depends on whether it's mutable (able to change) or immutable (unable to change).\n",
    "\n",
    "With immutable types like ints, floats, tuples, and strings, the objects can't be changed, whether inside or outside the function. In essence, they behave like they're passed _by value_.\n",
    "\n",
    "But for mutable types like lists and dictionaries, it's a different ballgame. The original values (in your main code) can and will change if the variable is changed in place within the function. That's something to keep in mind when working with functions and mutable types in Python!\n",
    "\n",
    "**Important**: If objects are mutable (lists, dictionaries) then **the original values (in the main code body) can and will be changed if the variable is changed _in place_**."
   ]
  },
  {
   "cell_type": "code",
   "execution_count": 83,
   "metadata": {
    "id": "CESLJ1eC7KT3"
   },
   "outputs": [
    {
     "name": "stdout",
     "output_type": "stream",
     "text": [
      "The input argument is:  ['A', 'B', 'C']\n",
      "After concatenation the list is: ['A', 'B', 'C', 'D', 'E']\n",
      "The original list is now: ['A', 'B', 'C', 'D', 'E']\n"
     ]
    }
   ],
   "source": [
    "def passing_by_object(alist):\n",
    "    print('The input argument is: ', alist)\n",
    "    alist += ['D', 'E'] # The original list is changed in place using the += operator\n",
    "    print('After concatenation the list is:', alist)\n",
    "\n",
    "mylist = ['A', 'B', 'C']\n",
    "passing_by_object(mylist)\n",
    "print('The original list is now:', mylist) # Thus the original list is changed"
   ]
  },
  {
   "cell_type": "markdown",
   "metadata": {
    "id": "gThRaG007KT4"
   },
   "source": [
    "\n",
    "It's important to know that when you're dealing with containers like dictionaries or lists in Python, changes made to their contents, also known as 'mutating', will indeed affect the original objects they point to.\n",
    "\n",
    "But here's a key point to remember: even if you assign the arguments to a new variable within the function (even one with the same name), the original object can still be modified. Let's take a look at this example:"
   ]
  },
  {
   "cell_type": "code",
   "execution_count": 91,
   "metadata": {
    "id": "jqMjlnfI7KT4"
   },
   "outputs": [
    {
     "name": "stdout",
     "output_type": "stream",
     "text": [
      "The input argument is:  ['A', 'B', 'C']\n",
      "After concatenation the list is: ['A', 'B', 'C', 'D', 'E']\n",
      "The original list is now: ['A', 'B', 'C', 'D', 'E']\n"
     ]
    }
   ],
   "source": [
    "def passing_by_object(alist):\n",
    "    print('The input argument is: ', alist)\n",
    "    blist = alist\n",
    "    blist += ['D', 'E']\n",
    "    print('After concatenation the list is:', blist)\n",
    "\n",
    "mylist = ['A', 'B', 'C']\n",
    "passing_by_object(mylist)\n",
    "print('The original list is now:', mylist) # Thus the original list is changed"
   ]
  },
  {
   "cell_type": "markdown",
   "metadata": {
    "id": "UEudCV2j7KT4"
   },
   "source": [
    "Sometimes you might want to keep a copy of the original object while still having the freedom to change or play around with the object. This is particularly useful during debugging. Good news is, Python has a way to do that! You can make a duplicate of the original object using the `copy` module (we'll discuss modules in the next notebook). This way, you can modify the copied object all you want without worrying about affecting the original one. It's like having your cake and eating it too!"
   ]
  },
  {
   "cell_type": "code",
   "execution_count": 93,
   "metadata": {
    "id": "50lWVYX57KT4"
   },
   "outputs": [
    {
     "name": "stdout",
     "output_type": "stream",
     "text": [
      "The input argument is:  ['A', 'B', 'C']\n",
      "After concatenation the list is: ['A', 'B', 'C', 'D', 'E']\n",
      "My original list is: ['A', 'B', 'C']\n",
      "My copy list is: ['A', 'B', 'C', 'D', 'E']\n"
     ]
    }
   ],
   "source": [
    "import copy\n",
    "\n",
    "mylist = ['A', 'B', 'C']\n",
    "\n",
    "# deepcopy will make a complete copy of the object mylist\n",
    "# even if the list itself contains lists as items, and so on,\n",
    "# such that my_list_copy will not be changed if my_list is changed\n",
    "mylist_copy = copy.deepcopy(mylist)\n",
    "\n",
    "passing_by_object(mylist_copy)\n",
    "print('My original list is:', mylist) # The original list does not change\n",
    "print('My copy list is:', mylist_copy) # But the copy does change"
   ]
  },
  {
   "cell_type": "markdown",
   "metadata": {
    "id": "VXU01ZCH7KT4"
   },
   "source": [
    "We'll dive deeper into the topic of modules in our next notebook. If you're itching to learn more about how Python handles copying and passing arguments, you can check out this in-depth article: [Python 3: Passing Arguments](https://python-course.eu/python-tutorial/passing-arguments.php). It offers a comprehensive look into Python's behaviors and gives you a stronger grasp on the language. Happy reading!"
   ]
  },
  {
   "cell_type": "markdown",
   "metadata": {
    "id": "OAZUeYrQ7KT4"
   },
   "source": [
    "# Exercise 3 - Loops and functions"
   ]
  },
  {
   "cell_type": "markdown",
   "metadata": {
    "collapsed": true,
    "id": "aDZF135P7KT4"
   },
   "source": [
    "Exercise 3.1 Write a loop that prints out all numbers in the range 0 to 1000 that are divisible by 3 and 5"
   ]
  },
  {
   "cell_type": "code",
   "execution_count": null,
   "metadata": {
    "id": "QrPyR2fv7KT4"
   },
   "outputs": [],
   "source": [
    "# Add code here\n"
   ]
  },
  {
   "cell_type": "markdown",
   "metadata": {
    "id": "2kppI_-J7KT5"
   },
   "source": [
    "Exercise 3.2 Write a function to multiply all numbers in a list"
   ]
  },
  {
   "cell_type": "code",
   "execution_count": null,
   "metadata": {
    "id": "2cqSMPAn7KT5"
   },
   "outputs": [],
   "source": [
    "# Define the function\n",
    "\n",
    "\n",
    "# Define the list\n",
    "numbers = [2, 4, 6, 8, 10]\n",
    "\n",
    "# Call the function\n"
   ]
  },
  {
   "cell_type": "markdown",
   "metadata": {
    "id": "DjoiHTx_7KT5"
   },
   "source": [
    "Exercise 3.3 Write a Python function that checks whether a number (e.g. 71) is prime or not."
   ]
  },
  {
   "cell_type": "code",
   "execution_count": null,
   "metadata": {
    "id": "DHXhQKH37KT5"
   },
   "outputs": [],
   "source": [
    "# Add code here\n"
   ]
  }
 ],
 "metadata": {
  "colab": {
   "provenance": []
  },
  "kernelspec": {
   "display_name": "Python 3 (ipykernel)",
   "language": "python",
   "name": "python3"
  },
  "language_info": {
   "codemirror_mode": {
    "name": "ipython",
    "version": 3
   },
   "file_extension": ".py",
   "mimetype": "text/x-python",
   "name": "python",
   "nbconvert_exporter": "python",
   "pygments_lexer": "ipython3",
   "version": "3.11.4"
  }
 },
 "nbformat": 4,
 "nbformat_minor": 1
}
