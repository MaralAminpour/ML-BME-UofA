{
 "cells": [
  {
   "cell_type": "markdown",
   "metadata": {
    "id": "c6X5Udy5RsaO"
   },
   "source": [
    "# 3. Modules, Packages and Classes"
   ]
  },
  {
   "cell_type": "markdown",
   "metadata": {
    "id": "75DTANLYRsaQ"
   },
   "source": [
    "As we've been interacting with Python so far, all the functions we define are only available within the specific environment we're currently working in. This applies whether we're in a notebook, a script, or an IDE.\n",
    "\n",
    "So, if we're going to start writing more complex programs, it's crucial that we understand how to properly organize and structure our code across multiple files. These files should be easily accessible to our main program. Thankfully, Python offers a way to put definitions in a file and then use them in a script or an interactive instance. Such a file is known as a _Module_. Collections of related modules are then grouped together to form _Packages_.\n",
    "\n",
    "One of the great things about Python is its open-source nature and large community of users across both academia and industry. This means there are a wealth of well-documented, advanced packages available for machine learning, statistics, and much more.\n",
    "\n",
    "In this notebook, we'll explore how to create modules and call them from scripts. We'll touch upon some useful modules from the Python standard library and introduce you to the Python packages that we'll use throughout this course. And to top it all off, we'll conclude with an introduction to **Object Oriented programming** in Python"
   ]
  },
  {
   "cell_type": "markdown",
   "metadata": {
    "id": "k0dckvlMRsaQ"
   },
   "source": [
    "## 3.1 Python .py files"
   ]
  },
  {
   "cell_type": "markdown",
   "metadata": {
    "id": "OK35x30_RsaQ"
   },
   "source": [
    "Just like MATLAB scripts, Python (.py) files are highly versatile. You can use them in a variety of ways to structure and streamline your code. For example, you can use Python files to encapsulate modules and classes, making it easy to reuse your code in different projects.\n",
    "\n",
    "Alternatively, Python scripts can also serve as the backbone of your data processing workflow. They can import external modules, read in data, and process that data through the application of inline code and functions.\n",
    "\n",
    "So whether you're creating a standalone script for a specific task, or building a modular codebase for a larger project, Python scripts provide the structure and flexibility to meet your needs."
   ]
  },
  {
   "cell_type": "markdown",
   "metadata": {
    "id": "4zjErjVQRsaR"
   },
   "source": [
    "Let's look at examples of importing a module."
   ]
  },
  {
   "cell_type": "code",
   "execution_count": 9,
   "metadata": {
    "id": "4CKTzfPLRsaR",
    "scrolled": true
   },
   "outputs": [
    {
     "name": "stdout",
     "output_type": "stream",
     "text": [
      "Square root of 2 = 1.4142135623730951\n",
      "Square root of 2 = 1.4142135623730951\n",
      "Square root of 2 = 1.4142135623730951\n",
      "Square root of 2 = 1.4142135623730951\n"
     ]
    }
   ],
   "source": [
    "import math # Import an entire module\n",
    "# We can now reference names defined by the module using the module.name syntax\n",
    "print('Square root of 2 =', math.sqrt(2)) \n",
    "\n",
    "import math as m # Import a module using an alias\n",
    "print('Square root of 2 =', m.sqrt(2))\n",
    "\n",
    "from math import sqrt as squareroot # Import one name from the module using an alias\n",
    "print('Square root of 2 =', squareroot(2))\n",
    "\n",
    "from math import * # Import all names from the module\n",
    "print('Square root of 2 =', sqrt(2))"
   ]
  },
  {
   "cell_type": "markdown",
   "metadata": {
    "id": "4SV51tBaRsaR"
   },
   "source": [
    "Keep in mind though, it can get a bit tricky if different modules have functions with the same names. **We wouldn't want any mix-ups!** So the best practice is usually to avoid `import` ... `*`."
   ]
  },
  {
   "cell_type": "markdown",
   "metadata": {
    "id": "DGhEAXDURsaR"
   },
   "source": [
    "## 3.3 Standard Modules"
   ]
  },
  {
   "cell_type": "markdown",
   "metadata": {
    "id": "3Ilh6wzHRsaR"
   },
   "source": [
    "There are some modules that come pre-packaged with Python, meaning you don't have to install anything extra. They're like little gifts waiting to be unwrapped! A fantastic example of this is the `os` module.\n",
    "\n",
    "The os module is like a handy toolbox filled with useful functions to **interact with your operating system**.\n",
    "\n",
    "Need to change the current working directory? os has got you covered with `os.chdir()`.\n",
    "\n",
    "Want to get the list of files in a directory? Just call `os.listdir()`. And there's so much more it can do!\n",
    "\n",
    "Remember, to start using these functions, you just have to import the module like this: `import os`.\n",
    "Some modules come packaged with Python as standard. Useful examples include, ```os```:"
   ]
  },
  {
   "cell_type": "code",
   "execution_count": 11,
   "metadata": {
    "id": "DSRERIzLRsaR"
   },
   "outputs": [
    {
     "name": "stdout",
     "output_type": "stream",
     "text": [
      "My file path is: /some/path/to/directory/myfile.txt\n",
      "My file path exists: False\n"
     ]
    }
   ],
   "source": [
    "import os\n",
    "\n",
    "dirname = '/some/path/to/directory'\n",
    "filename = 'myfile.txt'\n",
    "\n",
    "print('My file path is:', os.path.join(dirname, filename)) # intelligent concatenation of path components\n",
    "print('My file path exists:', os.path.exists(os.path.join(dirname, filename))) # checks whether file exists\n"
   ]
  },
  {
   "cell_type": "markdown",
   "metadata": {
    "id": "OUHt3qH0RsaR"
   },
   "source": [
    "**The `os` module is a real powerhouse when it comes to dealing with filenames and paths.** There's a wealth of operations you can perform with it. If you're looking for more detailed examples, definitely check out these Python documentation links: https://docs.python.org/3/library/os.path.html#module-os.path and https://docs.python.org/3/library/os.html#module-os.\n",
    "\n",
    "Now, let's talk about the `sys` module. This little gem allows you to interact with parts of your Python environment in really helpful ways. For example, you can add or remove paths from your Python search path, which is super handy when you want to add locations of new modules to your path.\n",
    "\n",
    "And just like that, Python knows to look in this new location when importing modules. For more info about sys, do visit the Python docs: https://docs.python.org/3/library/sys.html#module-sys."
   ]
  },
  {
   "cell_type": "code",
   "execution_count": 12,
   "metadata": {
    "id": "6p4aGxCdRsaR",
    "scrolled": true
   },
   "outputs": [
    {
     "name": "stdout",
     "output_type": "stream",
     "text": [
      "system path: ['/Users/philip/Desktop/ML-BME-UofA/Week-1-Python-programming', '/opt/local/Library/Frameworks/Python.framework/Versions/3.11/lib/python311.zip', '/opt/local/Library/Frameworks/Python.framework/Versions/3.11/lib/python3.11', '/opt/local/Library/Frameworks/Python.framework/Versions/3.11/lib/python3.11/lib-dynload', '', '/opt/local/Library/Frameworks/Python.framework/Versions/3.11/lib/python3.11/site-packages']\n",
      "after append system path: ['/Users/philip/Desktop/ML-BME-UofA/Week-1-Python-programming', '/opt/local/Library/Frameworks/Python.framework/Versions/3.11/lib/python311.zip', '/opt/local/Library/Frameworks/Python.framework/Versions/3.11/lib/python3.11', '/opt/local/Library/Frameworks/Python.framework/Versions/3.11/lib/python3.11/lib-dynload', '', '/opt/local/Library/Frameworks/Python.framework/Versions/3.11/lib/python3.11/site-packages', '/some/path/']\n"
     ]
    }
   ],
   "source": [
    "import sys\n",
    "\n",
    "print('system path:', sys.path)\n",
    "\n",
    "# add path to your system\n",
    "sys.path.append('/some/path/')\n",
    "print('after append system path:', sys.path)\n",
    "\n",
    "#remove path from your system\n",
    "sys.path.remove('/some/path/')"
   ]
  },
  {
   "cell_type": "markdown",
   "metadata": {
    "id": "al1vJHnoRsaR"
   },
   "source": [
    "The `random` module is Python's very own random number magician. Want a number randomly selected from a range? Or a random element from a list? Perhaps a random shuffle of elements? The `random` module can do all of this and more!"
   ]
  },
  {
   "cell_type": "code",
   "execution_count": 15,
   "metadata": {
    "id": "yBHMtqO8RsaR"
   },
   "outputs": [
    {
     "name": "stdout",
     "output_type": "stream",
     "text": [
      "my random integer is: 9\n",
      "my random float (between 0 and 1) is: 0.14630817298193188\n",
      "my random float (between 0 and 25) is: 22.105362404387947\n"
     ]
    }
   ],
   "source": [
    "import random\n",
    "\n",
    "mult = 25\n",
    "\n",
    "rand_int = random.randint(1, 10) # random int in defined range\n",
    "rand_float = random.random() # random float between 0 and 1\n",
    "rand_float_gen = random.random()*mult # random float between 0 and 25\n",
    "\n",
    "print('my random integer is:', rand_int)\n",
    "print('my random float (between 0 and 1) is:', rand_float)\n",
    "print('my random float (between 0 and {}) is: {}'.format(mult, rand_float_gen))"
   ]
  },
  {
   "cell_type": "markdown",
   "metadata": {
    "id": "9SJ36zxHRsaR"
   },
   "source": [
    "```math``` is Python's standard math module: The math module is Python's built-in mathematical toolkit. It offers a host of mathematical functions, constants, and capabilities right at your fingertips.\n",
    "\n",
    "The `math` module can be a real life-saver when you're dealing with complex mathematical computations. Don't hesitate to explore all the functions it has to offer.\n",
    "\n",
    "_However, we'll be using numpy instead for this course for most math-related functions._"
   ]
  },
  {
   "cell_type": "code",
   "execution_count": 20,
   "metadata": {
    "id": "MQUCwt3QRsaS"
   },
   "outputs": [
    {
     "name": "stdout",
     "output_type": "stream",
     "text": [
      "ceil (round up) of 2.2 is 3\n",
      "2.2 to the power 4 is 23.43\n",
      "The natural log of 2.2 is 0.79\n"
     ]
    }
   ],
   "source": [
    "import math\n",
    "\n",
    "x = 2.2\n",
    "y = 4\n",
    "\n",
    "print('ceil (round up) of {} is {}'. format(x, math.ceil(x)))\n",
    "print('{} to the power {} is {:.2f}'.format(x, y, math.pow(x,y)))\n",
    "print('The natural log of {} is {:.2f}'.format(x, math.log(x)))"
   ]
  },
  {
   "cell_type": "markdown",
   "metadata": {
    "id": "hTlwkhocRsaS"
   },
   "source": [
    "For a deep dive into Python's math module and all its features, the official Python documentation is your go-to guide. Just follow this link: https://docs.python.org/3/library/math.html#module-math.\n",
    "\n",
    "And, let's not forget about the `copy` module that we talked about in the previous notebook. It's a lifesaver when you need to create duplicates, or \"hard copies\", of objects in memory. This comes in really handy when you want to work with a copy of an object, but you don't want any changes to affect the original. For more information about the `copy` module, you can refer to this link: https://docs.python.org/3/library/copy.html."
   ]
  },
  {
   "cell_type": "code",
   "execution_count": 22,
   "metadata": {
    "id": "tHvMYHJCRsaS"
   },
   "outputs": [
    {
     "name": "stdout",
     "output_type": "stream",
     "text": [
      "My original list is: ['Alice', 'Fred', 'Bob', 'John', 'Steve', 'Elon']\n",
      "My copy list is: ['Alice', 'Fred', 'Bob', 'John', 'Steve']\n"
     ]
    }
   ],
   "source": [
    "import copy\n",
    "\n",
    "mylist=['Alice', 'Fred', 'Bob', 'John', 'Steve']\n",
    "\n",
    "# deep copy will make a complete copy of the object mylist\n",
    "# such that my_list_copy will not be changed if my_list is changed\n",
    "mylist_copy = copy.deepcopy(mylist)\n",
    "mylist.append('Elon')\n",
    "\n",
    "print('My original list is:', mylist) # The original lists changes\n",
    "print('My copy list is:', mylist_copy) # But the copy does not"
   ]
  },
  {
   "cell_type": "markdown",
   "metadata": {
    "id": "1rDMpZybRsaS"
   },
   "source": [
    "For more examples of standard modules see https://docs.python.org/3/py-modindex.html. This link takes you to Python's Module Index, which is essentially an A to Z list of all standard Python modules. From abc to zipfile, you'll find a wealth of information on what each module does and how to use it."
   ]
  },
  {
   "cell_type": "markdown",
   "metadata": {
    "id": "pQA2gnjERsaS"
   },
   "source": [
    "## 3.4 Classes and Objects"
   ]
  },
  {
   "cell_type": "markdown",
   "metadata": {
    "id": "1b5qIYCLRsaS"
   },
   "source": [
    "Python is an object-oriented language. Object-oriented programming is a programming methodology where we group data and the code that operates on the data together.\n",
    "\n",
    "A **class** is a template for an object. It will have function (method) definitions and (usually) variable (attribute) definitions. An **object** a particular instance of a class.\n",
    "\n",
    "Object-oriented programming allows us to structure the code into classes, allowing for a clean and efficient coding style which improves code structure and reuse. The basic structure of a Python class can be written in pseudo code as\n",
    "\n",
    "```\n",
    "class ClassName:\n",
    "    <statement-1>\n",
    "    .\n",
    "    .\n",
    "    .\n",
    "    <statement-N>\n",
    "\n",
    "```\n",
    "Where it is necessary to start classes with an constructor (instantiation function).\n",
    "\n",
    "Constructors in Python: They're these awesome functions when we create new objects from a class. In Python, we usually call them the `__init__` method &ndash; kind of like \"initialize\".\n",
    "\n",
    "Here's a neat little secret &ndash when you're building a class, it's typically a good idea to start with this `__init__` method. This function steps up to the plate as soon as you create a new object from your class, setting up all the attributes you want your object to have right off the bat.such as:"
   ]
  },
  {
   "cell_type": "code",
   "execution_count": 24,
   "metadata": {
    "id": "zjeFyWkbRsaS"
   },
   "outputs": [
    {
     "name": "stdout",
     "output_type": "stream",
     "text": [
      "[]\n"
     ]
    }
   ],
   "source": [
    "class MyClass:\n",
    "    \"\"\"A simple example class\"\"\"\n",
    "\n",
    "    def __init__(self): # constructor\n",
    "        self.data = []\n",
    "\n",
    "x = MyClass() # creates new instance of class\n",
    "# The __init__ function will be called automatically\n",
    "print(x.data)"
   ]
  },
  {
   "cell_type": "markdown",
   "metadata": {
    "id": "Qr0GQ1tURsaS"
   },
   "source": [
    "The task of constructors is to initialize (assign values) to the data members of the class when an object of class is created. In Python the constructor is formed from the ```__init__()``` method; it is always called when an object is created.\n",
    "\n",
    "Constructors in Python, indeed, have a very special role. Just imagine them as the backstage crew of a theater production, setting up the scene before the actors (or in this case, the objects) make their grand entrance!\n",
    "\n",
    "When we say constructors, we're referring to the `__init__()` methods in Python. Their mission, if they choose to accept it (and they always do!), is to initialize the data members of the class as soon as an object of the class comes into existence.\n",
    "\n",
    "So, when you create a new object, Python calls the `__init__()` method (our diligent backstage crew!) right away, assigning the initial values to the attributes of the object. It's like an automatic setup!"
   ]
  },
  {
   "cell_type": "code",
   "execution_count": 27,
   "metadata": {
    "id": "7oBVSSJ9RsaS"
   },
   "outputs": [
    {
     "name": "stdout",
     "output_type": "stream",
     "text": [
      "hello world\n",
      "Object x: class attribute: bananas and instance attribute: 63\n",
      "Object y: class attribute: bananas and instance attribute: 44\n"
     ]
    }
   ],
   "source": [
    "class MyClass:\n",
    "    \"\"\"A simple example class\"\"\"\n",
    "\n",
    "    # creating a class attribute - this will be the same for all instance of the class\n",
    "    class_attribute = 'bananas'\n",
    "    def __init__(self):\n",
    "        self.data = []\n",
    "        # creating an instance attribute - this value will be specific to this instance of the class\n",
    "        self.instance_attribute = random.randint(1, 100)\n",
    "\n",
    "    def f(self): # function -> object method\n",
    "        return 'hello world'\n",
    "\n",
    "x = MyClass() # creates new instance of class\n",
    "print(x.f()) # now run the class sub function f\n",
    "\n",
    "# print out attributes\n",
    "print('Object x: class attribute: {} and instance attribute: {}'.format(x.class_attribute, x.instance_attribute))\n",
    "\n",
    "# now let'. create a new instance and observe its attribute behaviour\n",
    "y = MyClass()\n",
    "print('Object y: class attribute: {} and instance attribute: {}'.format(y.class_attribute, y.instance_attribute) )"
   ]
  },
  {
   "cell_type": "markdown",
   "metadata": {
    "id": "l_ZsdO7FRsaS"
   },
   "source": [
    "**Think of Python classes as these awesome blueprints for creating objects.** These blueprints, or classes, can hold both hold both attributes (the characteristics or properties) and methods (the behaviors or functions). They help us structure our code and make it more manageable and readable. You can think of attributes as the unique traits or properties of an object, like the color of a car or the age of a person. Methods, on the other hand, are like actions or behaviors, things the object can do.\n",
    "\n",
    "So, in Python, when we're defining a class, we could create a shared attribute right at the top. Imagine it like a universal rule for the class. Let's say we have a class attribute `class_attribute`, and we set it to 'bananas'. This means every instance (or object) of that class will have the same `class_attribute`, in this case, all instances would have 'bananas'. It's like having a common piece of information that all objects of the class share.\n",
    "\n",
    "Additionally, each instance may have it's own attributes. Each instance of a class also gets to have its own unique attributes. In our class blueprint, we might assign `self.instance_attribute` a random integer when an object is created. But more often, these instance attributes will be set based on the specifics of the object being created. We often initialize them from the arguments passed to the `__init__` function. Think of it as every object having its own unique identity card!\n",
    "\n",
    "In the above example we assign  ```self.instance_attribute``` a random integer, but more often these attributes will decribe properties of the object being created (typically, initialised from arguments to the init function) e.g. see the ```shape, size, ndim, dtype``` attributes of Numpy matrices in the next notebook.\n",
    "\n",
    "As we progress in our Python journey, understanding the ins and outs of Python classes becomes more and more essential, especially for building more advanced packages. But hey, no worries! In this course, we're sticking to relatively simple scripting. But if you're ever feeling curious and want to explore deeper into Python Classes, here's a great place to start: https://docs.python.org/3/tutorial/classes.html\n",
    "\n",
    "Oh, and even though we're not creating classes right now, we will definitely be using them. They're pretty hard to avoid when we start playing with machine learning and matrix libraries, so it's definitely worth getting to know them a little.\n",
    "\n",
    "**Optional Exercise**: And if you're up for a little challenge, here's a fun exercise: Try defining a class that represents a point in 2D space. The class should have members for storing the x and y position and methods for calculating the Cartesian length. I promise, it's a rewarding challenge!"
   ]
  },
  {
   "cell_type": "code",
   "execution_count": null,
   "metadata": {
    "id": "2mL23zfJRsaS"
   },
   "outputs": [],
   "source": [
    "# Exercise create simple class\n"
   ]
  },
  {
   "cell_type": "markdown",
   "metadata": {
    "id": "sxk-qceiRsaS"
   },
   "source": [
    "## 3.5 Packages"
   ]
  },
  {
   "cell_type": "markdown",
   "metadata": {
    "collapsed": true,
    "id": "5HHCxT0sRsaS"
   },
   "source": [
    "Get ready to dive into the world of Python packages! They're like your trusty toolbox, each one designed to make specific tasks a breeze and designed to solve some umbrella task. Python packages are packed with related classes and modules. And, the best part? There's a huge variety, developed and maintained by kind-hearted coders around the world!\n",
    "\n",
    "Let's get to know some of the key players:\n",
    "\n",
    "- **NumPy:** First off, we have Numpy (http://www.numpy.org/). It's like a superpower for handling arrays, and it comes with some really powerful linear algebra features. Picture it as our go-to tool for juggling lots of numbers at once!\n",
    "\n",
    "- **Matplotlib:** Next, we have Matplotlib (https://matplotlib.org/). Imagine it as our personal artist, ready to create beautiful and informative plots from our data.\n",
    "\n",
    "- **scikit-learn:** Then there's Scikit Learn (http://scikit-learn.org/). Now, this one is a bit like having a super-smart robot at our disposal. It's a powerful machine learning library that can help us uncover patterns in data and make predictions.\n",
    "\n",
    "We'll also get to dabble with some other exciting packages:\n",
    "\n",
    "- **pandas** (https://pandas.pydata.org/) is like a master organizer or like a super-efficient office assistant. It's perfect for creating and manipulating complex data tables. Think of it as your supercharged Excel, but in Python!\n",
    "\n",
    "- **NiBabel** (http://nipy.org/nibabel/) is a library that knows how to read medical image formats. It's like having a professional radiologist on our team! So if you're into medical imaging, Nibabel is going to be your best friend!\n",
    "\n",
    "As we go through the course, we'll get to know these packages better. Just remember, if you use these packages in your work, don't forget to tip your hat to them by citing their contribution."
   ]
  },
  {
   "cell_type": "markdown",
   "metadata": {
    "id": "OXPqo9N0RsaS"
   },
   "source": [
    "### 3.5.6 Installing Packages"
   ]
  },
  {
   "cell_type": "markdown",
   "metadata": {
    "id": "MKFtlMLARsaS"
   },
   "source": [
    "Installing Python packages is a lot like adding new tools to your toolbox. There are two main ways to go about this, and I'm here to guide you through both of them. Ready? Here we go!\n",
    "\n",
    "There are two ways to install packages: 1) through Anaconda, and 2) through the python installer package ```pip```.\n",
    "\n",
    "**Anaconda:** If you have installed Python using Anaconda, you're in luck! Anaconda comes with many popular packages pre-installed, including the ones we've mentioned above. But if you ever find a package you need isn't installed, don't fret! You can add it quite easily. Simply open your system terminal (or cmd if you're on Windows) and type `conda install <package name>`. To update any package, you can use `conda update`.\n",
    "\n",
    "**pip:** Sometimes, you may come across a package that's not available in Anaconda. Or maybe you've chosen not to use Anaconda. That's perfectly fine! You can use Python's built-in package installer called `pip`. Assuming pip is installed, just go to your terminal and type `pip install <package name>` . To update a package, you can use `pip install <package name> --upgrade`.\n",
    "\n",
    "Remember, `pip` comes pre-installed with Anaconda and most Python distributions. But if you find that you don't have it, don't worry. You can download or upgrade it from here: https://pip.pypa.io/en/stable/installing/.\n",
    "\n",
    "Now you're all set to install and update Python packages. Happy coding!"
   ]
  },
  {
   "cell_type": "markdown",
   "metadata": {
    "collapsed": true,
    "id": "W5ELQOJ3RsaS"
   },
   "source": [
    "## 3.6 Citing"
   ]
  },
  {
   "cell_type": "markdown",
   "metadata": {
    "id": "Z-A1LCexRsaS"
   },
   "source": [
    "Where project code is heavily derived from existing Python Packages it is very important to cite the original projects in resulting projects and papers. This is particularly true for research derived and supported packages such as scikit-learn:\n",
    "\n",
    "See https://www.scipy.org/citing.html for full citation list"
   ]
  },
  {
   "cell_type": "code",
   "execution_count": null,
   "metadata": {},
   "outputs": [],
   "source": []
  }
 ],
 "metadata": {
  "colab": {
   "provenance": []
  },
  "kernelspec": {
   "display_name": "Python 3 (ipykernel)",
   "language": "python",
   "name": "python3"
  },
  "language_info": {
   "codemirror_mode": {
    "name": "ipython",
    "version": 3
   },
   "file_extension": ".py",
   "mimetype": "text/x-python",
   "name": "python",
   "nbconvert_exporter": "python",
   "pygments_lexer": "ipython3",
   "version": "3.11.4"
  }
 },
 "nbformat": 4,
 "nbformat_minor": 1
}
