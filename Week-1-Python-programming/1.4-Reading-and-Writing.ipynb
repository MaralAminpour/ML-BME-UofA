{
 "cells": [
  {
   "cell_type": "markdown",
   "metadata": {
    "id": "KtReulc7wlV-"
   },
   "source": [
    "# 4. Reading and Writing Files\n",
    "\n",
    "When it comes to programming, handling input and output is crucial. It allows us to interact with users, process data, and store information for future use. In this notebook, we will discuss how to print, take input from the keyboard and read and write to files using the Python Standard Library."
   ]
  },
  {
   "cell_type": "markdown",
   "metadata": {
    "id": "cQJlsnxcwlWA"
   },
   "source": [
    "## Reading and Writing from files"
   ]
  },
  {
   "cell_type": "markdown",
   "metadata": {
    "id": "psaXS-Z-wlWA"
   },
   "source": [
    "When it comes to reading and writing files in Python, the syntax is quite similar to that of languages like C and C++. The first step is to open the file using the open() function. To open a file, you need to provide two pieces of information: the filename and the mode. Let's take a closer look:"
   ]
  },
  {
   "cell_type": "code",
   "execution_count": 1,
   "metadata": {},
   "outputs": [],
   "source": [
    "# Let's download the file 'nameslist.txt'\n",
    "import requests\n",
    "\n",
    "def download_data(source, dest):\n",
    "    base_url = 'https://raw.githubusercontent.com/'\n",
    "    owner = 'SirTurtle'\n",
    "    repo = 'ML-BME-UofA-data'\n",
    "    branch = 'main'\n",
    "    url = '{}/{}/{}/{}/{}'.format(base_url, owner, repo, branch, source)\n",
    "    r = requests.get(url)\n",
    "    f = open(dest, 'wb')\n",
    "    f.write(r.content)\n",
    "    f.close()\n",
    "\n",
    "import os\n",
    "if not os.path.exists('temp'):\n",
    "   os.makedirs('temp')\n",
    "\n",
    "download_data('Week-1-Python-programming/data/nameslist.txt', 'temp/nameslist.txt')"
   ]
  },
  {
   "cell_type": "code",
   "execution_count": 2,
   "metadata": {
    "id": "Bv6-FlKdwlWA"
   },
   "outputs": [],
   "source": [
    "f = open('temp/emptyfile.txt', 'w') # open for writing\n",
    "f.close()\n",
    "\n",
    "f = open('temp/nameslist.txt', 'r') # open for reading\n",
    "f.close()"
   ]
  },
  {
   "cell_type": "markdown",
   "metadata": {
    "id": "rIYFrylrwlWB"
   },
   "source": [
    "**Note:** Just a quick heads up - that second argument you use when opening a file is super important. It tells us what you want to do with the file. You can use `r` if you're planning to read the file or `w` if you want to write something. (`r` is the default, so you don't need to specify it.)\n",
    "\n",
    "When you're done doing your thing, remember to use `fobj.close()`. This tidies up everything by closing the file and freeing up any system resources that it was using.\n",
    "\n",
    "**Note:** But hey, here's a pro tip! You can use Python's `with` statement when you're working with files. It's a better practice because it'll automatically close the file for you once you're done. Now that's neat, isn't it?"
   ]
  },
  {
   "cell_type": "code",
   "execution_count": 3,
   "metadata": {
    "id": "NOocVQ9DwlWB",
    "outputId": "a70e9dfa-661d-4711-d95e-20acfb058907"
   },
   "outputs": [
    {
     "name": "stdout",
     "output_type": "stream",
     "text": [
      "Emma\n",
      "Maria\n",
      "Julia\n",
      "Andy\n",
      "Eric\n",
      "James\n",
      "\n"
     ]
    }
   ],
   "source": [
    "with open('temp/nameslist.txt', 'r') as f:\n",
    "    all_content = f.read()\n",
    "\n",
    "print(all_content)"
   ]
  },
  {
   "cell_type": "markdown",
   "metadata": {
    "id": "UdJndkSawlWC"
   },
   "source": [
    "In the previous example, we were putting the whole file into one string. But sometimes, you might want each line in the file to be a separate string. You can think of each line as its own little container in a list.\n",
    "\n",
    "Here's how you'd do it:"
   ]
  },
  {
   "cell_type": "code",
   "execution_count": 4,
   "metadata": {
    "id": "3e8vMH0CwlWC",
    "outputId": "d38a9080-b304-41af-b0be-13d446a82568"
   },
   "outputs": [
    {
     "name": "stdout",
     "output_type": "stream",
     "text": [
      "['Emma\\n', 'Maria\\n', 'Julia\\n', 'Andy\\n', 'Eric\\n', 'James\\n']\n"
     ]
    }
   ],
   "source": [
    "with open('temp/nameslist.txt', 'r') as f:\n",
    "    content = f.readlines()\n",
    "\n",
    "print(content)"
   ]
  },
  {
   "cell_type": "markdown",
   "metadata": {
    "id": "n0O9-KdmwlWC"
   },
   "source": [
    "\n",
    "If you want to get rid of those pesky end of line characters, you can use the strip() method. But the really cool part is when you apply strip() to all entries using a list comprehension - it's like a one-line loop that tidies up your entire list. Here's how you do it:\n"
   ]
  },
  {
   "cell_type": "code",
   "execution_count": 5,
   "metadata": {
    "id": "40KVBWg-wlWC",
    "outputId": "2612bd1a-eab9-42ec-fe4b-470711f05d7c"
   },
   "outputs": [
    {
     "name": "stdout",
     "output_type": "stream",
     "text": [
      "['Emma', 'Maria', 'Julia', 'Andy', 'Eric', 'James']\n"
     ]
    }
   ],
   "source": [
    "content = [x.strip() for x in content]\n",
    "print(content)"
   ]
  },
  {
   "cell_type": "markdown",
   "metadata": {
    "id": "0en4oypGwlWD"
   },
   "source": [
    " Alternatively, If you'd rather read the file one line at a time, that's totally doable too. It's like taking a leisurely stroll through your file, line by line (one-line-at-a-time pace), using a loop. Here's how it can be done:"
   ]
  },
  {
   "cell_type": "code",
   "execution_count": 6,
   "metadata": {
    "id": "wyGKAIKPwlWD",
    "outputId": "2c4ffaf9-d8aa-49bd-8032-986887cbb3ab"
   },
   "outputs": [
    {
     "name": "stdout",
     "output_type": "stream",
     "text": [
      "Emma\n",
      "Maria\n",
      "Julia\n",
      "Andy\n",
      "Eric\n",
      "James\n"
     ]
    }
   ],
   "source": [
    "with open('temp/nameslist.txt', 'r') as f:\n",
    "    for line in f:\n",
    "        print(line.strip())"
   ]
  },
  {
   "cell_type": "markdown",
   "metadata": {
    "id": "VwT8_gXtwlWD"
   },
   "source": [
    "When you want to write to a file, you can use `f.write(string)`. This will put the content of the string into the file, and it also gives you back the number of characters it wrote.\n",
    "\n",
    "So, for instance, let's say you have a file called `nameslist.txt` and you want to add a new name to it. You can open the file with 'a' (which stands for append mode), then just write the extra name. Remember to use `'\\n'` to start a new line after the name. Here's a quick example of how you can do it:"
   ]
  },
  {
   "cell_type": "code",
   "execution_count": 7,
   "metadata": {
    "id": "m5h0T_ZPwlWD"
   },
   "outputs": [],
   "source": [
    "f = open('temp/nameslist.txt', 'a') # open for appending\n",
    "f.write('Bob \\n')\n",
    "f.close()"
   ]
  },
  {
   "cell_type": "markdown",
   "metadata": {
    "id": "SIvcOt-dwlWD"
   },
   "source": [
    "Alternatively, writing to a file line by line is like crafting a story, one sentence at a time. Here's how you can do it:"
   ]
  },
  {
   "cell_type": "code",
   "execution_count": 8,
   "metadata": {
    "id": "PMED1VTDwlWD"
   },
   "outputs": [],
   "source": [
    "with open('temp/emptyfile.txt', 'w') as f:\n",
    "    f.write(\"This is a copy of 'nameslist.txt'\\n\")\n",
    "    for line in content:\n",
    "        f.write(line + '\\n')"
   ]
  },
  {
   "cell_type": "markdown",
   "metadata": {
    "hideCode": true,
    "hideOutput": true,
    "id": "8dN1aW9OwlWD"
   },
   "source": [
    "# Pickling"
   ]
  },
  {
   "cell_type": "markdown",
   "metadata": {
    "id": "8XtuZhEhwlWE"
   },
   "source": [
    "_Pickling_ in Python is like a secret language - it transforms a Python object into a stream of bytes that you can save or send anywhere. Think of it as packing a suitcase: you take all your complex stuff (like objects or entire program runs), neatly fold it into a compact byte stream, and voila, it's ready to go. This is really helpful, especially when you're dealing with programs that take a long time to run, like neural networks.\n",
    "\n",
    "And guess what? You can pickle any object in Python! For instance, let's say you have a Python Dictionary that you want to save. It's like taking a snapshot of your Dictionary and storing it as a pickle file. Here's how you can do it:"
   ]
  },
  {
   "cell_type": "code",
   "execution_count": 9,
   "metadata": {
    "id": "nehIXVL_wlWE"
   },
   "outputs": [],
   "source": [
    "import pickle\n",
    "\n",
    "mydict={}\n",
    "mydict['Name']='Dave'\n",
    "mydict['Age']=23\n",
    "mydict['job']='Lecturer'\n",
    "mydict['height']=190\n",
    "\n",
    "with open('temp/my_pickle.pkl', 'wb') as handle:\n",
    "    pickle.dump(mydict, handle, protocol=pickle.HIGHEST_PROTOCOL)"
   ]
  },
  {
   "cell_type": "markdown",
   "metadata": {
    "id": "YLVDGbeMwlWE"
   },
   "source": [
    "Once you've saved your Python objects as a pickle file, getting them back is a breeze. It's like opening a time capsule - you get to see your objects just as they were when you saved them. Here's how you can do it:"
   ]
  },
  {
   "cell_type": "code",
   "execution_count": 10,
   "metadata": {
    "id": "ErO3ckk7wlWE",
    "outputId": "21e26e6f-6aaa-4844-f95e-8cb1a018dbe0"
   },
   "outputs": [
    {
     "name": "stdout",
     "output_type": "stream",
     "text": [
      "True\n"
     ]
    }
   ],
   "source": [
    "with open('temp/my_pickle.pkl', 'rb') as handle:\n",
    "    new_dict = pickle.load(handle)\n",
    "\n",
    "print(mydict == new_dict)"
   ]
  },
  {
   "cell_type": "markdown",
   "metadata": {
    "id": "EQEyg9SUwlWE"
   },
   "source": [
    "Pickles can be a real lifesaver when you're dealing with large chunks of data, like big spreadsheets or tables. They're going to be a great companion when we start working with the pandas package later in this course.\n",
    "\n",
    "Now, you might have heard about json format files, which are somewhat similar to pickle files as they're also used for saving and loading data during program runs.\n",
    "\n",
    "The key difference, though, is that JSON files are like open books - they're human-readable and can be used across different platforms. Pickle files, on the other hand, are a bit like secret messages - they transform data into a byte stream, which can only be decoded by Python.\n",
    "\n",
    "But that's what makes them super fast to read and versatile. They can work with loads of Python types right out of the box, even those that you define yourself. Pretty neat, right?\n",
    "\n",
    "**Pickles are particularly useful for saving large spreadsheets of tabulated data, and we will come to use them in conjunction with the ```pandas``` package later in the course.**"
   ]
  }
 ],
 "metadata": {
  "colab": {
   "provenance": []
  },
  "kernelspec": {
   "display_name": "Python 3 (ipykernel)",
   "language": "python",
   "name": "python3"
  },
  "language_info": {
   "codemirror_mode": {
    "name": "ipython",
    "version": 3
   },
   "file_extension": ".py",
   "mimetype": "text/x-python",
   "name": "python",
   "nbconvert_exporter": "python",
   "pygments_lexer": "ipython3",
   "version": "3.11.4"
  }
 },
 "nbformat": 4,
 "nbformat_minor": 4
}
