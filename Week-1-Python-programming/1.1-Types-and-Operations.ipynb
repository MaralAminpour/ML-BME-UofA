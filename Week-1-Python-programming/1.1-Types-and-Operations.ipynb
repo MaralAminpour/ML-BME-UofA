{
 "cells": [
  {
   "cell_type": "markdown",
   "metadata": {
    "id": "52_WTsmPsLa1"
   },
   "source": [
    "# 1. Introduction to Python Types and Operations\n",
    "\n",
    "## Learning Objectives\n",
    "\n",
    "This week, we're stepping into exciting landscape of Python coding! Our journey will spotlight the unique features of Python and how it differs from our old friend, Matlab.\n",
    "\n",
    "By the end of this week we expect you to understand how to:\n",
    "\n",
    "- Manipulate simple variable types, operators and conditions\n",
    "- Use Python lists and Dictionaries\n",
    "- Write loops and functions\n",
    "- Understand modules, packages and classes\n",
    "- Be familiar with the NumPy, Matplotlib and Pandas modules\n",
    "- Read and write to and from files\n",
    "\n",
    "## Basics\n",
    "\n",
    "### Switching from Matlab to Python\n",
    "\n",
    "Switching languages might sound intimidating, but let's put your mind at ease - Matlab and Python have quite a bit in common. To illustrate this, here's a handy cheat sheet that draws parallels between the two. Trust me, you'll find the transition smoother than you think! [cheat sheet](https://mas-dse.github.io/DSE200/cheat_sheets/1_python/6_2_NumPy_for_MATLAB_users.pdf)\n",
    "\n",
    "![title](https://raw.githubusercontent.com/SirTurtle/ML-BME-UofA-imgs/main/Week-1-Python-programming/imgs/matlabtopython.png)\n",
    "\n",
    "Here the key differences I seek to emphasize are that:\n",
    "\n",
    "1. Python isn't fond of semicolons at the end of each line. Python does not require semicolons at the end of each line to prevent the interpreter from printing out the values of each variable\n",
    "\n",
    "2. Python is all about clean, simple structure, so it uses only indentation to control the flow of the code. You won't find any end statements closing off if/for/while instructions here (no ```end``` statements at the end of ```if/for/while``` statements), unlike in Matlab.\n",
    "\n",
    "3. In Python land, array indexing starts from 0, not 1.\n",
    "\n",
    "All of these points will be covered in more detail later as we progress through the notebooks.\n",
    "\n",
    "### Python: A User-Friendly Language\n",
    "\n",
    "One of Python's main goals is to be reader-friendly (easy to read and use) and intuitive. It takes pride in its simplicity.\n",
    "\n",
    "There's no better way to showcase this than with the classic 'Hello World' example. If you want to print 'Hello world' in Python, all you need is the print function:"
   ]
  },
  {
   "cell_type": "code",
   "execution_count": 1,
   "metadata": {
    "colab": {
     "base_uri": "https://localhost:8080/"
    },
    "id": "TKV1SVhtsLa4",
    "outputId": "373bc14c-26a6-46cf-ea3a-bdb10d4493bd"
   },
   "outputs": [
    {
     "name": "stdout",
     "output_type": "stream",
     "text": [
      "Hello World\n"
     ]
    }
   ],
   "source": [
    "print(\"Hello World\")"
   ]
  },
  {
   "cell_type": "markdown",
   "metadata": {
    "id": "-T6DS5BBsLa5"
   },
   "source": [
    "In contrast if we look at C++, things get a bit more complicated. The iconic 'Hello World' program in C++ involves multiple lines of code, the need to import standard libraries, and here's the kicker - you can't run it until you've compiled it:"
   ]
  },
  {
   "cell_type": "markdown",
   "metadata": {
    "id": "dLA1jiUKsLa5"
   },
   "source": [
    "```c++\n",
    "#include <iostream>\n",
    "using namespace std;\n",
    "\n",
    "int main()\n",
    "{\n",
    "    cout << \"Hello, World!\";\n",
    "    return 0;\n",
    "}\n",
    "```"
   ]
  },
  {
   "cell_type": "markdown",
   "metadata": {
    "id": "LHTfOr68sLa5"
   },
   "source": [
    " ###  Commenting\n",
    "\n",
    "Finally, before we learn any syntax! Remember, no matter what language you're coding in, comments are crucial. They make your code readable and user-friendly to others. In Python, we use ```#``` to indicate a comment. Let's keep our code tidy and understandable, shall we?"
   ]
  },
  {
   "cell_type": "code",
   "execution_count": 2,
   "metadata": {
    "id": "c8Ue7taMsLa6"
   },
   "outputs": [],
   "source": [
    "# this is a code comment"
   ]
  },
  {
   "cell_type": "markdown",
   "metadata": {
    "id": "ZwOYK9lxsLa6"
   },
   "source": [
    "Besides explaining what lines of code do, we also use comments throughout all the Exercise sections. They're your helpful guide, indicating where you need to add code and providing clear instructions on what needs to be accomplished. Let's think of them as your friendly road signs on this coding journey!\n",
    "\n",
    "\n",
    "As we move forward in this notebook, we'll be uncovering the secrets of simple variables, lists, strings, and dictionary types. And that's not all! By the end, we'll have explored math operators, conditions, functions, and the basics of input/output statements. This is going to be a fun ride, so let's get started!"
   ]
  },
  {
   "cell_type": "markdown",
   "metadata": {
    "id": "m3OKvGu3sLa6"
   },
   "source": [
    "## 1.1. Variables and Types"
   ]
  },
  {
   "cell_type": "markdown",
   "metadata": {
    "id": "KWItrA_YsLa6"
   },
   "source": [
    "In Python, we have three kinds of numbers we can work with:\n",
    "- Integers\n",
    "- Floats\n",
    "- Complex numbers (though we won't be using these in this course)\n",
    "\n",
    "Here's how you can assign an integer value to a variable:"
   ]
  },
  {
   "cell_type": "code",
   "execution_count": 3,
   "metadata": {
    "id": "1rZh_Rk0sLa6"
   },
   "outputs": [],
   "source": [
    "myint = 5"
   ]
  },
  {
   "cell_type": "markdown",
   "metadata": {
    "id": "XcKErBQmsLa6"
   },
   "source": [
    "Here's how you can declare float variables:"
   ]
  },
  {
   "cell_type": "code",
   "execution_count": 4,
   "metadata": {
    "id": "65y-JdQnsLa7"
   },
   "outputs": [],
   "source": [
    "myfloat1 = 12.1\n",
    "myfloat2 = float(myint) # casting an integer type as float"
   ]
  },
  {
   "cell_type": "markdown",
   "metadata": {
    "id": "4u_a73T02-1A"
   },
   "source": [
    "Let's print the variable types and values."
   ]
  },
  {
   "cell_type": "code",
   "execution_count": 5,
   "metadata": {
    "colab": {
     "base_uri": "https://localhost:8080/"
    },
    "id": "ysXL-nqu2-1A",
    "outputId": "b350c697-8f79-453c-a050-e877ad02ef3e"
   },
   "outputs": [
    {
     "name": "stdout",
     "output_type": "stream",
     "text": [
      "myint has type <class 'int'> and value 5\n",
      "myfloat1 has type <class 'float'> and value 12.1\n",
      "myfloat2 has type <class 'float'> and value 5.0\n"
     ]
    }
   ],
   "source": [
    "# see the difference between float and int variables\n",
    "print('myint has type {} and value {}'.format(type(myint), myint))\n",
    "print('myfloat1 has type {} and value {}'.format(type(myfloat1), myfloat1))\n",
    "print('myfloat2 has type {} and value {}'.format(type(myfloat2), myfloat2))"
   ]
  },
  {
   "cell_type": "markdown",
   "metadata": {
    "id": "EgfwtgpCsLa7"
   },
   "source": [
    "In the examples we've seen, `myint` and `myfloat` are what we call variables. They're like placeholders for the values we assign to them."
   ]
  },
  {
   "cell_type": "markdown",
   "metadata": {
    "id": "bASLe_o4sLa7"
   },
   "source": [
    "### Strings"
   ]
  },
  {
   "cell_type": "markdown",
   "metadata": {
    "id": "KCOfVgvVsLa7"
   },
   "source": [
    "Strings (of characters) are defined either with a single quote or a double quotes e.g."
   ]
  },
  {
   "cell_type": "code",
   "execution_count": 6,
   "metadata": {
    "colab": {
     "base_uri": "https://localhost:8080/"
    },
    "id": "WfCvewA-sLa7",
    "outputId": "61e91683-bdde-4ccf-8162-4ef443128928"
   },
   "outputs": [
    {
     "name": "stdout",
     "output_type": "stream",
     "text": [
      "Hello, World!\n",
      "Hello, World!\n",
      "Testing if string1 and string2 are equal: True\n"
     ]
    }
   ],
   "source": [
    "string1 = \"Hello, World!\"\n",
    "string2 = 'Hello, World!'\n",
    "print(string1)\n",
    "print(string2)\n",
    "print('Testing if string1 and string2 are equal:', string1 == string2)"
   ]
  },
  {
   "cell_type": "markdown",
   "metadata": {
    "id": "J7CNQbWNsLa7"
   },
   "source": [
    "If you need an apostrophe (single quote) inside a string, the easiest way is to enclose the string in double quotes (and vice versa):"
   ]
  },
  {
   "cell_type": "code",
   "execution_count": 7,
   "metadata": {
    "colab": {
     "base_uri": "https://localhost:8080/"
    },
    "id": "R-bKrGfIsLa7",
    "outputId": "78e4e053-74bb-49ac-861f-ff78196f2681"
   },
   "outputs": [
    {
     "name": "stdout",
     "output_type": "stream",
     "text": [
      "Steve's dog\n"
     ]
    }
   ],
   "source": [
    "string1 = \"Steve's dog\"\n",
    "print(string1)"
   ]
  },
  {
   "cell_type": "markdown",
   "metadata": {
    "id": "DeYWhI4z2-1B"
   },
   "source": [
    "You can also use \\ to enter an escape sequence to include a special characters:"
   ]
  },
  {
   "cell_type": "code",
   "execution_count": 8,
   "metadata": {
    "colab": {
     "base_uri": "https://localhost:8080/"
    },
    "id": "Y-Q8MIuU2-1B",
    "outputId": "d71030d0-0a4a-4762-9509-4a0b2eedc453"
   },
   "outputs": [
    {
     "name": "stdout",
     "output_type": "stream",
     "text": [
      "This string includes a double-quote \" and a backslash \\\n"
     ]
    }
   ],
   "source": [
    "string1 = \"This string includes a double-quote \\\" and a backslash \\\\\"\n",
    "print(string1)"
   ]
  },
  {
   "cell_type": "markdown",
   "metadata": {
    "id": "5AI3HF_K2-1B"
   },
   "source": [
    "We can also define multi-line strings, using triple quotes (''' or \"\"\")."
   ]
  },
  {
   "cell_type": "code",
   "execution_count": 9,
   "metadata": {
    "colab": {
     "base_uri": "https://localhost:8080/"
    },
    "id": "f-e41E7x2-1B",
    "outputId": "a5cec881-1b2a-49f1-c0a2-947333f698eb"
   },
   "outputs": [
    {
     "name": "stdout",
     "output_type": "stream",
     "text": [
      "This is a string\n",
      "that extends across\n",
      "multiple lines\n"
     ]
    }
   ],
   "source": [
    "multiline_string = '''This is a string\n",
    "that extends across\n",
    "multiple lines'''\n",
    "print(multiline_string)"
   ]
  },
  {
   "cell_type": "markdown",
   "metadata": {
    "id": "8514WkZosLa7"
   },
   "source": [
    "### Format Strings\n",
    "\n",
    "Sometimes, we'll need to format our output with printed statements. That's when the ```format``` (or ``` str.format ```) method for strings comes in handy. This neat trick allows us to incorporate different data types within the string, and even control the precision of floats (truncating the precision of floats). Here's an example:"
   ]
  },
  {
   "cell_type": "code",
   "execution_count": 10,
   "metadata": {
    "colab": {
     "base_uri": "https://localhost:8080/"
    },
    "id": "Wbo8LexUsLa7",
    "outputId": "4645e33c-5cb7-45a1-817b-32fafe6d2ee5"
   },
   "outputs": [
    {
     "name": "stdout",
     "output_type": "stream",
     "text": [
      "The second argument is 2, the first argument is 1\n",
      "Two is 2, one is 1\n",
      "Pi is about 3.14159\n",
      "Pi is about    3.14\n"
     ]
    }
   ],
   "source": [
    "print('The second argument is {1}, the first argument is {0}'.format(1, 2))\n",
    "print('Two is {two}, one is {one}'.format(one=1, two=2))\n",
    "print('Pi is about {}'.format(3.14159)) # argument positions and types don't need to specified\n",
    "print('Pi is about {0:7.2f}'.format(3.14159))"
   ]
  },
  {
   "cell_type": "markdown",
   "metadata": {
    "id": "E7MOM9vnsLa7"
   },
   "source": [
    "The general syntax for a format placeholder is:\n",
    "\n",
    "```[argument]:[width][.precision]type```"
   ]
  },
  {
   "cell_type": "markdown",
   "metadata": {
    "id": "5ZiT9S36sLa8"
   },
   "source": [
    "In the example ```print('Pi is about {0:7.2f}'.format(3.14159))```: 0 is the position of the argument, 7 is the width (if the width is longer than the number padding, in the form of spaces are added in front of the number), 2 is the number of decimal places and ```f``` is the type. Examples of common types include\n",
    "\n",
    "- ```d``` signed integer decimal e.g. an integer would be formatted as ```{d} ```\n",
    "- ```s``` string\n",
    "- ```f``` floating point decimal\n",
    "\n",
    "For more examples see https://www.python-course.eu/python3_formatted_output.php\n",
    "\n",
    "**To do**\n",
    "\n",
    "- Try changing the width and decimal place parameters above to observe their effect. Why not try writing your own formatted string?"
   ]
  },
  {
   "cell_type": "code",
   "execution_count": 11,
   "metadata": {
    "id": "nY1eCM8_sLa8"
   },
   "outputs": [],
   "source": [
    "# To do: Practice string formatting\n"
   ]
  },
  {
   "cell_type": "markdown",
   "metadata": {
    "id": "ARVKBWTZsLa8"
   },
   "source": [
    "Just a heads up, the method we just went over is the most recent way to format strings in Python. However, you might stumble upon some other styles out there. Here are a couple examples:"
   ]
  },
  {
   "cell_type": "code",
   "execution_count": 12,
   "metadata": {
    "id": "XXysf9AGsLa8",
    "outputId": "084235dc-d4b8-4d53-bf5a-62dd7771e9c6"
   },
   "outputs": [
    {
     "name": "stdout",
     "output_type": "stream",
     "text": [
      "Bob is age 20\n",
      "Bob is age 20\n"
     ]
    }
   ],
   "source": [
    "# Other styles of string formatting\n",
    "name = 'Bob'\n",
    "age = 20\n",
    "print(name, \"is age\", str(age))\n",
    "print(\"%s is age %d\"%(name, age))"
   ]
  },
  {
   "cell_type": "markdown",
   "metadata": {
    "id": "VNrRM5Ow2-1C"
   },
   "source": [
    "An even newer way to format strings is with f-strings."
   ]
  },
  {
   "cell_type": "code",
   "execution_count": 13,
   "metadata": {
    "id": "2CbgjKvD2-1C",
    "outputId": "d778c95f-8026-4a9b-8c8a-305596e12cc5"
   },
   "outputs": [
    {
     "name": "stdout",
     "output_type": "stream",
     "text": [
      "Bob is age 20\n"
     ]
    }
   ],
   "source": [
    "# Newer style of string formatting\n",
    "print(f'{name} is age {age}') # f-string - note the f"
   ]
  },
  {
   "cell_type": "markdown",
   "metadata": {
    "id": "mALOZ1ZjsLa8"
   },
   "source": [
    "### Booleans\n",
    "\n",
    "Booleans represent binary ```True``` or ```False``` statements. They may be returned from the ```bool(...)``` function or output from boolean operators (below).\n",
    "\n",
    "For the purpose of control flow statements the following objects would be considered as ```False```:\n",
    "- integer zero (0)\n",
    "- float zero (0.0)\n",
    "- ```None``` keyword\n",
    "- empty lists, dictionaries, tuples, arrays etc (e.g. (), [], {})\n",
    "\n",
    "Every other object would be considered ```True``` .\n",
    "\n",
    "**To do**\n",
    "\n",
    "Explore this by changing ```my_var``` to different variables."
   ]
  },
  {
   "cell_type": "code",
   "execution_count": 14,
   "metadata": {
    "id": "GLWTlZ28sLa8"
   },
   "outputs": [],
   "source": [
    "# To do: Try changing the objects assigned to my_var\n",
    "# Try: 0, 1, None, an empty list [], a non-empty list [1,2,3], etc.\n",
    "my_var = 0\n",
    "if my_var:\n",
    "    print(\"is true\")"
   ]
  },
  {
   "cell_type": "markdown",
   "metadata": {
    "id": "v_aq1rIxsLa8"
   },
   "source": [
    "### Dynamical Typing\n",
    "\n",
    "It's worth mentioning that Python variables are not **statically typed**. What does that mean? Well, you don't need to declare variables before you use them or specify their type. In Python, every variable is an object. For instance, you can declare simple variables right within a print statement and even perform calculations on them without having to declare their type beforehand. Here's an example:"
   ]
  },
  {
   "cell_type": "code",
   "execution_count": 15,
   "metadata": {
    "id": "vsWsOZsBsLa8",
    "outputId": "984caaf3-f9d5-4dc4-b327-ce32dca89d20"
   },
   "outputs": [
    {
     "name": "stdout",
     "output_type": "stream",
     "text": [
      "The sum of 5 and 2.3 is 7.3\n"
     ]
    }
   ],
   "source": [
    "my_var = 5 + 2.3\n",
    "print(\"The sum of 5 and 2.3 is {}\".format(my_var))"
   ]
  },
  {
   "cell_type": "markdown",
   "metadata": {
    "id": "tuoD3fSxsLa8"
   },
   "source": [
    "This is the same as"
   ]
  },
  {
   "cell_type": "code",
   "execution_count": 16,
   "metadata": {
    "id": "pCcKi6D-sLa9",
    "outputId": "1760f220-e19c-4fc0-d009-41e161b09992"
   },
   "outputs": [
    {
     "name": "stdout",
     "output_type": "stream",
     "text": [
      "The sum of 5 and 2.3 is 7.3\n"
     ]
    }
   ],
   "source": [
    "print(\"The sum of 5 and 2.3 is {}\".format(5 + 2.3))"
   ]
  },
  {
   "cell_type": "markdown",
   "metadata": {
    "id": "EYOUjvLpsLa9"
   },
   "source": [
    "## 1.2. Operators"
   ]
  },
  {
   "cell_type": "markdown",
   "metadata": {
    "id": "fsBJvatMsLa9"
   },
   "source": [
    "The basic math operators are:\n",
    "- addition (```+```)\n",
    "- subtraction (```-```)\n",
    "- multiplication (```*```)\n",
    "- division (```/``` or ```//```)"
   ]
  },
  {
   "cell_type": "markdown",
   "metadata": {
    "id": "aZ92XH-msLa9"
   },
   "source": [
    "Try out some simple math operations:"
   ]
  },
  {
   "cell_type": "code",
   "execution_count": 17,
   "metadata": {
    "id": "1pQdwQMLsLa9",
    "outputId": "c514596e-0aa0-4759-e4c2-2e2054b63f61"
   },
   "outputs": [
    {
     "name": "stdout",
     "output_type": "stream",
     "text": [
      "Addition: 5\n",
      "Subtraction: -1\n",
      "Multiplication: 6\n",
      "Division: 0.667\n",
      "Whole (or integer) division: 0\n"
     ]
    }
   ],
   "source": [
    "print('Addition:', 2 + 3)\n",
    "print('Subtraction:', 2 - 3)\n",
    "print('Multiplication:', 2*3)\n",
    "print('Division: {:.3f}'.format(2/3))\n",
    "print('Whole (or integer) division:', 2//3)"
   ]
  },
  {
   "cell_type": "markdown",
   "metadata": {
    "id": "wRGPyM3lsLa9"
   },
   "source": [
    "The modulus operator (```%```) returns the integer remainder following division:"
   ]
  },
  {
   "cell_type": "code",
   "execution_count": 18,
   "metadata": {
    "id": "6vQnPoZ3sLa9",
    "outputId": "1d540b3c-4a9e-4a66-ce3a-5f5e359e184d"
   },
   "outputs": [
    {
     "name": "stdout",
     "output_type": "stream",
     "text": [
      "The remainder following division of 9 by 5 is 4\n"
     ]
    }
   ],
   "source": [
    "a = 9\n",
    "b = 5\n",
    "print('The remainder following division of {} by {} is {}'.format(a, b, a%b))"
   ]
  },
  {
   "cell_type": "markdown",
   "metadata": {
    "id": "W4_yBLYxsLa9"
   },
   "source": [
    "Using ```*``` twice (```**```) results in the power operator"
   ]
  },
  {
   "cell_type": "code",
   "execution_count": 19,
   "metadata": {
    "id": "mpleMWA_sLbD",
    "outputId": "3fcb2961-a670-44ca-9092-2f27be2ff423"
   },
   "outputs": [
    {
     "name": "stdout",
     "output_type": "stream",
     "text": [
      "2 to the power 4 is 16\n"
     ]
    }
   ],
   "source": [
    "a = 2\n",
    "b = 4\n",
    "print('{} to the power {} is {}'.format(a, b, a**b))"
   ]
  },
  {
   "cell_type": "markdown",
   "metadata": {},
   "source": [
    "**To do**\n",
    "\n",
    "Try out some other arithmetic expressions."
   ]
  },
  {
   "cell_type": "code",
   "execution_count": 20,
   "metadata": {
    "id": "ZUOfUvfc2-1E"
   },
   "outputs": [],
   "source": [
    "# To do: Try other arithmetic expressions\n"
   ]
  },
  {
   "cell_type": "markdown",
   "metadata": {
    "id": "_f3IYfulsLbD"
   },
   "source": [
    "Operators also work on strings. You can use ```+``` and ```*``` to concatenate strings for example:"
   ]
  },
  {
   "cell_type": "code",
   "execution_count": 21,
   "metadata": {
    "id": "B9XyPCf7sLbD",
    "outputId": "7e15bfc7-b957-4843-eb19-2e5b11c56722"
   },
   "outputs": [
    {
     "name": "stdout",
     "output_type": "stream",
     "text": [
      "hellohello\n",
      "hellohellohellohellohellohellohellohellohellohello\n"
     ]
    }
   ],
   "source": [
    "print('hello' + 'hello')\n",
    "print('hello'*10)"
   ]
  },
  {
   "cell_type": "markdown",
   "metadata": {
    "id": "b0-UTixXsLbD"
   },
   "source": [
    "In your Python script, you can transform any number of variables into strings. You can use ```str()``` or ```{ } ```  in combination with ```str.format``` , or include them in a `format string`. It's as simple as that!"
   ]
  },
  {
   "cell_type": "code",
   "execution_count": 22,
   "metadata": {
    "id": "1KMJOzz-sLbD",
    "outputId": "172a192e-368b-40f3-b93f-e352121ae87c"
   },
   "outputs": [
    {
     "name": "stdout",
     "output_type": "stream",
     "text": [
      "hello 10\n"
     ]
    }
   ],
   "source": [
    "a = 10\n",
    "\n",
    "# here the integer variable a is cast as a string; otherwise python automatically assumes it is an int\n",
    "print('hello ' + str(a))"
   ]
  },
  {
   "cell_type": "markdown",
   "metadata": {
    "id": "YSQLgxKIsLbD"
   },
   "source": [
    "### Boolean expressions (Conditions)\n",
    "\n",
    "Boolean expressions are pretty straightforward - they always return either `True ` or `False`. We often use them to set conditions for `if` and `while` statements. Let's have a look at a few examples:\n",
    "\n",
    "- Exactly equals to (```==```)\n",
    "- Comparators: greater than ```>```, less than ```<```, greater than or equal to ```>=```, less than or equal to ```<=```\n",
    "- Is not equal to (```!=```)\n",
    "- Inverse (opposite) (```not```)\n",
    "- Object identity (or non-identity): ```is``` or ```is not```\n",
    "- Containment (of non-containment): ```in``` or ```not in```\n",
    "\n",
    "Conditions containing boolean operators ``` == > < ``` are formatted as:"
   ]
  },
  {
   "cell_type": "code",
   "execution_count": 23,
   "metadata": {
    "id": "LIvwkcMssLbD",
    "outputId": "41c16a54-c6f0-4aef-a0ad-bf27725817cb"
   },
   "outputs": [
    {
     "name": "stdout",
     "output_type": "stream",
     "text": [
      "True\n",
      "True\n",
      "False\n"
     ]
    }
   ],
   "source": [
    "a = 10\n",
    "\n",
    "print(a == 10)\n",
    "print(a < 12)\n",
    "print(a > 20)"
   ]
  },
  {
   "cell_type": "markdown",
   "metadata": {
    "id": "ZaTclGJhsLbD"
   },
   "source": [
    "Using \"not\" before a boolean expression inverts it:"
   ]
  },
  {
   "cell_type": "code",
   "execution_count": 24,
   "metadata": {
    "id": "LGuIVN7XsLbE",
    "outputId": "a06b2ea2-7d45-47f5-a59b-4712cb41e3b2"
   },
   "outputs": [
    {
     "name": "stdout",
     "output_type": "stream",
     "text": [
      "True\n",
      "True\n"
     ]
    }
   ],
   "source": [
    "a = 10\n",
    "b = 12\n",
    "\n",
    "print(a != b)\n",
    "print(not a == b)"
   ]
  },
  {
   "cell_type": "markdown",
   "metadata": {
    "id": "MV1UQ_oTsLbE"
   },
   "source": [
    "If you're looking to verify whether two variables are pointing to the same object, you'd use ```is``` or ```is not``` . This is different from ```==``` and ```!=``` in the sense that they're checking if the objects themselves are identical, not just their *values* (which is what `==` does). This functionality shines best when working with lists, which we'll be discussing in the next [section](#lists). Let's keep going!"
   ]
  },
  {
   "cell_type": "code",
   "execution_count": 25,
   "metadata": {
    "id": "wyZpmJkrsLbE",
    "outputId": "d0b10005-da2e-4b4f-db2c-f31cdcc6ac42"
   },
   "outputs": [
    {
     "name": "stdout",
     "output_type": "stream",
     "text": [
      "True\n",
      "True\n",
      "False\n",
      "True\n"
     ]
    }
   ],
   "source": [
    "list_a = [1,2,3]\n",
    "list_b = list_a # list_b is the same list as list_a\n",
    "list_c = [1,2,3] # list_c is a new list, that happens to have the same values\n",
    "\n",
    "print(list_a is list_b)\n",
    "print(list_a == list_b)\n",
    "print(list_a is list_c)\n",
    "print(list_a == list_c)"
   ]
  },
  {
   "cell_type": "markdown",
   "metadata": {
    "id": "dGBv4xkTsLbE"
   },
   "source": [
    "When you want to see if an item is present in a list (which we'll talk about in detail later), you can use ```in``` or ```not in```. Simple as that! (described [below](#lists))"
   ]
  },
  {
   "cell_type": "code",
   "execution_count": 26,
   "metadata": {
    "id": "IEPr-yxrsLbE",
    "outputId": "5ff0dde1-3b08-4096-f174-930c6f18812c"
   },
   "outputs": [
    {
     "name": "stdout",
     "output_type": "stream",
     "text": [
      "True\n",
      "False\n"
     ]
    }
   ],
   "source": [
    "my_list = [1,2,3,4]\n",
    "\n",
    "print(4 in my_list)\n",
    "print(5 in my_list)"
   ]
  },
  {
   "cell_type": "markdown",
   "metadata": {
    "id": "mr3qNyKesLbE"
   },
   "source": [
    "When you're working with two conditional statements, you can tie them together (concurrent) using `and` or `or`. If you use and, both conditions have to be true for the combined condition to give you a `True`. On the other hand, with or, just one true condition is enough for the combo to return `True`."
   ]
  },
  {
   "cell_type": "code",
   "execution_count": 27,
   "metadata": {
    "id": "YNUT31o8sLbH",
    "outputId": "5dc9be7d-e877-479d-ee42-7b7907dae70e"
   },
   "outputs": [
    {
     "name": "stdout",
     "output_type": "stream",
     "text": [
      "False\n",
      "False\n",
      "True\n"
     ]
    }
   ],
   "source": [
    "a = 10\n",
    "b = 12\n",
    "print(a == b)\n",
    "print(a < 15 and b < 10)\n",
    "print(a < 15 or b < 10)"
   ]
  },
  {
   "cell_type": "markdown",
   "metadata": {
    "id": "M-w4aYlrsLbH"
   },
   "source": [
    "**To do**\n",
    "\n",
    "Your turn. Let's put this into practice. Go ahead and try creating some examples of your own. I'm sure you'll do great!"
   ]
  },
  {
   "cell_type": "code",
   "execution_count": 28,
   "metadata": {
    "id": "SF0Y7TxesLbH"
   },
   "outputs": [],
   "source": [
    "# To do: Try out some more examples\n"
   ]
  },
  {
   "cell_type": "markdown",
   "metadata": {
    "id": "YpvFFiS_sLbH"
   },
   "source": [
    "## Exercise 1. Variables, Operators and Conditions"
   ]
  },
  {
   "cell_type": "markdown",
   "metadata": {
    "id": "cZT-nb1AsLbH"
   },
   "source": [
    "**Exercise 1.1.** Playing with the print function and string formatting"
   ]
  },
  {
   "cell_type": "code",
   "execution_count": 29,
   "metadata": {
    "id": "tXJOE8HZsLbH"
   },
   "outputs": [],
   "source": [
    "# Complete Ex 1.1 below; responding below each comment block\n",
    "\n",
    "# Q1 define variables\n",
    "# e.g. a=5; b=10; teststr='Hello World'\n",
    "\n",
    "\n",
    "# Q2 Practice print statements e.g. print('hello world')\n",
    "#\n",
    "\n",
    "\n",
    "# Q3 also try printing the variables you created for Q1\n",
    "# you will have to cast numbers as strings or combine within format strings\n",
    "\n",
    "\n",
    "# Q4 Try adding the variable 'a' to variable 'teststr' within a print statement\n",
    "#   (there are a least 2 ways of doing this, try all)\n",
    "\n"
   ]
  },
  {
   "cell_type": "markdown",
   "metadata": {
    "id": "ZLMZyEAKsLbH"
   },
   "source": [
    "**Exercise 1.2.** Try some simple operations"
   ]
  },
  {
   "cell_type": "code",
   "execution_count": 30,
   "metadata": {
    "id": "WNR4AJ_4sLbH"
   },
   "outputs": [],
   "source": [
    "# Complete Ex 1.2 below; responding below each comment\n",
    "\n",
    "# Q1 attempt simple simple math operations, print the output\n",
    "# e.g.\n",
    "\n",
    "\n",
    "# Q2 combinations of math operators try combining math operators e.g. a*a+b - a/b\n",
    "\n"
   ]
  },
  {
   "cell_type": "markdown",
   "metadata": {
    "id": "ncBN7KegsLbI"
   },
   "source": [
    "**Exercise 1.3.** Experiment with conditions"
   ]
  },
  {
   "cell_type": "code",
   "execution_count": 31,
   "metadata": {
    "id": "8tkgxJ4qsLbI",
    "outputId": "95fd5a07-510a-4d60-e652-1ab684a86ee4"
   },
   "outputs": [
    {
     "name": "stdout",
     "output_type": "stream",
     "text": [
      "a is exactly equal to b\n",
      "Twice a is exactly equal to b\n",
      "a is greater than b \n",
      "a is less than b\n",
      "a is b\n",
      "2*a is b\n"
     ]
    }
   ],
   "source": [
    "# Complete Ex 1.3 below; responding below each comment\n",
    "\n",
    "# Q1 define variables (completed for you)\n",
    "a=5\n",
    "b=10\n",
    "teststr1='Hello'\n",
    "teststr2='World'\n",
    "\n",
    "# Q2 complete and evaluate the following conditional statements\n",
    "print('a is exactly equal to b',)\n",
    "print('Twice a is exactly equal to b',)\n",
    "print('a is greater than b ',)\n",
    "print('a is less than b',)\n",
    "print('a is b',)\n",
    "print('2*a is b',)\n",
    "\n",
    "# Q3 combine statements using and/or statements e.g. 'a == b or b> a';\n",
    "#try different combinations; print out\n",
    "\n",
    "\n",
    "# Q4 try inverting your previous statements with a not;\n",
    "\n",
    "\n",
    "# Q5 what happens when you negate a statement joined by an 'and' ;\n",
    "# note that if you use a combination of conditions these must be placed in bracket preceded by not\n",
    "\n"
   ]
  },
  {
   "cell_type": "markdown",
   "metadata": {
    "id": "1zBeSQg2sLbI"
   },
   "source": [
    "<a id='lists'></a>\n",
    "\n",
    "## 1.3. Lists"
   ]
  },
  {
   "cell_type": "markdown",
   "metadata": {
    "id": "mZkOhVUwsLbI"
   },
   "source": [
    "A list in Python is like a treasure chest of ordered items. These items, or elements, don't have to be of the same kind - they can be a mix of numbers, strings, or any other object types. The coolest part? Lists can even contain other lists within them, like nesting dolls! Here are a few examples of lists:"
   ]
  },
  {
   "cell_type": "code",
   "execution_count": 32,
   "metadata": {
    "id": "DZXbq6Q_sLbI"
   },
   "outputs": [],
   "source": [
    "emptylist = [] # An empty list\n",
    "integerlist = [1,2,3,4,5,6] # A list of integers\n",
    "stringlist = ['string1', 'string2', 'string3'] # A list of strings\n",
    "mixedlist = [10, \"some string\", 4.2, 2, 'some other string'] # A list of mixed data types\n",
    "nestedlist = [['dog','cat','pig'], [1,2,3,4], [10,\"some string\",4.2,2,'some other string'] ] # a nested list  - note sublists do not have to have same lengths"
   ]
  },
  {
   "cell_type": "markdown",
   "metadata": {
    "id": "FcT6HX2wsLbI"
   },
   "source": [
    "### Indexing and slicing"
   ]
  },
  {
   "cell_type": "markdown",
   "metadata": {
    "id": "fB3n-g--sLbI"
   },
   "source": [
    "Lists, tuples and strings are what as known as sequential data types. This means that they can be manipulated in ways similar to arrays in Matlab and C++. Do note though, we'll be handling matrices and numeric arrays separately using the Numpy package, which we'll dive into later in this week's lectures.\n",
    "\n",
    "Because strings and lists behave like array-like objects, you can index and slice out individual elements or even groups of elements from them.\n",
    "\n",
    "** <font color='red'>Heads up! In Python, all array-like objects start their indexing from 0, not 1 (as in Matlab)</font>  **\n",
    "\n",
    "Now, let's see this in action with the list objects we've defined above:"
   ]
  },
  {
   "cell_type": "code",
   "execution_count": 33,
   "metadata": {
    "id": "2a5bFBHmsLbI",
    "outputId": "02436f4f-805a-461a-c7e4-0c2d81ed30ec"
   },
   "outputs": [
    {
     "name": "stdout",
     "output_type": "stream",
     "text": [
      "The third element of integerlist is 3\n",
      "The fourth element of mixedlist is 2\n",
      "The seventh element of teststr is W\n"
     ]
    }
   ],
   "source": [
    "teststr = 'Hello World'\n",
    "\n",
    "print('The third element of integerlist is', integerlist[2])\n",
    "print('The fourth element of mixedlist is', mixedlist[3])\n",
    "print('The seventh element of teststr is', teststr[6])"
   ]
  },
  {
   "cell_type": "markdown",
   "metadata": {
    "id": "NQBlD4J9sLbI"
   },
   "source": [
    "You can totally do indexing in reverse too! When we talk about indexing, we usually think about going from the start and counting forward. But here's the cool part: you can flip it around and count backward instead!\n",
    "\n",
    "Isn't it great to have options? In some programming languages, like Python, you can use negative indexes to access elements from the end of a sequence.\n",
    "\n",
    "So, next time you're working with a list or an array, remember that reverse indexing is your new friend. It opens up a whole new world of possibilities! Give it a try and have fun exploring this neat feature."
   ]
  },
  {
   "cell_type": "code",
   "execution_count": 34,
   "metadata": {
    "id": "f-X-pC6qsLbI",
    "outputId": "dd62599c-77e4-4d6e-d6a2-36c2359708db",
    "scrolled": true
   },
   "outputs": [
    {
     "name": "stdout",
     "output_type": "stream",
     "text": [
      "The last element of integerlist is 6\n"
     ]
    }
   ],
   "source": [
    "print('The last element of integerlist is', integerlist[-1])"
   ]
  },
  {
   "cell_type": "markdown",
   "metadata": {
    "id": "QjBkOxojsLbJ"
   },
   "source": [
    "We can also slice different elements of lists using syntax ```my_list[start:stop:step]```.\n",
    "\n",
    "Slicing is an awesome feature that lets you extract different elements from a list using the syntax ```my_list[start:stop:step]```.\n",
    "\n",
    "But here's an important detail to keep in mind: when you use **slice indexing, it takes all the elements up to, but not including, the last index you specify**. So it's like saying, \"Give me everything up to that point, but don't include the element at the last index.\"\n",
    "\n",
    "Let's take a closer look with an example to make it crystal clear:"
   ]
  },
  {
   "cell_type": "code",
   "execution_count": 35,
   "metadata": {
    "id": "Ylw2zVrLsLbJ",
    "outputId": "d0ddd2bc-bf0d-46de-deb7-eb3b75475367"
   },
   "outputs": [
    {
     "name": "stdout",
     "output_type": "stream",
     "text": [
      "Elements 2-3 of integerlist [3, 4]\n",
      "Slicing from the beginning to the 5th element [1, 2, 3, 4, 5]\n",
      "slicing from the 5th element to the end [5, 6]\n",
      "slicing from the 5th element to the penultimate value [5]\n"
     ]
    }
   ],
   "source": [
    "# note slice indexing takes all elements up to but not including the last index\n",
    "print('Elements 2-3 of integerlist', integerlist[2:4])\n",
    "print('Slicing from the beginning to the 5th element', integerlist[:5])\n",
    "print('slicing from the 5th element to the end', integerlist[4:])\n",
    "print('slicing from the 5th element to the penultimate value', integerlist[4:-1])"
   ]
  },
  {
   "cell_type": "markdown",
   "metadata": {
    "id": "Jx2swRW1sLbJ"
   },
   "source": [
    "Using the `step` notation in slicing allows you to extract every other element within a range. It's like skipping some elements and cherry-picking the ones you want."
   ]
  },
  {
   "cell_type": "code",
   "execution_count": 36,
   "metadata": {
    "id": "CGRzNxKQsLbJ",
    "outputId": "8b811a06-2978-4b13-ce74-3cef229d9fd7"
   },
   "outputs": [
    {
     "name": "stdout",
     "output_type": "stream",
     "text": [
      "Every other element of integerlist from beginning to end [1, 3, 5]\n"
     ]
    }
   ],
   "source": [
    "print('Every other element of integerlist from beginning to end', integerlist[0::2])"
   ]
  },
  {
   "cell_type": "markdown",
   "metadata": {
    "id": "JURj87GVsLbJ"
   },
   "source": [
    "You can use the `in` operator to check whether elements are present within a list. It's like having a handy tool to quickly find out if a particular element exists in your list."
   ]
  },
  {
   "cell_type": "code",
   "execution_count": 37,
   "metadata": {
    "id": "GpUvp952sLbJ",
    "outputId": "18e194a0-425f-4aef-c105-25e0562b91bf"
   },
   "outputs": [
    {
     "name": "stdout",
     "output_type": "stream",
     "text": [
      "Is 3 in integerlist? True\n",
      "Is 0 in integerlist? False\n"
     ]
    }
   ],
   "source": [
    "print('Is 3 in integerlist?', 3 in integerlist)\n",
    "print('Is 0 in integerlist?', 0 in integerlist)"
   ]
  },
  {
   "cell_type": "markdown",
   "metadata": {
    "id": "q9D92g9msLbJ"
   },
   "source": [
    "**To do**\n",
    "\n",
    "Let's have some fun trying out indexing and slicing with the provided lists and strings, and even create our very own lists to play around with. Get ready for some hands-on experimentation! Do they return what you expect?"
   ]
  },
  {
   "cell_type": "code",
   "execution_count": 38,
   "metadata": {
    "id": "dh2vriGSsLbJ"
   },
   "outputs": [],
   "source": [
    "# To do - try indexing and slicing some lists and strings\n"
   ]
  },
  {
   "cell_type": "markdown",
   "metadata": {
    "id": "Qa4AVSk9sLbJ"
   },
   "source": [
    "### Assignment and mutation"
   ]
  },
  {
   "cell_type": "markdown",
   "metadata": {
    "id": "x0Jm_2SBsLbJ"
   },
   "source": [
    "You can increase the length of a list using the `append()` function! It's like giving your list a growth spurt and adding new elements to it.\n",
    "\n",
    "By using the `append()` function, you can easily add new elements to the end of your list. It's a handy way to dynamically increase the size of your list as you go."
   ]
  },
  {
   "cell_type": "code",
   "execution_count": 39,
   "metadata": {
    "id": "hLDMEmkhsLbJ",
    "outputId": "cc6a100c-6996-4555-fc89-fa888292e226"
   },
   "outputs": [
    {
     "name": "stdout",
     "output_type": "stream",
     "text": [
      "integerlist: [1, 2, 3, 4, 5, 6, 7]\n"
     ]
    }
   ],
   "source": [
    "integerlist.append(7)\n",
    "print('integerlist:', integerlist)"
   ]
  },
  {
   "cell_type": "markdown",
   "metadata": {
    "id": "W9jR1qsCsLbJ"
   },
   "source": [
    "Or insert to the middle of a list using ```insert(index,value)```"
   ]
  },
  {
   "cell_type": "code",
   "execution_count": 40,
   "metadata": {
    "id": "zoV-ncajsLbJ",
    "outputId": "2fc75b8a-e6d9-49e8-b54a-7eb941a421f0"
   },
   "outputs": [
    {
     "name": "stdout",
     "output_type": "stream",
     "text": [
      "new integer list [1, 2, 3, 100, 4, 5, 6, 7]\n"
     ]
    }
   ],
   "source": [
    "integerlist.insert(3, 100)\n",
    "print('new integer list', integerlist)"
   ]
  },
  {
   "cell_type": "markdown",
   "metadata": {
    "id": "5lmxnpKzsLbJ"
   },
   "source": [
    "When it comes to appending or inserting more than one object to a list, the `append()` and `insert()` methods are designed to handle a single argument at a time.\n",
    "\n",
    "Another approach is to use **concatenation**, which is performed using the `+` operator."
   ]
  },
  {
   "cell_type": "code",
   "execution_count": 41,
   "metadata": {
    "id": "ro2ZAZa_sLbK",
    "outputId": "dd9fb696-629a-433e-8aaf-1270ffe7a96e"
   },
   "outputs": [
    {
     "name": "stdout",
     "output_type": "stream",
     "text": [
      "[1, 2, 3, 100, 4, 5, 6, 7, 'string1', 'string2', 'string3']\n"
     ]
    }
   ],
   "source": [
    "mergedlist = integerlist + stringlist\n",
    "print(mergedlist)"
   ]
  },
  {
   "cell_type": "markdown",
   "metadata": {
    "id": "KgTVmNJSsLbK"
   },
   "source": [
    "If you want to find out the length of a list, you can use the `len()` function. It's like a measuring tape for lists, giving you the number of elements it contains."
   ]
  },
  {
   "cell_type": "code",
   "execution_count": 42,
   "metadata": {
    "id": "stLsRKGOsLbK",
    "outputId": "a7be6ba9-3a99-42ad-d552-dda219d54f0f"
   },
   "outputs": [
    {
     "name": "stdout",
     "output_type": "stream",
     "text": [
      "The length of integerlist is 8\n",
      "The length of teststr is 11\n"
     ]
    }
   ],
   "source": [
    "print('The length of integerlist is', len(integerlist))\n",
    "print('The length of teststr is', len(teststr))"
   ]
  },
  {
   "cell_type": "markdown",
   "metadata": {
    "id": "y5mcQoYwsLbK"
   },
   "source": [
    "Note, lists are **mutable** which means you can modify them by swapping out items with new ones. It's like having the power to update and change the elements within a list."
   ]
  },
  {
   "cell_type": "code",
   "execution_count": 43,
   "metadata": {
    "id": "IahjSLWDsLbK",
    "outputId": "7596c24b-586f-49dd-d4cf-eebc50154c12"
   },
   "outputs": [
    {
     "name": "stdout",
     "output_type": "stream",
     "text": [
      "['string1', 'string2', 3]\n"
     ]
    }
   ],
   "source": [
    "stringlist[2] = 3\n",
    "print(stringlist)"
   ]
  },
  {
   "cell_type": "markdown",
   "metadata": {
    "id": "pWGRa5gUsLbK"
   },
   "source": [
    "On the other hand strings and tuples are _**immutable**_; you cannot change them once created. Try running the following line of code and see what happens."
   ]
  },
  {
   "cell_type": "code",
   "execution_count": 44,
   "metadata": {
    "id": "gNnLASMSsLbK",
    "outputId": "a141e626-d7ef-4252-aa99-13c243792fee",
    "scrolled": true
   },
   "outputs": [
    {
     "name": "stdout",
     "output_type": "stream",
     "text": [
      "Error: <class 'TypeError'>\n"
     ]
    }
   ],
   "source": [
    "teststr = 'Hello World'\n",
    "try: # The try-except statements are used to catch exceptions (errors)\n",
    "    teststr[2]='a'\n",
    "except Exception as e:\n",
    "    print('Error:', type(e))"
   ]
  },
  {
   "cell_type": "markdown",
   "metadata": {
    "id": "EgRm1fMAsLbK"
   },
   "source": [
    "## 1.4. Tuples"
   ]
  },
  {
   "cell_type": "markdown",
   "metadata": {
    "id": "f_jzffU3sLbK"
   },
   "source": [
    "Tuples are immutable lists. They are defined analogously to lists, but with a crucial difference:\n",
    "\n",
    "- Once a tuple is created, we cannot add, remove or change items.\n",
    "\n",
    "- Tuples are defined by enclosing a set of elements in parentheses instead of square brackets (which are used for lists).\n",
    "\n",
    "Let's take a look at an example to see how tuples work:"
   ]
  },
  {
   "cell_type": "code",
   "execution_count": 45,
   "metadata": {
    "id": "rrybHJc-sLbK",
    "outputId": "051c7a58-ad7f-48cd-a06a-69c32a6036b0"
   },
   "outputs": [
    {
     "name": "stdout",
     "output_type": "stream",
     "text": [
      "mytuple 2nd item: Dog's\n"
     ]
    }
   ],
   "source": [
    "mytuple = (10, \"Dog's\", 4.2)\n",
    "print('mytuple 2nd item:', mytuple[1])"
   ]
  },
  {
   "cell_type": "markdown",
   "metadata": {
    "id": "OGPPz4wlsLbK"
   },
   "source": [
    "Tuples have certain advantages over lists, and their faster indexing speed is one of them. Since tuples are immutable, the Python interpreter can optimize their internal representation, making indexing operations faster compared to lists.\n",
    "\n",
    "In scenarios where program runtime is crucial and you have a collection of items that you know should remain fixed and unchangeable, using tuples can be advantageous. By using tuples, you ensure that the elements are permanently fixed in the structure, which allows for efficient indexing operations."
   ]
  },
  {
   "cell_type": "markdown",
   "metadata": {
    "id": "1bJnqABosLbK"
   },
   "source": [
    "## 1.5 Dictionaries\n",
    "\n",
    "In many ways, dictionaries share some similarities with lists, such as the ability to contain any type of object and be easily modified or appended at runtime. However, dictionaries have some distinct characteristics that set them apart.\n",
    "\n",
    "- One key difference is that dictionaries are unordered, meaning the elements within them do not have a specific order or sequence.\n",
    "\n",
    "- Instead of using numerical indices like lists, dictionaries use keys for indexing. Each key in a dictionary is associated with a value, allowing for efficient retrieval and modification of data based on those keys.\n",
    "\n",
    "Dictionaries can be defined in one line using curly braces `{}` or incrementally and specifying key-value pairs separated by colons. Here's an example:"
   ]
  },
  {
   "cell_type": "code",
   "execution_count": 46,
   "metadata": {
    "id": "KV8gRsnzsLbK",
    "outputId": "8e68e03d-b549-4b3b-e9df-04a08e65e014"
   },
   "outputs": [
    {
     "name": "stdout",
     "output_type": "stream",
     "text": [
      "{'name': 'John', 'age': 23, 'job': 'Lecturer', 'height': 190}\n",
      "{'name': 'John', 'age': 23, 'job': 'Lecturer', 'height': 190}\n"
     ]
    }
   ],
   "source": [
    "# empty dictionary - note curly brackets\n",
    "mydict = {}\n",
    "\n",
    "# define each key-value pair one at a time\n",
    "mydict['name'] ='John' # The key is 'name' the value is 'John')\n",
    "mydict['age'] = 23\n",
    "mydict['job'] = 'Lecturer'\n",
    "mydict['height'] = 190\n",
    "print(mydict)\n",
    "\n",
    "# inline definition (all key-value pairs initialised together in one line, separated by commas)\n",
    "# in this notation, keys come first, foloowed by colon, followed by the object they reference\n",
    "mydict_inline = {'name':'John', 'age':23, 'job':'Lecturer', 'height':190}\n",
    "print(mydict_inline)"
   ]
  },
  {
   "cell_type": "markdown",
   "metadata": {
    "id": "zOTXm89xsLbL"
   },
   "source": [
    "The keys e.g. 'name', 'age', etc. can be any immutable type. **This includes tuples**."
   ]
  },
  {
   "cell_type": "code",
   "execution_count": 47,
   "metadata": {
    "id": "8s7OzRBjsLbL"
   },
   "outputs": [],
   "source": [
    "mydict[5] = 'val1'\n",
    "mydict[3.2413] =' val2'\n",
    "mydict[(1,2,3)] = 'val3'"
   ]
  },
  {
   "cell_type": "markdown",
   "metadata": {
    "id": "uMO--jqesLbL"
   },
   "source": [
    "The objects ('Dave', 23, 'Lecturer', 190) can be **any type** which means dictionaries can store lists."
   ]
  },
  {
   "cell_type": "code",
   "execution_count": 48,
   "metadata": {
    "id": "r_EVTrsSsLbL"
   },
   "outputs": [],
   "source": [
    "mydict = {}\n",
    "mydict['name'] = 'Dave'\n",
    "mydict['age'] = 23\n",
    "mydict['job'] = 'Lecturer'\n",
    "mydict['height'] = 190\n",
    "mydict['phones'] = ['780-555-0123' , '780-555-4810']"
   ]
  },
  {
   "cell_type": "markdown",
   "metadata": {
    "id": "SGNB5QMnsLbL"
   },
   "source": [
    "What's also (hopefully) clear from the above is that you can easy append new keys to the dict at any time."
   ]
  },
  {
   "cell_type": "code",
   "execution_count": 49,
   "metadata": {
    "id": "bQEztno6sLbL"
   },
   "outputs": [],
   "source": [
    "mydict['weight'] = 80"
   ]
  },
  {
   "cell_type": "markdown",
   "metadata": {
    "id": "ESe55qBOsLbL"
   },
   "source": [
    "Further, **dictionary values are mutable** which means they can be changed."
   ]
  },
  {
   "cell_type": "code",
   "execution_count": 50,
   "metadata": {
    "id": "g0dpUftTsLbL",
    "outputId": "bf61b5f4-411c-4979-9fff-178b2a562486"
   },
   "outputs": [
    {
     "name": "stdout",
     "output_type": "stream",
     "text": [
      "{'name': 'June', 'age': 23, 'job': 'Lecturer', 'height': 190, 'phones': ['780-555-0123', '780-555-4810'], 'weight': 80}\n"
     ]
    }
   ],
   "source": [
    "mydict['name'] = 'June'\n",
    "print(mydict)"
   ]
  },
  {
   "cell_type": "markdown",
   "metadata": {
    "id": "ZQR2O7ujsLbL"
   },
   "source": [
    "Dictionary elements can be deleted using ```del mydict[key]```"
   ]
  },
  {
   "cell_type": "code",
   "execution_count": 51,
   "metadata": {
    "id": "wyx6f2-ZsLbL",
    "outputId": "2add8b58-5e85-4a9d-b6aa-547ed34be67e",
    "scrolled": true
   },
   "outputs": [
    {
     "name": "stdout",
     "output_type": "stream",
     "text": [
      "{'age': 23, 'job': 'Lecturer', 'height': 190, 'phones': ['780-555-0123', '780-555-4810'], 'weight': 80}\n"
     ]
    }
   ],
   "source": [
    "del mydict['name']\n",
    "print(mydict)"
   ]
  },
  {
   "cell_type": "markdown",
   "metadata": {
    "id": "Rl9fpeaIsLbL"
   },
   "source": [
    "But, what happens, if we try to access a key, i.e. a city, which is not contained in the dictionary? We raise a ```KeyError:```"
   ]
  },
  {
   "cell_type": "code",
   "execution_count": 52,
   "metadata": {
    "id": "-SaNjYGHsLbL",
    "outputId": "b1d60fae-c56e-47d9-b01b-e58f10f26175"
   },
   "outputs": [
    {
     "name": "stdout",
     "output_type": "stream",
     "text": [
      "Error: <class 'KeyError'>\n"
     ]
    }
   ],
   "source": [
    "try:\n",
    "    print(mydict['city'])\n",
    "except Exception as e:\n",
    "    print('Error:', type(e))"
   ]
  },
  {
   "cell_type": "markdown",
   "metadata": {
    "id": "ukor2XebsLbL"
   },
   "source": [
    "Note, dictionaries are not ordered therefore they cannot be searched sequentially, indexed or sliced (although key iterators exist and will be described in the next notebook). Otherwise many of the same functions that operate on lists, operate on dictionaries:"
   ]
  },
  {
   "cell_type": "code",
   "execution_count": 53,
   "metadata": {
    "id": "Cpvd9HhGsLbL",
    "outputId": "28067f5f-0491-42ac-885e-06fe545cb966"
   },
   "outputs": [
    {
     "name": "stdout",
     "output_type": "stream",
     "text": [
      "Number of key-value pairs in mydict: 5\n",
      "Is key 'name' in mydict: False\n"
     ]
    }
   ],
   "source": [
    "print('Number of key-value pairs in mydict:', len(mydict))\n",
    "print(\"Is key 'name' in mydict:\", 'name' in mydict) # note this is case sensitive; try changing 'name' to 'Name'"
   ]
  },
  {
   "cell_type": "markdown",
   "metadata": {
    "id": "F8mnB3FFsLbM"
   },
   "source": [
    "## Exercise 2: Dictionaries and Lists"
   ]
  },
  {
   "cell_type": "markdown",
   "metadata": {
    "id": "OkLlgJE9sLbM"
   },
   "source": [
    "**Exercise 2.1.** Lists:\n",
    "\n",
    "- Create an list of integers\n",
    "- Estimate the length of the list; print it out\n",
    "- Index the list at different points along its length\n",
    "- Take a slice of a subset of elements from the list\n",
    "- Append the list with a new item of a different type"
   ]
  },
  {
   "cell_type": "code",
   "execution_count": 54,
   "metadata": {
    "id": "eFLgPhXEsLbM"
   },
   "outputs": [],
   "source": [
    "#Complete responses to Ex 2.1 here, e.g. mylist=[1,2,3,4,5]\n",
    "\n",
    "\n",
    "# index elements at different lengths along the list\n",
    "\n",
    "\n",
    "# index the last element of your list\n",
    "\n",
    "\n",
    "# slice from the second to the third value\n",
    "\n",
    "\n",
    "# append\n",
    "\n"
   ]
  },
  {
   "cell_type": "markdown",
   "metadata": {
    "id": "7n3TD3tGsLbM"
   },
   "source": [
    "**Exercise 2.2.** Operations on sequential data types\n",
    "- Concatenate two strings, and two lists\n",
    "- Concatenate 10 copies of each string"
   ]
  },
  {
   "cell_type": "code",
   "execution_count": 55,
   "metadata": {
    "id": "X5K5Qo40sLbM"
   },
   "outputs": [],
   "source": [
    "#Complete responses to Ex 2.2 below\n",
    "string1='Hello'\n",
    "string2='World'\n",
    "list1=['Hello', 'World']\n",
    "list2=[\"I'm\", 'ready', 'to' 'Python']\n",
    "\n",
    "# Important - Never name your variables after data types\n",
    "#i.e. str='mystring', list=['some', 'list'] should never be used\n",
    "\n",
    "# Q1 Concatenate two strings, and two lists\n",
    "\n",
    "\n",
    "# Q2  Concatenate 10 copies of each string\n",
    "\n"
   ]
  },
  {
   "cell_type": "markdown",
   "metadata": {
    "id": "T6jvGPr6sLbM"
   },
   "source": [
    "**Exercise 2.3.** Mutable and Immutable objects\n",
    "- Try changing different elements of this string and list\n",
    "- Create a tuple, try to change"
   ]
  },
  {
   "cell_type": "code",
   "execution_count": 56,
   "metadata": {
    "id": "1PMquYdcsLbM"
   },
   "outputs": [],
   "source": [
    "#Complete responses to Ex 2.3 here\n",
    "mylist=['Is', 'this' ,'list' ,'mutable']\n",
    "mystring='Is this string Mutable'\n",
    "\n",
    "# change element 3 of mylist\n",
    "\n",
    "\n",
    "# change element 2 of mystring\n",
    "\n"
   ]
  }
 ],
 "metadata": {
  "colab": {
   "provenance": []
  },
  "kernelspec": {
   "display_name": "Python 3 (ipykernel)",
   "language": "python",
   "name": "python3"
  },
  "language_info": {
   "codemirror_mode": {
    "name": "ipython",
    "version": 3
   },
   "file_extension": ".py",
   "mimetype": "text/x-python",
   "name": "python",
   "nbconvert_exporter": "python",
   "pygments_lexer": "ipython3",
   "version": "3.11.4"
  }
 },
 "nbformat": 4,
 "nbformat_minor": 4
}
