{
 "cells": [
  {
   "cell_type": "markdown",
   "id": "57170492-140c-4d56-8e94-4a49232293ef",
   "metadata": {},
   "source": [
    "# Regression"
   ]
  },
  {
   "cell_type": "markdown",
   "id": "6320406c-7cb4-4c24-8773-fe1aa94795f1",
   "metadata": {},
   "source": [
    "## Application: neonatal brain growth\n",
    "\n",
    "- Around the time of birth the brain grows very quickly\n",
    "- Preterm birth alters brain development\n",
    "\n"
   ]
  },
  {
   "cell_type": "markdown",
   "id": "4519d6ff-afc0-4cfe-9592-ccbbe13f318e",
   "metadata": {},
   "source": []
  },
  {
   "cell_type": "markdown",
   "id": "2fe8f6db-e261-45eb-8d19-1483be8b96c6",
   "metadata": {},
   "source": []
  },
  {
   "cell_type": "markdown",
   "id": "bbd4be53-668b-4dbb-92dd-840f19ca9330",
   "metadata": {},
   "source": []
  },
  {
   "cell_type": "markdown",
   "id": "eb30d104-3cb7-4f8a-828c-ff9796f95495",
   "metadata": {},
   "source": []
  },
  {
   "cell_type": "markdown",
   "id": "476f761a-2ca5-4ce6-8f04-429246a6bc4c",
   "metadata": {},
   "source": []
  },
  {
   "cell_type": "markdown",
   "id": "78d1f798-6582-4779-bb5e-f5a5aa7740bf",
   "metadata": {},
   "source": []
  },
  {
   "cell_type": "markdown",
   "id": "7a35708e-7636-4e4b-af93-648971e6d87e",
   "metadata": {},
   "source": []
  },
  {
   "cell_type": "markdown",
   "id": "060197f4-f9f0-49fc-b031-eca7f7a2c0a1",
   "metadata": {},
   "source": [
    "## What is regression"
   ]
  },
  {
   "cell_type": "markdown",
   "id": "0022cc20-7696-41ac-82c7-318ad93038d9",
   "metadata": {},
   "source": [
    "## Linear vs. Nonlinear Regression"
   ]
  },
  {
   "cell_type": "markdown",
   "id": "9983bbdc-245d-4179-b9b0-3c64326c61bb",
   "metadata": {},
   "source": [
    "## Penalised Regression"
   ]
  },
  {
   "cell_type": "markdown",
   "id": "297d6c82-b7a5-4ef5-9799-6e377d0dda5d",
   "metadata": {},
   "source": [
    "## Types of Errors"
   ]
  },
  {
   "cell_type": "markdown",
   "id": "9ea9dcfc-5575-4490-99e7-672199c17510",
   "metadata": {},
   "source": [
    "## Scoring Regression Models"
   ]
  },
  {
   "cell_type": "markdown",
   "id": "1c7a64b7-2651-4b55-bffc-8f1cb05a226e",
   "metadata": {},
   "source": [
    "## How to select a type of regression model?"
   ]
  },
  {
   "cell_type": "markdown",
   "id": "725e66ad-178f-40b5-bf4f-242136c76ada",
   "metadata": {},
   "source": [
    "## Overfitting"
   ]
  },
  {
   "cell_type": "markdown",
   "id": "e566c739-cf22-4241-b65a-4cd7aa1d1840",
   "metadata": {},
   "source": [
    "## Grid Search"
   ]
  },
  {
   "cell_type": "markdown",
   "id": "42fc6717-99cc-4389-b4d2-f487b41185f5",
   "metadata": {},
   "source": [
    "## LinearRegression"
   ]
  },
  {
   "cell_type": "markdown",
   "id": "ad672818-8fb2-4bf6-8eda-c8dae4a642c1",
   "metadata": {},
   "source": [
    "## Normal Equation"
   ]
  },
  {
   "cell_type": "markdown",
   "id": "e0fa8d33-1fe0-43ed-b26e-0b7c00da0b1f",
   "metadata": {},
   "source": [
    "## Stochastic Gradient Descent"
   ]
  },
  {
   "cell_type": "markdown",
   "id": "fbde57b5-d1a2-45fc-9a6e-7100c28cb722",
   "metadata": {},
   "source": [
    "## Penalised Linear Regression"
   ]
  },
  {
   "cell_type": "markdown",
   "id": "f8b0c82c-58c0-47f3-abae-229457b9abca",
   "metadata": {},
   "source": [
    "## Nonlinear Regression"
   ]
  }
 ],
 "metadata": {
  "kernelspec": {
   "display_name": "Python 3 (ipykernel)",
   "language": "python",
   "name": "python3"
  },
  "language_info": {
   "codemirror_mode": {
    "name": "ipython",
    "version": 3
   },
   "file_extension": ".py",
   "mimetype": "text/x-python",
   "name": "python",
   "nbconvert_exporter": "python",
   "pygments_lexer": "ipython3",
   "version": "3.11.4"
  }
 },
 "nbformat": 4,
 "nbformat_minor": 5
}
