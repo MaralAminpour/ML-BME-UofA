{
 "cells": [
  {
   "cell_type": "markdown",
   "metadata": {},
   "source": [
    "# Tutorial session Week 3: Regression\n",
    "**Lecturer: Dr Maria Deprez**\n",
    "\n",
    "**Small tutorial groups:**\n",
    "* **Lindsay:** BEng A-B, BEng C-F\n",
    "* **Mariana:** BEng G-J, BEng K-L\n",
    "* **Cher:** BEng M-N, BEng P-T\n",
    "* **Maria:** BEng V-Z, MSc/MRes/MEng\n",
    "\n",
    "## Program \n",
    "### 10:00-10:15 am: Introduction and Q&A\n",
    "Given by the lecturer in the main channel **General**\n",
    "### 10:15-11:45 am: Tutorial\n",
    "In your small group tutorial channel with your TA/Lecturer\n",
    "### 11:45 am-12 pm: Q&A\n",
    "Return to the main channel for final remarks and Q&A about the tutorial\n",
    "\n",
    "**Note: solutions to exercises 1-4 available as videos on KEATS**\n",
    "\n",
    "## Content\n",
    "* **Exercises 1,2**: Multivariate linear regression\n",
    "* **Exercise 3**: Penalised regression\n",
    "* **Exercise 4**: Non-linear regression\n",
    "* **Exercise 5**: Your own kernel ridge regression"
   ]
  },
  {
   "cell_type": "markdown",
   "metadata": {},
   "source": [
    "## Tuning Ridge regression in sklearn\n",
    "\n",
    "We will recap how to tune models in `sklearn` using the example of `Ridge` regression\n",
    "\n",
    "### Load dataset with 86 features"
   ]
  },
  {
   "cell_type": "code",
   "execution_count": null,
   "metadata": {},
   "outputs": [],
   "source": [
    "import pandas as pd\n",
    "import numpy as np\n",
    "from sklearn.preprocessing import StandardScaler\n",
    "\n",
    "def CreateFeaturesTargets(filename):\n",
    "    \n",
    "    df = pd.read_csv(filename,header=None)\n",
    "    \n",
    "    # convert from 'DataFrame' to numpy array\n",
    "    data = df.values\n",
    "\n",
    "    # Features are in columns one to end\n",
    "    X = data[:,1:]\n",
    "    \n",
    "    # Scale features\n",
    "    X = StandardScaler().fit_transform(X)\n",
    "\n",
    "    # Labels are in the column zero\n",
    "    y = data[:,0]\n",
    "\n",
    "    # return Features and Labels\n",
    "    return X, y\n",
    "\n",
    "X,y = CreateFeaturesTargets('datasets/GA-brain-volumes-86-features.csv')"
   ]
  },
  {
   "cell_type": "markdown",
   "metadata": {},
   "source": [
    "### Un-tuned Ridge model"
   ]
  },
  {
   "cell_type": "code",
   "execution_count": null,
   "metadata": {},
   "outputs": [],
   "source": [
    "from sklearn.linear_model import Ridge\n",
    "from sklearn.model_selection import cross_val_score\n",
    "\n",
    "# choose ridge regression model\n",
    "model = Ridge()\n",
    "\n",
    "# fit and evaluate the model\n",
    "scores = cross_val_score(model,X,y)\n",
    "print('R2 score: ',round(scores.mean(),2))"
   ]
  },
  {
   "cell_type": "markdown",
   "metadata": {},
   "source": [
    "### Tune Ridge regression model"
   ]
  },
  {
   "cell_type": "code",
   "execution_count": null,
   "metadata": {},
   "outputs": [],
   "source": [
    "# grid for hyperparameter alpha \n",
    "parameters = {\"alpha\": np.logspace(-3,3,7)}\n",
    "print('parameter grid: ', parameters)"
   ]
  },
  {
   "cell_type": "code",
   "execution_count": null,
   "metadata": {},
   "outputs": [],
   "source": [
    "# create ridge model\n",
    "model = Ridge()"
   ]
  },
  {
   "cell_type": "code",
   "execution_count": null,
   "metadata": {},
   "outputs": [],
   "source": [
    "from sklearn.model_selection import GridSearchCV\n",
    "\n",
    "# perform grid search\n",
    "grid_search = GridSearchCV(model, parameters)\n",
    "grid_search.fit(X, y)\n",
    "\n",
    "# print best score\n",
    "print('R2 score: ',round(grid_search.best_score_,2))"
   ]
  },
  {
   "cell_type": "markdown",
   "metadata": {},
   "source": [
    "### Compare original and tuned alpha"
   ]
  },
  {
   "cell_type": "code",
   "execution_count": null,
   "metadata": {},
   "outputs": [],
   "source": [
    "print('Original alpha:', model.alpha)\n",
    "print('Tuned alpha:', grid_search.best_estimator_.alpha)"
   ]
  }
 ],
 "metadata": {
  "kernelspec": {
   "display_name": "Python 3",
   "language": "python",
   "name": "python3"
  },
  "language_info": {
   "codemirror_mode": {
    "name": "ipython",
    "version": 3
   },
   "file_extension": ".py",
   "mimetype": "text/x-python",
   "name": "python",
   "nbconvert_exporter": "python",
   "pygments_lexer": "ipython3",
   "version": "3.8.3"
  }
 },
 "nbformat": 4,
 "nbformat_minor": 4
}
