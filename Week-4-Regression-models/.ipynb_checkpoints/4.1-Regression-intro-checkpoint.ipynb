{
 "cells": [
  {
   "cell_type": "code",
   "execution_count": null,
   "id": "cbb51f8c-fde8-444e-aec8-f1ba4e9c8de4",
   "metadata": {},
   "outputs": [],
   "source": [
    "# Regression"
   ]
  },
  {
   "cell_type": "code",
   "execution_count": null,
   "id": "5bb9aeb1-ebe5-48d6-a9b4-b5d803aeba82",
   "metadata": {},
   "outputs": [],
   "source": [
    "## What is regression"
   ]
  },
  {
   "cell_type": "code",
   "execution_count": null,
   "id": "c1de0e94-ea60-496f-a1de-4e87ff7e9d53",
   "metadata": {},
   "outputs": [],
   "source": [
    "## Linear vs. Nonlinear Regression"
   ]
  },
  {
   "cell_type": "code",
   "execution_count": null,
   "id": "dff7f077-c654-4675-a97e-e18f1d8f6107",
   "metadata": {},
   "outputs": [],
   "source": [
    "## Penalised Regression"
   ]
  },
  {
   "cell_type": "code",
   "execution_count": null,
   "id": "1a9c0880-027e-4cfd-9b22-c145f67937cc",
   "metadata": {},
   "outputs": [],
   "source": [
    "## Types of Errors"
   ]
  },
  {
   "cell_type": "code",
   "execution_count": null,
   "id": "9feaf4c8-d4c4-4de4-9ed0-aa14337f38de",
   "metadata": {},
   "outputs": [],
   "source": [
    "## Scoring Regression Models"
   ]
  },
  {
   "cell_type": "code",
   "execution_count": null,
   "id": "a9118d07-da66-44f8-812f-9e76c111a8d6",
   "metadata": {},
   "outputs": [],
   "source": [
    "## How to select a type of regression model?"
   ]
  },
  {
   "cell_type": "code",
   "execution_count": null,
   "id": "8944d26a-329c-47fc-b22a-49496521f309",
   "metadata": {},
   "outputs": [],
   "source": [
    "## Overfitting"
   ]
  },
  {
   "cell_type": "code",
   "execution_count": null,
   "id": "309c9321-c2fa-4b6a-add2-e9a37389cf3e",
   "metadata": {},
   "outputs": [],
   "source": [
    "## Grid Search"
   ]
  },
  {
   "cell_type": "code",
   "execution_count": null,
   "id": "5ca99b7a-617f-4c07-973c-221aef9e0908",
   "metadata": {},
   "outputs": [],
   "source": [
    "## LinearRegression"
   ]
  },
  {
   "cell_type": "code",
   "execution_count": null,
   "id": "70e5318d-8905-4e4b-a87d-339956c14916",
   "metadata": {},
   "outputs": [],
   "source": [
    "## Normal Equation"
   ]
  },
  {
   "cell_type": "code",
   "execution_count": null,
   "id": "063faba2-eb42-43cd-a37e-76b24fd20f38",
   "metadata": {},
   "outputs": [],
   "source": [
    "## Stochastic Gradient Descent"
   ]
  },
  {
   "cell_type": "code",
   "execution_count": null,
   "id": "4206f8ee-aa93-4f5d-8a0c-140ef788a200",
   "metadata": {},
   "outputs": [],
   "source": [
    "## Penalised Linear Regression"
   ]
  },
  {
   "cell_type": "code",
   "execution_count": null,
   "id": "efd226cc-023f-4dab-ad3d-062f68527b14",
   "metadata": {},
   "outputs": [],
   "source": [
    "## Nonlinear Regression"
   ]
  },
  {
   "cell_type": "code",
   "execution_count": null,
   "id": "cc0f5581-760f-4122-ae9c-db23b6de2c70",
   "metadata": {},
   "outputs": [],
   "source": []
  },
  {
   "cell_type": "code",
   "execution_count": null,
   "id": "46c90659-7422-484c-8d82-5011df00162e",
   "metadata": {},
   "outputs": [],
   "source": []
  },
  {
   "cell_type": "code",
   "execution_count": null,
   "id": "9f8d0a78-3a6d-4ed6-9d9b-6596ff44e306",
   "metadata": {},
   "outputs": [],
   "source": []
  },
  {
   "cell_type": "code",
   "execution_count": null,
   "id": "e9e41359-f661-45b8-ad0f-0fbc58e189fa",
   "metadata": {},
   "outputs": [],
   "source": []
  },
  {
   "cell_type": "code",
   "execution_count": null,
   "id": "6fd92f91-cd8e-4b27-aa74-ef7bb6821ed9",
   "metadata": {},
   "outputs": [],
   "source": []
  },
  {
   "cell_type": "code",
   "execution_count": null,
   "id": "1ac7c296-c82b-453c-b5f8-03d91e82084d",
   "metadata": {},
   "outputs": [],
   "source": []
  },
  {
   "cell_type": "code",
   "execution_count": null,
   "id": "aad944a2-5e45-45df-bc3c-82edbca69e7a",
   "metadata": {},
   "outputs": [],
   "source": []
  },
  {
   "cell_type": "code",
   "execution_count": null,
   "id": "f24ff68d-6402-4c62-8240-dacb26c04018",
   "metadata": {},
   "outputs": [],
   "source": []
  },
  {
   "cell_type": "code",
   "execution_count": null,
   "id": "50a060c6-2288-4458-a347-c57df882e79b",
   "metadata": {},
   "outputs": [],
   "source": []
  },
  {
   "cell_type": "code",
   "execution_count": null,
   "id": "463c81e1-781c-4d63-8e9d-00f1d5400bf1",
   "metadata": {},
   "outputs": [],
   "source": []
  },
  {
   "cell_type": "code",
   "execution_count": null,
   "id": "ecd1ead7-12e4-4fad-b84e-18c4d460f061",
   "metadata": {},
   "outputs": [],
   "source": []
  },
  {
   "cell_type": "code",
   "execution_count": null,
   "id": "2b36c3ff-e6ac-4ca8-a8f1-6d014ff7adf5",
   "metadata": {},
   "outputs": [],
   "source": []
  },
  {
   "cell_type": "code",
   "execution_count": null,
   "id": "f5310ee5-a177-402f-af59-1bde136050b4",
   "metadata": {},
   "outputs": [],
   "source": []
  },
  {
   "cell_type": "code",
   "execution_count": null,
   "id": "bd7a5e21-1d91-4bf8-b5bf-1e06c59cad50",
   "metadata": {},
   "outputs": [],
   "source": []
  }
 ],
 "metadata": {
  "kernelspec": {
   "display_name": "Python 3 (ipykernel)",
   "language": "python",
   "name": "python3"
  },
  "language_info": {
   "codemirror_mode": {
    "name": "ipython",
    "version": 3
   },
   "file_extension": ".py",
   "mimetype": "text/x-python",
   "name": "python",
   "nbconvert_exporter": "python",
   "pygments_lexer": "ipython3",
   "version": "3.11.4"
  }
 },
 "nbformat": 4,
 "nbformat_minor": 5
}
